{
 "cells": [
  {
   "cell_type": "code",
   "execution_count": 1,
   "metadata": {
    "id": "jD3k1clM1bVf"
   },
   "outputs": [],
   "source": [
    "import pandas as pd\n",
    "import numpy as np\n",
    "import matplotlib.pyplot as plt\n",
    "import seaborn as sns\n",
    "import datetime\n",
    "from sklearn import linear_model\n",
    "import statsmodels.api as sm\n",
    "\n",
    "try:\n",
    "  import category_encoders\n",
    "  import timestring\n",
    "  import dateutil\n",
    "except:\n",
    "  !pip install category_encoders\n",
    "  !pip install timestring\n",
    "  !pip install dateutil\n",
    "  print('Installed and Imported!')\n",
    "  import timestring\n",
    "  import category_encoders as ce\n",
    "  import dateutil"
   ]
  },
  {
   "cell_type": "code",
   "execution_count": 2,
   "metadata": {
    "id": "XEQZj3MO40pE"
   },
   "outputs": [],
   "source": [
    "#Train data\n",
    "url = 'https://raw.githubusercontent.com/vanadnarayane26/KDAG-Competition/main/train.csv'\n",
    "df = pd.read_csv(url)"
   ]
  },
  {
   "cell_type": "code",
   "execution_count": 3,
   "metadata": {
    "id": "JKjd0qLPWvhA"
   },
   "outputs": [],
   "source": [
    "df_train = df.copy()"
   ]
  },
  {
   "cell_type": "code",
   "execution_count": 4,
   "metadata": {
    "id": "cyV7M52tWfR6"
   },
   "outputs": [],
   "source": [
    "#Test data\n",
    "url_test = 'https://raw.githubusercontent.com/vanadnarayane26/KDAG-Competition/main/test.csv'\n",
    "df_test = pd.read_csv(url_test)"
   ]
  },
  {
   "cell_type": "code",
   "execution_count": 5,
   "metadata": {
    "id": "3rn6vbgQWymD"
   },
   "outputs": [],
   "source": [
    "df_test_copy = df_test.copy()"
   ]
  },
  {
   "cell_type": "code",
   "execution_count": 6,
   "metadata": {
    "colab": {
     "base_uri": "https://localhost:8080/",
     "height": 296
    },
    "id": "ewHX1geA5D57",
    "outputId": "56317b00-8a0a-4747-f7cc-393cca2431be"
   },
   "outputs": [
    {
     "data": {
      "text/html": [
       "<div>\n",
       "<style scoped>\n",
       "    .dataframe tbody tr th:only-of-type {\n",
       "        vertical-align: middle;\n",
       "    }\n",
       "\n",
       "    .dataframe tbody tr th {\n",
       "        vertical-align: top;\n",
       "    }\n",
       "\n",
       "    .dataframe thead th {\n",
       "        text-align: right;\n",
       "    }\n",
       "</style>\n",
       "<table border=\"1\" class=\"dataframe\">\n",
       "  <thead>\n",
       "    <tr style=\"text-align: right;\">\n",
       "      <th></th>\n",
       "      <th>id</th>\n",
       "      <th>departure city</th>\n",
       "      <th>discount</th>\n",
       "      <th>price</th>\n",
       "      <th>no of items</th>\n",
       "      <th>location</th>\n",
       "      <th>class</th>\n",
       "      <th>segment</th>\n",
       "      <th>sub-class</th>\n",
       "      <th>delivery type</th>\n",
       "      <th>RID</th>\n",
       "      <th>profit</th>\n",
       "      <th>delivery date</th>\n",
       "      <th>address code</th>\n",
       "      <th>departure state</th>\n",
       "      <th>placement date</th>\n",
       "    </tr>\n",
       "  </thead>\n",
       "  <tbody>\n",
       "    <tr>\n",
       "      <th>0</th>\n",
       "      <td>1</td>\n",
       "      <td>Houston</td>\n",
       "      <td>0.2</td>\n",
       "      <td>16.448</td>\n",
       "      <td>2</td>\n",
       "      <td>Central</td>\n",
       "      <td>kariox</td>\n",
       "      <td>Consumer</td>\n",
       "      <td>phone</td>\n",
       "      <td>Standard Class</td>\n",
       "      <td>7981</td>\n",
       "      <td>5.5512</td>\n",
       "      <td>2018-01-01</td>\n",
       "      <td>77095</td>\n",
       "      <td>Texas</td>\n",
       "      <td>2018-01-01</td>\n",
       "    </tr>\n",
       "    <tr>\n",
       "      <th>1</th>\n",
       "      <td>2</td>\n",
       "      <td>Westland</td>\n",
       "      <td>0.0</td>\n",
       "      <td>29.700</td>\n",
       "      <td>5</td>\n",
       "      <td>Central</td>\n",
       "      <td>kariox</td>\n",
       "      <td>Consumer</td>\n",
       "      <td>headset</td>\n",
       "      <td>Standard Class</td>\n",
       "      <td>6334</td>\n",
       "      <td>13.3650</td>\n",
       "      <td>2018-01-01</td>\n",
       "      <td>48185</td>\n",
       "      <td>Michigan</td>\n",
       "      <td>2018-01-01</td>\n",
       "    </tr>\n",
       "    <tr>\n",
       "      <th>2</th>\n",
       "      <td>3</td>\n",
       "      <td>Westland</td>\n",
       "      <td>0.0</td>\n",
       "      <td>14.730</td>\n",
       "      <td>3</td>\n",
       "      <td>Central</td>\n",
       "      <td>qexty</td>\n",
       "      <td>Consumer</td>\n",
       "      <td>shorts</td>\n",
       "      <td>Standard Class</td>\n",
       "      <td>6333</td>\n",
       "      <td>4.8609</td>\n",
       "      <td>2018-01-01</td>\n",
       "      <td>48185</td>\n",
       "      <td>Michigan</td>\n",
       "      <td>2018-01-01</td>\n",
       "    </tr>\n",
       "    <tr>\n",
       "      <th>3</th>\n",
       "      <td>4</td>\n",
       "      <td>Westland</td>\n",
       "      <td>0.0</td>\n",
       "      <td>43.920</td>\n",
       "      <td>3</td>\n",
       "      <td>Central</td>\n",
       "      <td>kariox</td>\n",
       "      <td>Consumer</td>\n",
       "      <td>television</td>\n",
       "      <td>Standard Class</td>\n",
       "      <td>6332</td>\n",
       "      <td>12.7368</td>\n",
       "      <td>2018-01-01</td>\n",
       "      <td>48185</td>\n",
       "      <td>Michigan</td>\n",
       "      <td>2018-01-01</td>\n",
       "    </tr>\n",
       "    <tr>\n",
       "      <th>4</th>\n",
       "      <td>5</td>\n",
       "      <td>Westland</td>\n",
       "      <td>0.0</td>\n",
       "      <td>66.580</td>\n",
       "      <td>2</td>\n",
       "      <td>Central</td>\n",
       "      <td>kariox</td>\n",
       "      <td>Consumer</td>\n",
       "      <td>laptop</td>\n",
       "      <td>Standard Class</td>\n",
       "      <td>6331</td>\n",
       "      <td>15.9792</td>\n",
       "      <td>2018-01-01</td>\n",
       "      <td>48185</td>\n",
       "      <td>Michigan</td>\n",
       "      <td>2018-01-01</td>\n",
       "    </tr>\n",
       "  </tbody>\n",
       "</table>\n",
       "</div>"
      ],
      "text/plain": [
       "   id departure city  discount   price  no of items location   class  \\\n",
       "0   1        Houston       0.2  16.448            2  Central  kariox   \n",
       "1   2       Westland       0.0  29.700            5  Central  kariox   \n",
       "2   3       Westland       0.0  14.730            3  Central   qexty   \n",
       "3   4       Westland       0.0  43.920            3  Central  kariox   \n",
       "4   5       Westland       0.0  66.580            2  Central  kariox   \n",
       "\n",
       "    segment   sub-class   delivery type   RID   profit delivery date  \\\n",
       "0  Consumer       phone  Standard Class  7981   5.5512    2018-01-01   \n",
       "1  Consumer     headset  Standard Class  6334  13.3650    2018-01-01   \n",
       "2  Consumer      shorts  Standard Class  6333   4.8609    2018-01-01   \n",
       "3  Consumer  television  Standard Class  6332  12.7368    2018-01-01   \n",
       "4  Consumer      laptop  Standard Class  6331  15.9792    2018-01-01   \n",
       "\n",
       "   address code departure state placement date  \n",
       "0         77095           Texas     2018-01-01  \n",
       "1         48185        Michigan     2018-01-01  \n",
       "2         48185        Michigan     2018-01-01  \n",
       "3         48185        Michigan     2018-01-01  \n",
       "4         48185        Michigan     2018-01-01  "
      ]
     },
     "execution_count": 6,
     "metadata": {},
     "output_type": "execute_result"
    }
   ],
   "source": [
    "df.head()"
   ]
  },
  {
   "cell_type": "code",
   "execution_count": 7,
   "metadata": {
    "colab": {
     "base_uri": "https://localhost:8080/",
     "height": 316
    },
    "id": "jVUEDjwd5Qg0",
    "outputId": "4e7c9b67-fd5c-4668-927a-d7416c916476"
   },
   "outputs": [
    {
     "data": {
      "text/html": [
       "<div>\n",
       "<style scoped>\n",
       "    .dataframe tbody tr th:only-of-type {\n",
       "        vertical-align: middle;\n",
       "    }\n",
       "\n",
       "    .dataframe tbody tr th {\n",
       "        vertical-align: top;\n",
       "    }\n",
       "\n",
       "    .dataframe thead th {\n",
       "        text-align: right;\n",
       "    }\n",
       "</style>\n",
       "<table border=\"1\" class=\"dataframe\">\n",
       "  <thead>\n",
       "    <tr style=\"text-align: right;\">\n",
       "      <th></th>\n",
       "      <th>id</th>\n",
       "      <th>departure city</th>\n",
       "      <th>discount</th>\n",
       "      <th>price</th>\n",
       "      <th>no of items</th>\n",
       "      <th>location</th>\n",
       "      <th>class</th>\n",
       "      <th>segment</th>\n",
       "      <th>sub-class</th>\n",
       "      <th>delivery type</th>\n",
       "      <th>RID</th>\n",
       "      <th>profit</th>\n",
       "      <th>delivery date</th>\n",
       "      <th>address code</th>\n",
       "      <th>departure state</th>\n",
       "      <th>placement date</th>\n",
       "    </tr>\n",
       "  </thead>\n",
       "  <tbody>\n",
       "    <tr>\n",
       "      <th>6695</th>\n",
       "      <td>6696</td>\n",
       "      <td>Burlington</td>\n",
       "      <td>0.0</td>\n",
       "      <td>542.940</td>\n",
       "      <td>3</td>\n",
       "      <td>East</td>\n",
       "      <td>kariox</td>\n",
       "      <td>Consumer</td>\n",
       "      <td>battery</td>\n",
       "      <td>Standard Class</td>\n",
       "      <td>9389</td>\n",
       "      <td>152.0232</td>\n",
       "      <td>2021-01-01</td>\n",
       "      <td>5408</td>\n",
       "      <td>Vermont</td>\n",
       "      <td>2021-01-01</td>\n",
       "    </tr>\n",
       "    <tr>\n",
       "      <th>6696</th>\n",
       "      <td>6697</td>\n",
       "      <td>San Jose</td>\n",
       "      <td>0.2</td>\n",
       "      <td>276.784</td>\n",
       "      <td>2</td>\n",
       "      <td>West</td>\n",
       "      <td>kariox</td>\n",
       "      <td>Corporate</td>\n",
       "      <td>headset</td>\n",
       "      <td>Standard Class</td>\n",
       "      <td>9597</td>\n",
       "      <td>89.9548</td>\n",
       "      <td>2021-01-01</td>\n",
       "      <td>95123</td>\n",
       "      <td>California</td>\n",
       "      <td>2021-01-01</td>\n",
       "    </tr>\n",
       "    <tr>\n",
       "      <th>6697</th>\n",
       "      <td>6698</td>\n",
       "      <td>Burlington</td>\n",
       "      <td>0.0</td>\n",
       "      <td>2.040</td>\n",
       "      <td>1</td>\n",
       "      <td>East</td>\n",
       "      <td>kariox</td>\n",
       "      <td>Consumer</td>\n",
       "      <td>watch</td>\n",
       "      <td>Standard Class</td>\n",
       "      <td>9390</td>\n",
       "      <td>0.9588</td>\n",
       "      <td>2021-01-01</td>\n",
       "      <td>5408</td>\n",
       "      <td>Vermont</td>\n",
       "      <td>2021-01-01</td>\n",
       "    </tr>\n",
       "    <tr>\n",
       "      <th>6698</th>\n",
       "      <td>6699</td>\n",
       "      <td>New York City</td>\n",
       "      <td>0.1</td>\n",
       "      <td>207.846</td>\n",
       "      <td>3</td>\n",
       "      <td>East</td>\n",
       "      <td>qexty</td>\n",
       "      <td>Corporate</td>\n",
       "      <td>tshirts</td>\n",
       "      <td>Second Class</td>\n",
       "      <td>440</td>\n",
       "      <td>2.3094</td>\n",
       "      <td>2021-01-01</td>\n",
       "      <td>10024</td>\n",
       "      <td>New York</td>\n",
       "      <td>2021-01-01</td>\n",
       "    </tr>\n",
       "    <tr>\n",
       "      <th>6699</th>\n",
       "      <td>6700</td>\n",
       "      <td>Los Angeles</td>\n",
       "      <td>0.2</td>\n",
       "      <td>160.776</td>\n",
       "      <td>3</td>\n",
       "      <td>West</td>\n",
       "      <td>fynota</td>\n",
       "      <td>Consumer</td>\n",
       "      <td>colddrinks</td>\n",
       "      <td>Standard Class</td>\n",
       "      <td>1659</td>\n",
       "      <td>10.0485</td>\n",
       "      <td>2021-01-01</td>\n",
       "      <td>90045</td>\n",
       "      <td>California</td>\n",
       "      <td>2021-01-01</td>\n",
       "    </tr>\n",
       "  </tbody>\n",
       "</table>\n",
       "</div>"
      ],
      "text/plain": [
       "        id departure city  discount    price  no of items location   class  \\\n",
       "6695  6696     Burlington       0.0  542.940            3     East  kariox   \n",
       "6696  6697       San Jose       0.2  276.784            2     West  kariox   \n",
       "6697  6698     Burlington       0.0    2.040            1     East  kariox   \n",
       "6698  6699  New York City       0.1  207.846            3     East   qexty   \n",
       "6699  6700    Los Angeles       0.2  160.776            3     West  fynota   \n",
       "\n",
       "        segment   sub-class   delivery type   RID    profit delivery date  \\\n",
       "6695   Consumer     battery  Standard Class  9389  152.0232    2021-01-01   \n",
       "6696  Corporate     headset  Standard Class  9597   89.9548    2021-01-01   \n",
       "6697   Consumer       watch  Standard Class  9390    0.9588    2021-01-01   \n",
       "6698  Corporate     tshirts    Second Class   440    2.3094    2021-01-01   \n",
       "6699   Consumer  colddrinks  Standard Class  1659   10.0485    2021-01-01   \n",
       "\n",
       "      address code departure state placement date  \n",
       "6695          5408         Vermont     2021-01-01  \n",
       "6696         95123      California     2021-01-01  \n",
       "6697          5408         Vermont     2021-01-01  \n",
       "6698         10024        New York     2021-01-01  \n",
       "6699         90045      California     2021-01-01  "
      ]
     },
     "execution_count": 7,
     "metadata": {},
     "output_type": "execute_result"
    }
   ],
   "source": [
    "df.tail()"
   ]
  },
  {
   "cell_type": "code",
   "execution_count": 8,
   "metadata": {
    "colab": {
     "base_uri": "https://localhost:8080/"
    },
    "id": "keKpH4735i4_",
    "outputId": "bc0ec7fd-fe7c-4bcb-9e56-05e0c0c15573"
   },
   "outputs": [
    {
     "name": "stdout",
     "output_type": "stream",
     "text": [
      "<class 'pandas.core.frame.DataFrame'>\n",
      "RangeIndex: 6700 entries, 0 to 6699\n",
      "Data columns (total 16 columns):\n",
      " #   Column           Non-Null Count  Dtype  \n",
      "---  ------           --------------  -----  \n",
      " 0   id               6700 non-null   int64  \n",
      " 1   departure city   6700 non-null   object \n",
      " 2   discount         6700 non-null   float64\n",
      " 3   price            6700 non-null   float64\n",
      " 4   no of items      6700 non-null   int64  \n",
      " 5   location         6700 non-null   object \n",
      " 6   class            6700 non-null   object \n",
      " 7   segment          6700 non-null   object \n",
      " 8   sub-class        6700 non-null   object \n",
      " 9   delivery type    6699 non-null   object \n",
      " 10  RID              6700 non-null   int64  \n",
      " 11  profit           6700 non-null   float64\n",
      " 12  delivery date    6700 non-null   object \n",
      " 13  address code     6700 non-null   int64  \n",
      " 14  departure state  6700 non-null   object \n",
      " 15  placement date   6700 non-null   object \n",
      "dtypes: float64(3), int64(4), object(9)\n",
      "memory usage: 837.6+ KB\n"
     ]
    }
   ],
   "source": [
    "df.info()"
   ]
  },
  {
   "cell_type": "code",
   "execution_count": 9,
   "metadata": {
    "colab": {
     "base_uri": "https://localhost:8080/",
     "height": 284
    },
    "id": "f220eOCfbFzx",
    "outputId": "d0de9244-fcd3-46ec-9afe-c6f7fc810a43"
   },
   "outputs": [
    {
     "data": {
      "text/html": [
       "<div>\n",
       "<style scoped>\n",
       "    .dataframe tbody tr th:only-of-type {\n",
       "        vertical-align: middle;\n",
       "    }\n",
       "\n",
       "    .dataframe tbody tr th {\n",
       "        vertical-align: top;\n",
       "    }\n",
       "\n",
       "    .dataframe thead th {\n",
       "        text-align: right;\n",
       "    }\n",
       "</style>\n",
       "<table border=\"1\" class=\"dataframe\">\n",
       "  <thead>\n",
       "    <tr style=\"text-align: right;\">\n",
       "      <th></th>\n",
       "      <th>id</th>\n",
       "      <th>discount</th>\n",
       "      <th>price</th>\n",
       "      <th>no of items</th>\n",
       "      <th>RID</th>\n",
       "      <th>profit</th>\n",
       "      <th>address code</th>\n",
       "    </tr>\n",
       "  </thead>\n",
       "  <tbody>\n",
       "    <tr>\n",
       "      <th>count</th>\n",
       "      <td>6700.000000</td>\n",
       "      <td>6700.000000</td>\n",
       "      <td>6700.000000</td>\n",
       "      <td>6700.000000</td>\n",
       "      <td>6700.000000</td>\n",
       "      <td>6700.000000</td>\n",
       "      <td>6700.000000</td>\n",
       "    </tr>\n",
       "    <tr>\n",
       "      <th>mean</th>\n",
       "      <td>3350.500000</td>\n",
       "      <td>0.155876</td>\n",
       "      <td>234.424275</td>\n",
       "      <td>3.798507</td>\n",
       "      <td>4954.381791</td>\n",
       "      <td>29.121046</td>\n",
       "      <td>54719.073284</td>\n",
       "    </tr>\n",
       "    <tr>\n",
       "      <th>std</th>\n",
       "      <td>1934.267734</td>\n",
       "      <td>0.205922</td>\n",
       "      <td>641.440815</td>\n",
       "      <td>2.225327</td>\n",
       "      <td>2921.304952</td>\n",
       "      <td>230.712951</td>\n",
       "      <td>32092.421012</td>\n",
       "    </tr>\n",
       "    <tr>\n",
       "      <th>min</th>\n",
       "      <td>1.000000</td>\n",
       "      <td>0.000000</td>\n",
       "      <td>0.836000</td>\n",
       "      <td>1.000000</td>\n",
       "      <td>1.000000</td>\n",
       "      <td>-6599.978000</td>\n",
       "      <td>1040.000000</td>\n",
       "    </tr>\n",
       "    <tr>\n",
       "      <th>25%</th>\n",
       "      <td>1675.750000</td>\n",
       "      <td>0.000000</td>\n",
       "      <td>17.340000</td>\n",
       "      <td>2.000000</td>\n",
       "      <td>2389.750000</td>\n",
       "      <td>1.713750</td>\n",
       "      <td>22204.000000</td>\n",
       "    </tr>\n",
       "    <tr>\n",
       "      <th>50%</th>\n",
       "      <td>3350.500000</td>\n",
       "      <td>0.200000</td>\n",
       "      <td>54.960000</td>\n",
       "      <td>3.000000</td>\n",
       "      <td>4941.500000</td>\n",
       "      <td>8.803200</td>\n",
       "      <td>55113.000000</td>\n",
       "    </tr>\n",
       "    <tr>\n",
       "      <th>75%</th>\n",
       "      <td>5025.250000</td>\n",
       "      <td>0.200000</td>\n",
       "      <td>212.940000</td>\n",
       "      <td>5.000000</td>\n",
       "      <td>7507.250000</td>\n",
       "      <td>30.023400</td>\n",
       "      <td>90004.000000</td>\n",
       "    </tr>\n",
       "    <tr>\n",
       "      <th>max</th>\n",
       "      <td>6700.000000</td>\n",
       "      <td>0.800000</td>\n",
       "      <td>22638.480000</td>\n",
       "      <td>14.000000</td>\n",
       "      <td>9990.000000</td>\n",
       "      <td>8399.976000</td>\n",
       "      <td>99301.000000</td>\n",
       "    </tr>\n",
       "  </tbody>\n",
       "</table>\n",
       "</div>"
      ],
      "text/plain": [
       "                id     discount         price  no of items          RID  \\\n",
       "count  6700.000000  6700.000000   6700.000000  6700.000000  6700.000000   \n",
       "mean   3350.500000     0.155876    234.424275     3.798507  4954.381791   \n",
       "std    1934.267734     0.205922    641.440815     2.225327  2921.304952   \n",
       "min       1.000000     0.000000      0.836000     1.000000     1.000000   \n",
       "25%    1675.750000     0.000000     17.340000     2.000000  2389.750000   \n",
       "50%    3350.500000     0.200000     54.960000     3.000000  4941.500000   \n",
       "75%    5025.250000     0.200000    212.940000     5.000000  7507.250000   \n",
       "max    6700.000000     0.800000  22638.480000    14.000000  9990.000000   \n",
       "\n",
       "            profit  address code  \n",
       "count  6700.000000   6700.000000  \n",
       "mean     29.121046  54719.073284  \n",
       "std     230.712951  32092.421012  \n",
       "min   -6599.978000   1040.000000  \n",
       "25%       1.713750  22204.000000  \n",
       "50%       8.803200  55113.000000  \n",
       "75%      30.023400  90004.000000  \n",
       "max    8399.976000  99301.000000  "
      ]
     },
     "execution_count": 9,
     "metadata": {},
     "output_type": "execute_result"
    }
   ],
   "source": [
    "df.describe()"
   ]
  },
  {
   "cell_type": "code",
   "execution_count": 10,
   "metadata": {
    "colab": {
     "base_uri": "https://localhost:8080/"
    },
    "id": "Bem5uMO15kHT",
    "outputId": "00a9a82f-89bf-4444-a173-b96a06ec5048"
   },
   "outputs": [
    {
     "data": {
      "text/plain": [
       "562"
      ]
     },
     "execution_count": 10,
     "metadata": {},
     "output_type": "execute_result"
    }
   ],
   "source": [
    "len(df['address code'].unique())"
   ]
  },
  {
   "cell_type": "code",
   "execution_count": 11,
   "metadata": {
    "colab": {
     "base_uri": "https://localhost:8080/"
    },
    "id": "XwjllutOFtc6",
    "outputId": "ea10ea09-72a2-4cb5-dcca-7d547e211278"
   },
   "outputs": [
    {
     "data": {
      "text/plain": [
       "(3294, 15)"
      ]
     },
     "execution_count": 11,
     "metadata": {},
     "output_type": "execute_result"
    }
   ],
   "source": [
    "df_test.shape"
   ]
  },
  {
   "cell_type": "code",
   "execution_count": 12,
   "metadata": {
    "colab": {
     "base_uri": "https://localhost:8080/",
     "height": 333
    },
    "id": "I2TmN0SqbfJN",
    "outputId": "0203e56f-a322-48e9-b781-10900d1bca5c"
   },
   "outputs": [
    {
     "name": "stderr",
     "output_type": "stream",
     "text": [
      "C:\\ProgramData\\Anaconda3\\lib\\site-packages\\seaborn\\distributions.py:2551: FutureWarning: `distplot` is a deprecated function and will be removed in a future version. Please adapt your code to use either `displot` (a figure-level function with similar flexibility) or `histplot` (an axes-level function for histograms).\n",
      "  warnings.warn(msg, FutureWarning)\n"
     ]
    },
    {
     "data": {
      "image/png": "[encoded data removed]",
      "text/plain": [
       "<Figure size 432x288 with 1 Axes>"
      ]
     },
     "metadata": {
      "needs_background": "light"
     },
     "output_type": "display_data"
    }
   ],
   "source": [
    "sns.distplot(df['profit'])\n",
    "plt.show()"
   ]
  },
  {
   "cell_type": "markdown",
   "metadata": {
    "id": "Xeov2w7Fcf53"
   },
   "source": [
    "# **EDA**"
   ]
  },
  {
   "cell_type": "markdown",
   "metadata": {
    "id": "BGeFawDuZ1g8"
   },
   "source": [
    "# New Section"
   ]
  },
  {
   "cell_type": "code",
   "execution_count": 13,
   "metadata": {
    "id": "8dA_H39kFCI1"
   },
   "outputs": [],
   "source": [
    "df['placement date']=pd.to_datetime(df['placement date'])"
   ]
  },
  {
   "cell_type": "code",
   "execution_count": 14,
   "metadata": {
    "id": "WWGE5kRKFqoY"
   },
   "outputs": [],
   "source": [
    "df_test['placement date']=pd.to_datetime(df_test['placement date'])"
   ]
  },
  {
   "cell_type": "code",
   "execution_count": 15,
   "metadata": {
    "colab": {
     "base_uri": "https://localhost:8080/",
     "height": 195
    },
    "id": "8mm14DHLF4oV",
    "outputId": "ab285f25-bbf7-4319-b919-7845f54665f2"
   },
   "outputs": [
    {
     "data": {
      "text/html": [
       "<div>\n",
       "<style scoped>\n",
       "    .dataframe tbody tr th:only-of-type {\n",
       "        vertical-align: middle;\n",
       "    }\n",
       "\n",
       "    .dataframe tbody tr th {\n",
       "        vertical-align: top;\n",
       "    }\n",
       "\n",
       "    .dataframe thead th {\n",
       "        text-align: right;\n",
       "    }\n",
       "</style>\n",
       "<table border=\"1\" class=\"dataframe\">\n",
       "  <thead>\n",
       "    <tr style=\"text-align: right;\">\n",
       "      <th></th>\n",
       "      <th>placement date</th>\n",
       "      <th>month</th>\n",
       "    </tr>\n",
       "  </thead>\n",
       "  <tbody>\n",
       "    <tr>\n",
       "      <th>0</th>\n",
       "      <td>2018-01-01</td>\n",
       "      <td>1</td>\n",
       "    </tr>\n",
       "    <tr>\n",
       "      <th>1</th>\n",
       "      <td>2018-01-01</td>\n",
       "      <td>1</td>\n",
       "    </tr>\n",
       "    <tr>\n",
       "      <th>2</th>\n",
       "      <td>2018-01-01</td>\n",
       "      <td>1</td>\n",
       "    </tr>\n",
       "    <tr>\n",
       "      <th>3</th>\n",
       "      <td>2018-01-01</td>\n",
       "      <td>1</td>\n",
       "    </tr>\n",
       "    <tr>\n",
       "      <th>4</th>\n",
       "      <td>2018-01-01</td>\n",
       "      <td>1</td>\n",
       "    </tr>\n",
       "  </tbody>\n",
       "</table>\n",
       "</div>"
      ],
      "text/plain": [
       "  placement date  month\n",
       "0     2018-01-01      1\n",
       "1     2018-01-01      1\n",
       "2     2018-01-01      1\n",
       "3     2018-01-01      1\n",
       "4     2018-01-01      1"
      ]
     },
     "execution_count": 15,
     "metadata": {},
     "output_type": "execute_result"
    }
   ],
   "source": [
    "df['month'] = df['placement date'].dt.month\n",
    "df[['placement date','month']].head()"
   ]
  },
  {
   "cell_type": "code",
   "execution_count": 16,
   "metadata": {
    "colab": {
     "base_uri": "https://localhost:8080/",
     "height": 195
    },
    "id": "bjiwYMCJGUG1",
    "outputId": "0b2c992f-7ad0-4333-ff1c-f4951ddab74b"
   },
   "outputs": [
    {
     "data": {
      "text/html": [
       "<div>\n",
       "<style scoped>\n",
       "    .dataframe tbody tr th:only-of-type {\n",
       "        vertical-align: middle;\n",
       "    }\n",
       "\n",
       "    .dataframe tbody tr th {\n",
       "        vertical-align: top;\n",
       "    }\n",
       "\n",
       "    .dataframe thead th {\n",
       "        text-align: right;\n",
       "    }\n",
       "</style>\n",
       "<table border=\"1\" class=\"dataframe\">\n",
       "  <thead>\n",
       "    <tr style=\"text-align: right;\">\n",
       "      <th></th>\n",
       "      <th>placement date</th>\n",
       "      <th>month</th>\n",
       "    </tr>\n",
       "  </thead>\n",
       "  <tbody>\n",
       "    <tr>\n",
       "      <th>0</th>\n",
       "      <td>2021-01-01</td>\n",
       "      <td>1</td>\n",
       "    </tr>\n",
       "    <tr>\n",
       "      <th>1</th>\n",
       "      <td>2021-01-01</td>\n",
       "      <td>1</td>\n",
       "    </tr>\n",
       "    <tr>\n",
       "      <th>2</th>\n",
       "      <td>2021-01-01</td>\n",
       "      <td>1</td>\n",
       "    </tr>\n",
       "    <tr>\n",
       "      <th>3</th>\n",
       "      <td>2021-01-01</td>\n",
       "      <td>1</td>\n",
       "    </tr>\n",
       "    <tr>\n",
       "      <th>4</th>\n",
       "      <td>2021-01-01</td>\n",
       "      <td>1</td>\n",
       "    </tr>\n",
       "  </tbody>\n",
       "</table>\n",
       "</div>"
      ],
      "text/plain": [
       "  placement date  month\n",
       "0     2021-01-01      1\n",
       "1     2021-01-01      1\n",
       "2     2021-01-01      1\n",
       "3     2021-01-01      1\n",
       "4     2021-01-01      1"
      ]
     },
     "execution_count": 16,
     "metadata": {},
     "output_type": "execute_result"
    }
   ],
   "source": [
    "df_test['month'] = df_test['placement date'].dt.month\n",
    "df_test[['placement date','month']].head()"
   ]
  },
  {
   "cell_type": "code",
   "execution_count": 17,
   "metadata": {
    "colab": {
     "base_uri": "https://localhost:8080/",
     "height": 195
    },
    "id": "0YCLpRkNF5up",
    "outputId": "d31a0b79-7403-49b2-da3b-0640903dbe0c"
   },
   "outputs": [
    {
     "data": {
      "text/html": [
       "<div>\n",
       "<style scoped>\n",
       "    .dataframe tbody tr th:only-of-type {\n",
       "        vertical-align: middle;\n",
       "    }\n",
       "\n",
       "    .dataframe tbody tr th {\n",
       "        vertical-align: top;\n",
       "    }\n",
       "\n",
       "    .dataframe thead th {\n",
       "        text-align: right;\n",
       "    }\n",
       "</style>\n",
       "<table border=\"1\" class=\"dataframe\">\n",
       "  <thead>\n",
       "    <tr style=\"text-align: right;\">\n",
       "      <th></th>\n",
       "      <th>placement date</th>\n",
       "      <th>quarter</th>\n",
       "    </tr>\n",
       "  </thead>\n",
       "  <tbody>\n",
       "    <tr>\n",
       "      <th>0</th>\n",
       "      <td>2018-01-01</td>\n",
       "      <td>1</td>\n",
       "    </tr>\n",
       "    <tr>\n",
       "      <th>1</th>\n",
       "      <td>2018-01-01</td>\n",
       "      <td>1</td>\n",
       "    </tr>\n",
       "    <tr>\n",
       "      <th>2</th>\n",
       "      <td>2018-01-01</td>\n",
       "      <td>1</td>\n",
       "    </tr>\n",
       "    <tr>\n",
       "      <th>3</th>\n",
       "      <td>2018-01-01</td>\n",
       "      <td>1</td>\n",
       "    </tr>\n",
       "    <tr>\n",
       "      <th>4</th>\n",
       "      <td>2018-01-01</td>\n",
       "      <td>1</td>\n",
       "    </tr>\n",
       "  </tbody>\n",
       "</table>\n",
       "</div>"
      ],
      "text/plain": [
       "  placement date  quarter\n",
       "0     2018-01-01        1\n",
       "1     2018-01-01        1\n",
       "2     2018-01-01        1\n",
       "3     2018-01-01        1\n",
       "4     2018-01-01        1"
      ]
     },
     "execution_count": 17,
     "metadata": {},
     "output_type": "execute_result"
    }
   ],
   "source": [
    "df['quarter'] = df['placement date'].dt.quarter\n",
    "df[['placement date','quarter']].head()"
   ]
  },
  {
   "cell_type": "code",
   "execution_count": 18,
   "metadata": {
    "colab": {
     "base_uri": "https://localhost:8080/",
     "height": 195
    },
    "id": "HlQYB_pHGqSY",
    "outputId": "c8f03085-5d26-400f-ea06-63202d489985"
   },
   "outputs": [
    {
     "data": {
      "text/html": [
       "<div>\n",
       "<style scoped>\n",
       "    .dataframe tbody tr th:only-of-type {\n",
       "        vertical-align: middle;\n",
       "    }\n",
       "\n",
       "    .dataframe tbody tr th {\n",
       "        vertical-align: top;\n",
       "    }\n",
       "\n",
       "    .dataframe thead th {\n",
       "        text-align: right;\n",
       "    }\n",
       "</style>\n",
       "<table border=\"1\" class=\"dataframe\">\n",
       "  <thead>\n",
       "    <tr style=\"text-align: right;\">\n",
       "      <th></th>\n",
       "      <th>placement date</th>\n",
       "      <th>quarter</th>\n",
       "    </tr>\n",
       "  </thead>\n",
       "  <tbody>\n",
       "    <tr>\n",
       "      <th>0</th>\n",
       "      <td>2021-01-01</td>\n",
       "      <td>1</td>\n",
       "    </tr>\n",
       "    <tr>\n",
       "      <th>1</th>\n",
       "      <td>2021-01-01</td>\n",
       "      <td>1</td>\n",
       "    </tr>\n",
       "    <tr>\n",
       "      <th>2</th>\n",
       "      <td>2021-01-01</td>\n",
       "      <td>1</td>\n",
       "    </tr>\n",
       "    <tr>\n",
       "      <th>3</th>\n",
       "      <td>2021-01-01</td>\n",
       "      <td>1</td>\n",
       "    </tr>\n",
       "    <tr>\n",
       "      <th>4</th>\n",
       "      <td>2021-01-01</td>\n",
       "      <td>1</td>\n",
       "    </tr>\n",
       "  </tbody>\n",
       "</table>\n",
       "</div>"
      ],
      "text/plain": [
       "  placement date  quarter\n",
       "0     2021-01-01        1\n",
       "1     2021-01-01        1\n",
       "2     2021-01-01        1\n",
       "3     2021-01-01        1\n",
       "4     2021-01-01        1"
      ]
     },
     "execution_count": 18,
     "metadata": {},
     "output_type": "execute_result"
    }
   ],
   "source": [
    "df_test['quarter'] = df_test['placement date'].dt.quarter\n",
    "df_test[['placement date','quarter']].head()"
   ]
  },
  {
   "cell_type": "code",
   "execution_count": 19,
   "metadata": {
    "id": "oheeliCTI4aP"
   },
   "outputs": [],
   "source": [
    "df=df.drop(['placement date'],axis=1)\n",
    "df_test=df_test.drop(['placement date'],axis=1)"
   ]
  },
  {
   "cell_type": "code",
   "execution_count": 20,
   "metadata": {
    "colab": {
     "base_uri": "https://localhost:8080/"
    },
    "id": "1GnHKcZBJShu",
    "outputId": "602a575a-1bc0-4b3b-e05c-de3cc19102f5"
   },
   "outputs": [
    {
     "data": {
      "text/plain": [
       "Index(['id', 'departure city', 'discount', 'price', 'no of items', 'location',\n",
       "       'class', 'segment', 'sub-class', 'delivery type', 'RID', 'profit',\n",
       "       'delivery date', 'address code', 'departure state', 'month', 'quarter'],\n",
       "      dtype='object')"
      ]
     },
     "execution_count": 20,
     "metadata": {},
     "output_type": "execute_result"
    }
   ],
   "source": [
    "df.columns"
   ]
  },
  {
   "cell_type": "markdown",
   "metadata": {
    "id": "6HhSsxH7cVQL"
   },
   "source": [
    "## ***Departure city***"
   ]
  },
  {
   "cell_type": "code",
   "execution_count": 21,
   "metadata": {
    "colab": {
     "base_uri": "https://localhost:8080/"
    },
    "id": "HDM-3JB_50ot",
    "outputId": "a2ddf728-9e6b-453a-a93d-0312a6f535b9"
   },
   "outputs": [
    {
     "data": {
      "text/plain": [
       "469"
      ]
     },
     "execution_count": 21,
     "metadata": {},
     "output_type": "execute_result"
    }
   ],
   "source": [
    "len(df['departure city'].unique())"
   ]
  },
  {
   "cell_type": "code",
   "execution_count": 22,
   "metadata": {
    "colab": {
     "base_uri": "https://localhost:8080/"
    },
    "id": "r0FNiJ38-VqR",
    "outputId": "f130c967-5edb-4852-95c0-ad86f71d8afc"
   },
   "outputs": [
    {
     "data": {
      "text/plain": [
       "count              6700\n",
       "unique              469\n",
       "top       New York City\n",
       "freq                610\n",
       "Name: departure city, dtype: object"
      ]
     },
     "execution_count": 22,
     "metadata": {},
     "output_type": "execute_result"
    }
   ],
   "source": [
    "df['departure city'].describe()"
   ]
  },
  {
   "cell_type": "code",
   "execution_count": 23,
   "metadata": {
    "colab": {
     "base_uri": "https://localhost:8080/",
     "height": 333
    },
    "id": "ZdrYsOTjJ41e",
    "outputId": "958113ca-aedf-4c13-8cad-9950ba143838"
   },
   "outputs": [
    {
     "name": "stderr",
     "output_type": "stream",
     "text": [
      "C:\\ProgramData\\Anaconda3\\lib\\site-packages\\seaborn\\_decorators.py:36: FutureWarning: Pass the following variables as keyword args: x, y. From version 0.12, the only valid positional argument will be `data`, and passing other arguments without an explicit keyword will result in an error or misinterpretation.\n",
      "  warnings.warn(\n"
     ]
    },
    {
     "data": {
      "image/png": "[encoded data removed]",
      "text/plain": [
       "<Figure size 432x288 with 1 Axes>"
      ]
     },
     "metadata": {
      "needs_background": "light"
     },
     "output_type": "display_data"
    }
   ],
   "source": [
    "#Categorical data will need encoding. Handle later\n",
    "sns.scatterplot(df['departure city'],df['profit'])\n",
    "plt.show()"
   ]
  },
  {
   "cell_type": "markdown",
   "metadata": {
    "id": "JoN5gqmmKfKb"
   },
   "source": [
    "## **Price**(skewed)"
   ]
  },
  {
   "cell_type": "code",
   "execution_count": 24,
   "metadata": {
    "colab": {
     "base_uri": "https://localhost:8080/"
    },
    "id": "_jatxUSoIS-u",
    "outputId": "024ee502-2221-49e5-c54f-41496871673f"
   },
   "outputs": [
    {
     "data": {
      "text/plain": [
       "count     6700.000000\n",
       "mean       234.424275\n",
       "std        641.440815\n",
       "min          0.836000\n",
       "25%         17.340000\n",
       "50%         54.960000\n",
       "75%        212.940000\n",
       "max      22638.480000\n",
       "Name: price, dtype: float64"
      ]
     },
     "execution_count": 24,
     "metadata": {},
     "output_type": "execute_result"
    }
   ],
   "source": [
    "df['price'].describe()"
   ]
  },
  {
   "cell_type": "markdown",
   "metadata": {
    "id": "aryhxCDQI66b"
   },
   "source": [
    "int continuous = box plot, scatter plot, remove outliers.\n",
    "float continous = box plot, scatter plot, remove outliers.\n",
    "object = barplot, catplot, stacked bar graph. missing values.\n",
    "categorical missing values = mode.\n",
    "int,float but categorical = = barplot, catplot, stacked bar graph. missing values.\n",
    "search feature engineering and (extraction)\n",
    "linear regression implementation through sklearn"
   ]
  },
  {
   "cell_type": "code",
   "execution_count": 25,
   "metadata": {
    "colab": {
     "base_uri": "https://localhost:8080/"
    },
    "id": "qJ_TEUf6KvUJ",
    "outputId": "c9f5f226-165f-489b-f564-92ba13c42baa"
   },
   "outputs": [
    {
     "data": {
      "text/plain": [
       "0"
      ]
     },
     "execution_count": 25,
     "metadata": {},
     "output_type": "execute_result"
    }
   ],
   "source": [
    "df['price'].isnull().sum()"
   ]
  },
  {
   "cell_type": "code",
   "execution_count": 26,
   "metadata": {
    "colab": {
     "base_uri": "https://localhost:8080/",
     "height": 333
    },
    "id": "JiVR1zVgK1Uo",
    "outputId": "e14ccdc7-bc05-427a-ddc5-2fa1c9523ed0"
   },
   "outputs": [
    {
     "name": "stderr",
     "output_type": "stream",
     "text": [
      "C:\\ProgramData\\Anaconda3\\lib\\site-packages\\seaborn\\distributions.py:2551: FutureWarning: `distplot` is a deprecated function and will be removed in a future version. Please adapt your code to use either `displot` (a figure-level function with similar flexibility) or `histplot` (an axes-level function for histograms).\n",
      "  warnings.warn(msg, FutureWarning)\n"
     ]
    },
    {
     "data": {
      "image/png": "[encoded data removed]",
      "text/plain": [
       "<Figure size 432x288 with 1 Axes>"
      ]
     },
     "metadata": {
      "needs_background": "light"
     },
     "output_type": "display_data"
    }
   ],
   "source": [
    "sns.distplot(df['price'])\n",
    "plt.show()"
   ]
  },
  {
   "cell_type": "code",
   "execution_count": 27,
   "metadata": {
    "colab": {
     "base_uri": "https://localhost:8080/",
     "height": 252
    },
    "id": "2lxc9DQ19iL8",
    "outputId": "38b67e50-bcfe-488c-f691-2bc69c27bc62"
   },
   "outputs": [
    {
     "data": {
      "image/png": "[encoded data removed]",
      "text/plain": [
       "<Figure size 432x288 with 1 Axes>"
      ]
     },
     "metadata": {
      "needs_background": "light"
     },
     "output_type": "display_data"
    }
   ],
   "source": [
    "sns.boxplot(y= df['price'])\n",
    "plt.show()"
   ]
  },
  {
   "cell_type": "code",
   "execution_count": 28,
   "metadata": {
    "colab": {
     "base_uri": "https://localhost:8080/",
     "height": 333
    },
    "id": "e6FWsO7jMjfy",
    "outputId": "4efd5c8a-0b0e-4761-ddf2-9b7ee56ba31a"
   },
   "outputs": [
    {
     "name": "stderr",
     "output_type": "stream",
     "text": [
      "C:\\ProgramData\\Anaconda3\\lib\\site-packages\\seaborn\\_decorators.py:36: FutureWarning: Pass the following variables as keyword args: x, y. From version 0.12, the only valid positional argument will be `data`, and passing other arguments without an explicit keyword will result in an error or misinterpretation.\n",
      "  warnings.warn(\n"
     ]
    },
    {
     "data": {
      "image/png": "[encoded data removed]",
      "text/plain": [
       "<Figure size 432x288 with 1 Axes>"
      ]
     },
     "metadata": {
      "needs_background": "light"
     },
     "output_type": "display_data"
    }
   ],
   "source": [
    "sns.scatterplot(df['price'],df['profit'])\n",
    "plt.show()"
   ]
  },
  {
   "cell_type": "markdown",
   "metadata": {
    "id": "KtMl-XwiQ286"
   },
   "source": [
    "## **no of items**"
   ]
  },
  {
   "cell_type": "code",
   "execution_count": 29,
   "metadata": {
    "colab": {
     "base_uri": "https://localhost:8080/"
    },
    "id": "aDYo8Xz1CPts",
    "outputId": "6ad56d1a-04e4-4cf6-ff9b-f34bcae4ad98"
   },
   "outputs": [
    {
     "data": {
      "text/plain": [
       "count    6700.000000\n",
       "mean        3.798507\n",
       "std         2.225327\n",
       "min         1.000000\n",
       "25%         2.000000\n",
       "50%         3.000000\n",
       "75%         5.000000\n",
       "max        14.000000\n",
       "Name: no of items, dtype: float64"
      ]
     },
     "execution_count": 29,
     "metadata": {},
     "output_type": "execute_result"
    }
   ],
   "source": [
    "df['no of items'].describe()"
   ]
  },
  {
   "cell_type": "code",
   "execution_count": 30,
   "metadata": {
    "colab": {
     "base_uri": "https://localhost:8080/",
     "height": 333
    },
    "id": "PcSshVdyDlil",
    "outputId": "c52e7523-d167-43f2-85f6-796a9cce563b"
   },
   "outputs": [
    {
     "name": "stderr",
     "output_type": "stream",
     "text": [
      "C:\\ProgramData\\Anaconda3\\lib\\site-packages\\seaborn\\distributions.py:2551: FutureWarning: `distplot` is a deprecated function and will be removed in a future version. Please adapt your code to use either `displot` (a figure-level function with similar flexibility) or `histplot` (an axes-level function for histograms).\n",
      "  warnings.warn(msg, FutureWarning)\n"
     ]
    },
    {
     "data": {
      "image/png": "[encoded data removed]",
      "text/plain": [
       "<Figure size 432x288 with 1 Axes>"
      ]
     },
     "metadata": {
      "needs_background": "light"
     },
     "output_type": "display_data"
    }
   ],
   "source": [
    "sns.distplot(df['no of items'])\n",
    "plt.show()"
   ]
  },
  {
   "cell_type": "code",
   "execution_count": 31,
   "metadata": {
    "colab": {
     "base_uri": "https://localhost:8080/",
     "height": 252
    },
    "id": "DOiSQ9cHFchs",
    "outputId": "bd9ee0a2-22f6-4a77-eea9-8882549ea768"
   },
   "outputs": [
    {
     "data": {
      "image/png": "[encoded data removed]",
      "text/plain": [
       "<Figure size 432x288 with 1 Axes>"
      ]
     },
     "metadata": {
      "needs_background": "light"
     },
     "output_type": "display_data"
    }
   ],
   "source": [
    "sns.boxplot(y = df['no of items'])\n",
    "plt.show()"
   ]
  },
  {
   "cell_type": "code",
   "execution_count": 32,
   "metadata": {
    "colab": {
     "base_uri": "https://localhost:8080/"
    },
    "id": "r9fk9GyCRWn8",
    "outputId": "8266368c-3823-4354-d974-98a989b1918e"
   },
   "outputs": [
    {
     "data": {
      "text/plain": [
       "array([ 2,  5,  3,  4,  1,  7,  6, 13,  8, 10,  9, 14, 12, 11],\n",
       "      dtype=int64)"
      ]
     },
     "execution_count": 32,
     "metadata": {},
     "output_type": "execute_result"
    }
   ],
   "source": [
    "df['no of items'].unique()"
   ]
  },
  {
   "cell_type": "code",
   "execution_count": 33,
   "metadata": {
    "colab": {
     "base_uri": "https://localhost:8080/",
     "height": 333
    },
    "id": "JJwqB-TTRq4B",
    "outputId": "c65c0e54-e7c0-4ca5-9315-a313c85cbd1b"
   },
   "outputs": [
    {
     "name": "stderr",
     "output_type": "stream",
     "text": [
      "C:\\ProgramData\\Anaconda3\\lib\\site-packages\\seaborn\\_decorators.py:36: FutureWarning: Pass the following variables as keyword args: x, y. From version 0.12, the only valid positional argument will be `data`, and passing other arguments without an explicit keyword will result in an error or misinterpretation.\n",
      "  warnings.warn(\n"
     ]
    },
    {
     "data": {
      "image/png": "[encoded data removed]",
      "text/plain": [
       "<Figure size 432x288 with 1 Axes>"
      ]
     },
     "metadata": {
      "needs_background": "light"
     },
     "output_type": "display_data"
    }
   ],
   "source": [
    "sns.barplot(df['no of items'],df['profit'])\n",
    "plt.show()"
   ]
  },
  {
   "cell_type": "code",
   "execution_count": 34,
   "metadata": {
    "colab": {
     "base_uri": "https://localhost:8080/",
     "height": 336
    },
    "id": "7wv-fZNrSD5a",
    "outputId": "69d939cf-0d81-4180-db71-0fc449faa322"
   },
   "outputs": [
    {
     "data": {
      "image/png": "[encoded data removed]",
      "text/plain": [
       "<Figure size 432x288 with 1 Axes>"
      ]
     },
     "metadata": {
      "needs_background": "light"
     },
     "output_type": "display_data"
    }
   ],
   "source": [
    "fig = plt.figure()\n",
    "ax = fig.add_axes([0,0,1,1])\n",
    "ax.bar(df['no of items'],df['profit'])\n",
    "plt.show()"
   ]
  },
  {
   "cell_type": "markdown",
   "metadata": {
    "id": "wHrwUJ_MS6JL"
   },
   "source": [
    "# **Discount**"
   ]
  },
  {
   "cell_type": "markdown",
   "metadata": {
    "id": "mVFEXXPEqpwc"
   },
   "source": [
    "# New Section"
   ]
  },
  {
   "cell_type": "code",
   "execution_count": 35,
   "metadata": {
    "colab": {
     "base_uri": "https://localhost:8080/"
    },
    "id": "rru4zkIsTBKS",
    "outputId": "359ac420-9fb2-4e40-9bba-b335c668998b"
   },
   "outputs": [
    {
     "data": {
      "text/plain": [
       "count    6700.000000\n",
       "mean        0.155876\n",
       "std         0.205922\n",
       "min         0.000000\n",
       "25%         0.000000\n",
       "50%         0.200000\n",
       "75%         0.200000\n",
       "max         0.800000\n",
       "Name: discount, dtype: float64"
      ]
     },
     "execution_count": 35,
     "metadata": {},
     "output_type": "execute_result"
    }
   ],
   "source": [
    "df['discount'].describe()"
   ]
  },
  {
   "cell_type": "code",
   "execution_count": 36,
   "metadata": {
    "colab": {
     "base_uri": "https://localhost:8080/"
    },
    "id": "NwC1uvobTMGN",
    "outputId": "d7de68d8-4224-44c2-8961-3a1e86fe2594"
   },
   "outputs": [
    {
     "data": {
      "text/plain": [
       "0.00    3220\n",
       "0.20    2437\n",
       "0.70     281\n",
       "0.80     193\n",
       "0.30     159\n",
       "0.40     137\n",
       "0.60      99\n",
       "0.10      68\n",
       "0.50      47\n",
       "0.15      36\n",
       "0.32      16\n",
       "0.45       7\n",
       "Name: discount, dtype: int64"
      ]
     },
     "execution_count": 36,
     "metadata": {},
     "output_type": "execute_result"
    }
   ],
   "source": [
    "df['discount'].value_counts()"
   ]
  },
  {
   "cell_type": "code",
   "execution_count": 37,
   "metadata": {
    "colab": {
     "base_uri": "https://localhost:8080/",
     "height": 252
    },
    "id": "QOaHJmtkTSqf",
    "outputId": "c0b80005-c058-4569-c1c9-b2c6f5e54d00"
   },
   "outputs": [
    {
     "data": {
      "image/png": "[encoded data removed]",
      "text/plain": [
       "<Figure size 432x288 with 1 Axes>"
      ]
     },
     "metadata": {
      "needs_background": "light"
     },
     "output_type": "display_data"
    }
   ],
   "source": [
    "sns.boxplot(y = df['discount'])\n",
    "plt.show()"
   ]
  },
  {
   "cell_type": "code",
   "execution_count": 38,
   "metadata": {
    "colab": {
     "base_uri": "https://localhost:8080/"
    },
    "id": "yQgV-gbOTjaP",
    "outputId": "6463775b-0974-4c7b-cbe8-dcaed3676ee6"
   },
   "outputs": [
    {
     "data": {
      "text/plain": [
       "array([0.2 , 0.  , 0.1 , 0.7 , 0.15, 0.8 , 0.6 , 0.4 , 0.5 , 0.3 , 0.32,\n",
       "       0.45])"
      ]
     },
     "execution_count": 38,
     "metadata": {},
     "output_type": "execute_result"
    }
   ],
   "source": [
    "df['discount'].unique()"
   ]
  },
  {
   "cell_type": "code",
   "execution_count": 39,
   "metadata": {
    "colab": {
     "base_uri": "https://localhost:8080/",
     "height": 333
    },
    "id": "PXourC3GVCDW",
    "outputId": "1014ee8f-8dd0-4e1a-cf4a-ae8a24101cb4"
   },
   "outputs": [
    {
     "name": "stderr",
     "output_type": "stream",
     "text": [
      "C:\\ProgramData\\Anaconda3\\lib\\site-packages\\seaborn\\distributions.py:2551: FutureWarning: `distplot` is a deprecated function and will be removed in a future version. Please adapt your code to use either `displot` (a figure-level function with similar flexibility) or `histplot` (an axes-level function for histograms).\n",
      "  warnings.warn(msg, FutureWarning)\n"
     ]
    },
    {
     "data": {
      "image/png": "[encoded data removed]",
      "text/plain": [
       "<Figure size 432x288 with 1 Axes>"
      ]
     },
     "metadata": {
      "needs_background": "light"
     },
     "output_type": "display_data"
    }
   ],
   "source": [
    "sns.distplot(df['discount'])\n",
    "plt.show()"
   ]
  },
  {
   "cell_type": "code",
   "execution_count": 40,
   "metadata": {
    "colab": {
     "base_uri": "https://localhost:8080/",
     "height": 333
    },
    "id": "iBST-bBSVcqz",
    "outputId": "9b3fb461-74df-4a0d-da81-8492ab7d0c9b"
   },
   "outputs": [
    {
     "name": "stderr",
     "output_type": "stream",
     "text": [
      "C:\\ProgramData\\Anaconda3\\lib\\site-packages\\seaborn\\_decorators.py:36: FutureWarning: Pass the following variables as keyword args: x, y. From version 0.12, the only valid positional argument will be `data`, and passing other arguments without an explicit keyword will result in an error or misinterpretation.\n",
      "  warnings.warn(\n"
     ]
    },
    {
     "data": {
      "image/png": "[encoded data removed]",
      "text/plain": [
       "<Figure size 432x288 with 1 Axes>"
      ]
     },
     "metadata": {
      "needs_background": "light"
     },
     "output_type": "display_data"
    }
   ],
   "source": [
    "sns.barplot(df['discount'],df['profit'])\n",
    "plt.show()"
   ]
  },
  {
   "cell_type": "markdown",
   "metadata": {
    "id": "CZM3pwEtXXq8"
   },
   "source": [
    "## **location**"
   ]
  },
  {
   "cell_type": "code",
   "execution_count": 41,
   "metadata": {
    "colab": {
     "base_uri": "https://localhost:8080/"
    },
    "id": "vx01bLf4V-qj",
    "outputId": "3873f9db-25ef-4623-e113-faa33f46a94d"
   },
   "outputs": [
    {
     "data": {
      "text/plain": [
       "array(['Central', 'South', 'West', 'East'], dtype=object)"
      ]
     },
     "execution_count": 41,
     "metadata": {},
     "output_type": "execute_result"
    }
   ],
   "source": [
    "df['location'].unique()"
   ]
  },
  {
   "cell_type": "code",
   "execution_count": 42,
   "metadata": {
    "colab": {
     "base_uri": "https://localhost:8080/"
    },
    "id": "YyWCgpK8XjJU",
    "outputId": "4cf9ee2a-eae8-48c1-9a52-d954e03ab454"
   },
   "outputs": [
    {
     "data": {
      "text/plain": [
       "count     6700\n",
       "unique       4\n",
       "top       West\n",
       "freq      2118\n",
       "Name: location, dtype: object"
      ]
     },
     "execution_count": 42,
     "metadata": {},
     "output_type": "execute_result"
    }
   ],
   "source": [
    "df['location'].describe()"
   ]
  },
  {
   "cell_type": "code",
   "execution_count": 43,
   "metadata": {
    "colab": {
     "base_uri": "https://localhost:8080/"
    },
    "id": "9zbGl_ZeX4tc",
    "outputId": "a7e8cd94-7c91-4396-871b-8e75e0d16c2d"
   },
   "outputs": [
    {
     "data": {
      "text/plain": [
       "0"
      ]
     },
     "execution_count": 43,
     "metadata": {},
     "output_type": "execute_result"
    }
   ],
   "source": [
    "df['location'].isnull().sum()"
   ]
  },
  {
   "cell_type": "code",
   "execution_count": 44,
   "metadata": {
    "colab": {
     "base_uri": "https://localhost:8080/",
     "height": 292
    },
    "id": "LUDCB48YX_CF",
    "outputId": "37bda941-946d-4cc5-e804-3c7f1c565186"
   },
   "outputs": [
    {
     "data": {
      "image/png": "[encoded data removed]",
      "text/plain": [
       "<Figure size 432x288 with 1 Axes>"
      ]
     },
     "metadata": {
      "needs_background": "light"
     },
     "output_type": "display_data"
    }
   ],
   "source": [
    "df['location'].value_counts().plot.bar()\n",
    "plt.show()"
   ]
  },
  {
   "cell_type": "code",
   "execution_count": 45,
   "metadata": {
    "colab": {
     "base_uri": "https://localhost:8080/",
     "height": 333
    },
    "id": "pTRR9sDMYNiB",
    "outputId": "b8ac5d59-cb87-4a5f-e184-1fbf1cee3d68"
   },
   "outputs": [
    {
     "name": "stderr",
     "output_type": "stream",
     "text": [
      "C:\\ProgramData\\Anaconda3\\lib\\site-packages\\seaborn\\_decorators.py:36: FutureWarning: Pass the following variables as keyword args: x, y. From version 0.12, the only valid positional argument will be `data`, and passing other arguments without an explicit keyword will result in an error or misinterpretation.\n",
      "  warnings.warn(\n"
     ]
    },
    {
     "data": {
      "image/png": "[encoded data removed]",
      "text/plain": [
       "<Figure size 432x288 with 1 Axes>"
      ]
     },
     "metadata": {
      "needs_background": "light"
     },
     "output_type": "display_data"
    }
   ],
   "source": [
    "sns.barplot(df['location'],df['profit'])\n",
    "plt.show()"
   ]
  },
  {
   "cell_type": "markdown",
   "metadata": {
    "id": "2volxugyZit8"
   },
   "source": [
    "## **Class**"
   ]
  },
  {
   "cell_type": "code",
   "execution_count": 46,
   "metadata": {
    "colab": {
     "base_uri": "https://localhost:8080/"
    },
    "id": "tJiyESS4YaBn",
    "outputId": "45ded88e-fe2e-4155-f944-25307e1a06b1"
   },
   "outputs": [
    {
     "data": {
      "text/plain": [
       "count       6700\n",
       "unique         3\n",
       "top       kariox\n",
       "freq        4034\n",
       "Name: class, dtype: object"
      ]
     },
     "execution_count": 46,
     "metadata": {},
     "output_type": "execute_result"
    }
   ],
   "source": [
    "df['class'].describe()"
   ]
  },
  {
   "cell_type": "code",
   "execution_count": 47,
   "metadata": {
    "colab": {
     "base_uri": "https://localhost:8080/"
    },
    "id": "dcv91zEiZvCg",
    "outputId": "3b1bb261-734c-4abe-cc5c-b5eb42a363b9"
   },
   "outputs": [
    {
     "data": {
      "text/plain": [
       "array(['kariox', 'qexty', 'fynota'], dtype=object)"
      ]
     },
     "execution_count": 47,
     "metadata": {},
     "output_type": "execute_result"
    }
   ],
   "source": [
    "df['class'].unique()"
   ]
  },
  {
   "cell_type": "code",
   "execution_count": 48,
   "metadata": {
    "colab": {
     "base_uri": "https://localhost:8080/",
     "height": 287
    },
    "id": "E_arSIjlZyHI",
    "outputId": "44137dae-4123-450b-b008-b1205ae6a36a"
   },
   "outputs": [
    {
     "data": {
      "image/png": "[encoded data removed]",
      "text/plain": [
       "<Figure size 432x288 with 1 Axes>"
      ]
     },
     "metadata": {
      "needs_background": "light"
     },
     "output_type": "display_data"
    }
   ],
   "source": [
    "df['class'].value_counts().plot.bar()\n",
    "plt.show()"
   ]
  },
  {
   "cell_type": "code",
   "execution_count": 49,
   "metadata": {
    "colab": {
     "base_uri": "https://localhost:8080/",
     "height": 333
    },
    "id": "1vVUbAwEZ3Gy",
    "outputId": "54c5970e-97c7-4510-8ba9-d336716f2679"
   },
   "outputs": [
    {
     "name": "stderr",
     "output_type": "stream",
     "text": [
      "C:\\ProgramData\\Anaconda3\\lib\\site-packages\\seaborn\\_decorators.py:36: FutureWarning: Pass the following variables as keyword args: x, y. From version 0.12, the only valid positional argument will be `data`, and passing other arguments without an explicit keyword will result in an error or misinterpretation.\n",
      "  warnings.warn(\n"
     ]
    },
    {
     "data": {
      "image/png": "[encoded data removed]",
      "text/plain": [
       "<Figure size 432x288 with 1 Axes>"
      ]
     },
     "metadata": {
      "needs_background": "light"
     },
     "output_type": "display_data"
    }
   ],
   "source": [
    "sns.barplot(df['class'],df['profit'])\n",
    "plt.show()"
   ]
  },
  {
   "cell_type": "markdown",
   "metadata": {
    "id": "nvIO5pQkbGmp"
   },
   "source": [
    "## **segment**"
   ]
  },
  {
   "cell_type": "code",
   "execution_count": 50,
   "metadata": {
    "colab": {
     "base_uri": "https://localhost:8080/"
    },
    "id": "e2kYlBpmaG48",
    "outputId": "09e47e5f-bf8e-4dd5-bf7c-0ffab27736f7"
   },
   "outputs": [
    {
     "data": {
      "text/plain": [
       "array(['Consumer', 'Corporate', 'Home Office'], dtype=object)"
      ]
     },
     "execution_count": 50,
     "metadata": {},
     "output_type": "execute_result"
    }
   ],
   "source": [
    "df['segment'].unique()"
   ]
  },
  {
   "cell_type": "code",
   "execution_count": 51,
   "metadata": {
    "colab": {
     "base_uri": "https://localhost:8080/",
     "height": 317
    },
    "id": "9A38M0KsaWqE",
    "outputId": "35327997-1ba5-44bf-ad64-f1b576ba5a74"
   },
   "outputs": [
    {
     "data": {
      "image/png": "[encoded data removed]",
      "text/plain": [
       "<Figure size 432x288 with 1 Axes>"
      ]
     },
     "metadata": {
      "needs_background": "light"
     },
     "output_type": "display_data"
    }
   ],
   "source": [
    "df['segment'].value_counts().plot.bar(color = 'r')\n",
    "plt.show()"
   ]
  },
  {
   "cell_type": "code",
   "execution_count": 52,
   "metadata": {
    "colab": {
     "base_uri": "https://localhost:8080/"
    },
    "id": "mRA65BcXbrv1",
    "outputId": "a4a62a58-6c2c-4c4b-eb19-47dc6f8e51a9"
   },
   "outputs": [
    {
     "data": {
      "text/plain": [
       "0"
      ]
     },
     "execution_count": 52,
     "metadata": {},
     "output_type": "execute_result"
    }
   ],
   "source": [
    "df['segment'].isnull().sum()"
   ]
  },
  {
   "cell_type": "code",
   "execution_count": 53,
   "metadata": {
    "colab": {
     "base_uri": "https://localhost:8080/",
     "height": 333
    },
    "id": "Rrg1NtQ3bw-N",
    "outputId": "f0c23bf1-a6fd-4910-fc00-9d7a44226142"
   },
   "outputs": [
    {
     "name": "stderr",
     "output_type": "stream",
     "text": [
      "C:\\ProgramData\\Anaconda3\\lib\\site-packages\\seaborn\\_decorators.py:36: FutureWarning: Pass the following variables as keyword args: x, y. From version 0.12, the only valid positional argument will be `data`, and passing other arguments without an explicit keyword will result in an error or misinterpretation.\n",
      "  warnings.warn(\n"
     ]
    },
    {
     "data": {
      "image/png": "[encoded data removed]",
      "text/plain": [
       "<Figure size 432x288 with 1 Axes>"
      ]
     },
     "metadata": {
      "needs_background": "light"
     },
     "output_type": "display_data"
    }
   ],
   "source": [
    "sns.barplot(df['segment'],df['profit'])\n",
    "plt.show()"
   ]
  },
  {
   "cell_type": "markdown",
   "metadata": {
    "id": "3aMJBnlecp72"
   },
   "source": [
    "## **sub-class**"
   ]
  },
  {
   "cell_type": "markdown",
   "metadata": {
    "id": "Zgee7WMixnvc"
   },
   "source": [
    "# New section"
   ]
  },
  {
   "cell_type": "code",
   "execution_count": 54,
   "metadata": {
    "colab": {
     "base_uri": "https://localhost:8080/"
    },
    "id": "GhJzur9zb6GP",
    "outputId": "c7a1f9b6-6aa5-4983-ff7a-e12345538e16"
   },
   "outputs": [
    {
     "data": {
      "text/plain": [
       "0"
      ]
     },
     "execution_count": 54,
     "metadata": {},
     "output_type": "execute_result"
    }
   ],
   "source": [
    "df['sub-class'].isnull().sum()"
   ]
  },
  {
   "cell_type": "code",
   "execution_count": 55,
   "metadata": {
    "colab": {
     "base_uri": "https://localhost:8080/"
    },
    "id": "OHGT6QXGcx22",
    "outputId": "ebc356c3-682b-4e90-ab76-ecb1061917ae"
   },
   "outputs": [
    {
     "data": {
      "text/plain": [
       "array(['phone', 'headset', 'shorts', 'television', 'laptop', 'battery',\n",
       "       'tshirts', 'watch', 'colddrinks', 'pants', 'lighting', 'hoodies',\n",
       "       'chocolates', 'tablet', 'charger', 'sweets', 'fastfood'],\n",
       "      dtype=object)"
      ]
     },
     "execution_count": 55,
     "metadata": {},
     "output_type": "execute_result"
    }
   ],
   "source": [
    "df['sub-class'].unique()"
   ]
  },
  {
   "cell_type": "code",
   "execution_count": 56,
   "metadata": {
    "colab": {
     "base_uri": "https://localhost:8080/",
     "height": 309
    },
    "id": "9FD_0c7ddGNE",
    "outputId": "0faa1106-47a4-4e81-8838-0d65ceffe17d"
   },
   "outputs": [
    {
     "data": {
      "image/png": "[encoded data removed]",
      "text/plain": [
       "<Figure size 432x288 with 1 Axes>"
      ]
     },
     "metadata": {
      "needs_background": "light"
     },
     "output_type": "display_data"
    }
   ],
   "source": [
    "df['sub-class'].value_counts().plot(kind = 'bar',color = 'g')\n",
    "plt.show()"
   ]
  },
  {
   "cell_type": "code",
   "execution_count": 57,
   "metadata": {
    "colab": {
     "base_uri": "https://localhost:8080/",
     "height": 377
    },
    "id": "amUFzN-ydNWX",
    "outputId": "4618f09e-ad09-4efe-ffac-3adb7d181a7d"
   },
   "outputs": [
    {
     "name": "stderr",
     "output_type": "stream",
     "text": [
      "C:\\ProgramData\\Anaconda3\\lib\\site-packages\\seaborn\\_decorators.py:36: FutureWarning: Pass the following variables as keyword args: x, y. From version 0.12, the only valid positional argument will be `data`, and passing other arguments without an explicit keyword will result in an error or misinterpretation.\n",
      "  warnings.warn(\n"
     ]
    },
    {
     "data": {
      "image/png": "[encoded data removed]",
      "text/plain": [
       "<Figure size 432x288 with 1 Axes>"
      ]
     },
     "metadata": {
      "needs_background": "light"
     },
     "output_type": "display_data"
    }
   ],
   "source": [
    "ax = sns.barplot(df['sub-class'],df['profit'])\n",
    "ax.set_xticklabels(labels = df['sub-class'].unique(),rotation = 90)\n",
    "plt.show()"
   ]
  },
  {
   "cell_type": "markdown",
   "metadata": {
    "id": "NJtUGzGAfrGM"
   },
   "source": [
    "### **delivery type**"
   ]
  },
  {
   "cell_type": "code",
   "execution_count": 58,
   "metadata": {
    "colab": {
     "base_uri": "https://localhost:8080/"
    },
    "id": "7UKWlFLMedBA",
    "outputId": "34f0f077-21e4-4476-f41d-65493541cbb4"
   },
   "outputs": [
    {
     "data": {
      "text/plain": [
       "count               6699\n",
       "unique                 4\n",
       "top       Standard Class\n",
       "freq                4086\n",
       "Name: delivery type, dtype: object"
      ]
     },
     "execution_count": 58,
     "metadata": {},
     "output_type": "execute_result"
    }
   ],
   "source": [
    "df['delivery type'].describe()"
   ]
  },
  {
   "cell_type": "code",
   "execution_count": 59,
   "metadata": {
    "colab": {
     "base_uri": "https://localhost:8080/"
    },
    "id": "xdlTkAg0f3Tz",
    "outputId": "7ee5b28d-314a-486b-ead1-381188275400"
   },
   "outputs": [
    {
     "data": {
      "text/plain": [
       "array(['Standard Class', 'First Class', 'Second Class', nan, 'Same Day'],\n",
       "      dtype=object)"
      ]
     },
     "execution_count": 59,
     "metadata": {},
     "output_type": "execute_result"
    }
   ],
   "source": [
    "df['delivery type'].unique()"
   ]
  },
  {
   "cell_type": "code",
   "execution_count": 60,
   "metadata": {
    "colab": {
     "base_uri": "https://localhost:8080/"
    },
    "id": "kw0pWCb-f-v4",
    "outputId": "9ba66b4f-a3c6-42ce-b70f-fa92b30eb2ec"
   },
   "outputs": [
    {
     "data": {
      "text/plain": [
       "1"
      ]
     },
     "execution_count": 60,
     "metadata": {},
     "output_type": "execute_result"
    }
   ],
   "source": [
    "df['delivery type'].isnull().sum()"
   ]
  },
  {
   "cell_type": "code",
   "execution_count": 61,
   "metadata": {
    "id": "WjzmwVMzgGGz"
   },
   "outputs": [],
   "source": [
    "df['delivery type'].fillna(df['delivery type'].mode()[0],inplace = True)"
   ]
  },
  {
   "cell_type": "code",
   "execution_count": 62,
   "metadata": {
    "colab": {
     "base_uri": "https://localhost:8080/"
    },
    "id": "3lUoioAOgliO",
    "outputId": "fcb275e1-b7f4-44a1-e7c7-a5a9334c6b59"
   },
   "outputs": [
    {
     "data": {
      "text/plain": [
       "0"
      ]
     },
     "execution_count": 62,
     "metadata": {},
     "output_type": "execute_result"
    }
   ],
   "source": [
    "df['delivery type'].isnull().sum()"
   ]
  },
  {
   "cell_type": "code",
   "execution_count": 63,
   "metadata": {
    "colab": {
     "base_uri": "https://localhost:8080/",
     "height": 330
    },
    "id": "rhx984Isgx60",
    "outputId": "29732760-bd20-4c9e-faef-dd669f8a5191"
   },
   "outputs": [
    {
     "data": {
      "image/png": "[encoded data removed]",
      "text/plain": [
       "<Figure size 432x288 with 1 Axes>"
      ]
     },
     "metadata": {
      "needs_background": "light"
     },
     "output_type": "display_data"
    }
   ],
   "source": [
    "df['delivery type'].value_counts().plot.bar(color = 'g')\n",
    "plt.show()"
   ]
  },
  {
   "cell_type": "code",
   "execution_count": 64,
   "metadata": {
    "colab": {
     "base_uri": "https://localhost:8080/",
     "height": 333
    },
    "id": "2HnMy8SChSKJ",
    "outputId": "14c474e6-ae97-4c2a-f01f-ed6f49022617"
   },
   "outputs": [
    {
     "name": "stderr",
     "output_type": "stream",
     "text": [
      "C:\\ProgramData\\Anaconda3\\lib\\site-packages\\seaborn\\_decorators.py:36: FutureWarning: Pass the following variables as keyword args: x, y. From version 0.12, the only valid positional argument will be `data`, and passing other arguments without an explicit keyword will result in an error or misinterpretation.\n",
      "  warnings.warn(\n"
     ]
    },
    {
     "data": {
      "image/png": "[encoded data removed]",
      "text/plain": [
       "<Figure size 432x288 with 1 Axes>"
      ]
     },
     "metadata": {
      "needs_background": "light"
     },
     "output_type": "display_data"
    }
   ],
   "source": [
    "sns.barplot(df['delivery type'],df['profit'])\n",
    "plt.show()"
   ]
  },
  {
   "cell_type": "markdown",
   "metadata": {
    "id": "sMp3K1f1h2h5"
   },
   "source": [
    "## **departure state**"
   ]
  },
  {
   "cell_type": "code",
   "execution_count": 65,
   "metadata": {
    "colab": {
     "base_uri": "https://localhost:8080/"
    },
    "id": "XjhJDXNShkgp",
    "outputId": "b574f3a3-260b-4741-fe1e-e32837279da6"
   },
   "outputs": [
    {
     "data": {
      "text/plain": [
       "array(['Texas', 'Michigan', 'Tennessee', 'Arkansas', 'Arizona',\n",
       "       'California', 'Florida', 'Indiana', 'New York', 'Nevada',\n",
       "       'South Dakota', 'Virginia', 'Oregon', 'Kentucky', 'Georgia',\n",
       "       'Pennsylvania', 'Illinois', 'Louisiana', 'Delaware', 'Ohio',\n",
       "       'South Carolina', 'Washington', 'Missouri', 'Wisconsin',\n",
       "       'New Jersey', 'North Carolina', 'Mississippi', 'Minnesota', 'Iowa',\n",
       "       'New Mexico', 'Colorado', 'Utah', 'Maryland', 'Montana',\n",
       "       'Massachusetts', 'Alabama', 'Idaho', 'New Hampshire',\n",
       "       'Connecticut', 'Oklahoma', 'Nebraska', 'Maine', 'Kansas',\n",
       "       'Rhode Island', 'District of Columbia', 'Vermont', 'Wyoming'],\n",
       "      dtype=object)"
      ]
     },
     "execution_count": 65,
     "metadata": {},
     "output_type": "execute_result"
    }
   ],
   "source": [
    "df['departure state'].unique()"
   ]
  },
  {
   "cell_type": "code",
   "execution_count": 66,
   "metadata": {
    "colab": {
     "base_uri": "https://localhost:8080/"
    },
    "id": "txjOZfrSiAX2",
    "outputId": "06170eeb-2ff4-4cc8-c5f7-cc797d403808"
   },
   "outputs": [
    {
     "data": {
      "text/plain": [
       "count           6700\n",
       "unique            47\n",
       "top       California\n",
       "freq            1339\n",
       "Name: departure state, dtype: object"
      ]
     },
     "execution_count": 66,
     "metadata": {},
     "output_type": "execute_result"
    }
   ],
   "source": [
    "df['departure state'].describe()"
   ]
  },
  {
   "cell_type": "code",
   "execution_count": 67,
   "metadata": {
    "colab": {
     "base_uri": "https://localhost:8080/",
     "height": 326
    },
    "id": "zieEcGYmiEMK",
    "outputId": "be26ce02-a68c-478f-cc8c-5693af2039ee"
   },
   "outputs": [
    {
     "data": {
      "image/png": "[encoded data removed]",
      "text/plain": [
       "<Figure size 432x288 with 1 Axes>"
      ]
     },
     "metadata": {
      "needs_background": "light"
     },
     "output_type": "display_data"
    }
   ],
   "source": [
    "df['departure state'].value_counts().plot(kind = 'bar',color = 'g',fontsize = 7)\n",
    "plt.show()"
   ]
  },
  {
   "cell_type": "code",
   "execution_count": 68,
   "metadata": {
    "colab": {
     "base_uri": "https://localhost:8080/",
     "height": 393
    },
    "id": "r1CeOxEQiOut",
    "outputId": "8e54765c-1085-401d-d135-e01465ff0008"
   },
   "outputs": [
    {
     "name": "stderr",
     "output_type": "stream",
     "text": [
      "C:\\ProgramData\\Anaconda3\\lib\\site-packages\\seaborn\\_decorators.py:36: FutureWarning: Pass the following variables as keyword args: x, y. From version 0.12, the only valid positional argument will be `data`, and passing other arguments without an explicit keyword will result in an error or misinterpretation.\n",
      "  warnings.warn(\n"
     ]
    },
    {
     "data": {
      "image/png": "[encoded data removed]",
      "text/plain": [
       "<Figure size 432x288 with 1 Axes>"
      ]
     },
     "metadata": {
      "needs_background": "light"
     },
     "output_type": "display_data"
    }
   ],
   "source": [
    "ax = sns.barplot(df['departure state'],df['profit'])\n",
    "ax.set_xticklabels(labels = df['departure state'].unique(),rotation = 90,fontsize = 7)\n",
    "plt.show()"
   ]
  },
  {
   "cell_type": "code",
   "execution_count": 69,
   "metadata": {
    "id": "7W_YR7c1ip9Y"
   },
   "outputs": [],
   "source": [
    "cat_var = df.dtypes[df.dtypes == 'object'].index\n",
    "num_var = df.dtypes[df.dtypes != 'object'].index"
   ]
  },
  {
   "cell_type": "code",
   "execution_count": 70,
   "metadata": {
    "colab": {
     "base_uri": "https://localhost:8080/"
    },
    "id": "mHuiplRojuR0",
    "outputId": "b7d32e69-778e-4f75-e303-bd9d6279d605"
   },
   "outputs": [
    {
     "data": {
      "text/plain": [
       "Index(['departure city', 'location', 'class', 'segment', 'sub-class',\n",
       "       'delivery type', 'delivery date', 'departure state'],\n",
       "      dtype='object')"
      ]
     },
     "execution_count": 70,
     "metadata": {},
     "output_type": "execute_result"
    }
   ],
   "source": [
    "cat_var"
   ]
  },
  {
   "cell_type": "code",
   "execution_count": 71,
   "metadata": {
    "colab": {
     "base_uri": "https://localhost:8080/"
    },
    "id": "bNf0rOP-jvoV",
    "outputId": "807006e4-75d1-4bc0-8f62-6cd6cd1ee4a9"
   },
   "outputs": [
    {
     "data": {
      "text/plain": [
       "Index(['id', 'discount', 'price', 'no of items', 'RID', 'profit',\n",
       "       'address code', 'month', 'quarter'],\n",
       "      dtype='object')"
      ]
     },
     "execution_count": 71,
     "metadata": {},
     "output_type": "execute_result"
    }
   ],
   "source": [
    "num_var"
   ]
  },
  {
   "cell_type": "code",
   "execution_count": 72,
   "metadata": {
    "id": "O9y5B8zqjwo8"
   },
   "outputs": [],
   "source": [
    "df.drop(['id'],axis = 1,inplace = True)"
   ]
  },
  {
   "cell_type": "code",
   "execution_count": 73,
   "metadata": {
    "colab": {
     "base_uri": "https://localhost:8080/"
    },
    "id": "aUbURLCWj6X6",
    "outputId": "8106c276-800c-4779-f7d3-53527dfc9c86"
   },
   "outputs": [
    {
     "data": {
      "text/plain": [
       "562"
      ]
     },
     "execution_count": 73,
     "metadata": {},
     "output_type": "execute_result"
    }
   ],
   "source": [
    "len(df['address code'].unique())"
   ]
  },
  {
   "cell_type": "code",
   "execution_count": 74,
   "metadata": {
    "colab": {
     "base_uri": "https://localhost:8080/"
    },
    "id": "OoZnmSiSmh_u",
    "outputId": "4a7018f3-d982-464a-97b4-19f412410c95"
   },
   "outputs": [
    {
     "data": {
      "text/plain": [
       "Index(['departure city', 'discount', 'price', 'no of items', 'location',\n",
       "       'class', 'segment', 'sub-class', 'delivery type', 'RID', 'profit',\n",
       "       'delivery date', 'address code', 'departure state', 'month', 'quarter'],\n",
       "      dtype='object')"
      ]
     },
     "execution_count": 74,
     "metadata": {},
     "output_type": "execute_result"
    }
   ],
   "source": [
    "df.columns"
   ]
  },
  {
   "cell_type": "markdown",
   "metadata": {
    "id": "ot59yWVanFkU"
   },
   "source": [
    "\n",
    "\n",
    "1.   Departure city -> Categorical -> Requires special encoding (Binary for strters)\n",
    "2.   Discount -> Numerical -> No missing values -> no special attention required.   \n",
    "3.   price -> numerical var -> no reuirements (skewed)\n",
    "4.   no. of items -> cat numeric -> no treatment required\n",
    "5.   location -> categorical. will require one hot encoding or dummy variables encoding\n",
    "6.   class -> categorical. one hot encoding or dummy\n",
    "7.   segment -> categorical. one hot encoding or dummy\n",
    "8.   sub-class -> categorical. one hot encoding or dummy*\n",
    "9.   delivery type -> categorical. one hot encoding or dummy\n",
    "10.  RID -> ID type of variable. unique value for every example. Not significant(my opinion)\n",
    "11.  profit -> Target variable or dependent variable\n",
    "12.  delivery date -> drop \n",
    "13.  address code -> categorical with high cardinality. Use of hash encoding or Traget encoding depending on results.\n",
    "14.  departure state -> categorical feature with moderate cardinality. (Discuss)\n",
    "15.  placement date ->  drop\n",
    "Consult with team -> negative target variable values (a major concern or not)\n",
    "# **Final**\n",
    "dropping dates, RID.\n",
    "departure -> Binary encoding\n",
    "address code -> Hash encoding\n",
    "departure state -> Binary encoding\n",
    "https://www.analyticsvidhya.com/blog/2020/08/types-of-categorical-data-encoding/"
   ]
  },
  {
   "cell_type": "code",
   "execution_count": 75,
   "metadata": {
    "id": "ZSvwB7KZpubv"
   },
   "outputs": [],
   "source": [
    "df = df.drop([ 'RID', 'delivery date'], axis = 1)\n",
    "df_test = df_test.drop(['RID', 'delivery date'], axis = 1)"
   ]
  },
  {
   "cell_type": "markdown",
   "metadata": {
    "id": "HV6zWibrH5YC"
   },
   "source": [
    "# **Encoding_departure city**"
   ]
  },
  {
   "cell_type": "code",
   "execution_count": 76,
   "metadata": {
    "id": "ZjzOxpPvxxge"
   },
   "outputs": [],
   "source": [
    "import category_encoders as ce"
   ]
  },
  {
   "cell_type": "code",
   "execution_count": 77,
   "metadata": {
    "id": "r_qlnk8YFmpL"
   },
   "outputs": [],
   "source": [
    "final_df = pd.concat([df, df_test], axis = 0)"
   ]
  },
  {
   "cell_type": "code",
   "execution_count": 78,
   "metadata": {
    "colab": {
     "base_uri": "https://localhost:8080/"
    },
    "id": "swSRMIGSp1Kb",
    "outputId": "15a175d3-7c32-4517-ae96-bb176116b362"
   },
   "outputs": [
    {
     "data": {
      "text/plain": [
       "0        5.5512\n",
       "1       13.3650\n",
       "2        4.8609\n",
       "3       12.7368\n",
       "4       15.9792\n",
       "         ...   \n",
       "3289        NaN\n",
       "3290        NaN\n",
       "3291        NaN\n",
       "3292        NaN\n",
       "3293        NaN\n",
       "Name: profit, Length: 9994, dtype: float64"
      ]
     },
     "execution_count": 78,
     "metadata": {},
     "output_type": "execute_result"
    }
   ],
   "source": [
    "final_df['profit']"
   ]
  },
  {
   "cell_type": "code",
   "execution_count": 79,
   "metadata": {
    "id": "xOY6NlKip1gV"
   },
   "outputs": [],
   "source": [
    "final_df = final_df.reset_index()"
   ]
  },
  {
   "cell_type": "code",
   "execution_count": 80,
   "metadata": {
    "colab": {
     "base_uri": "https://localhost:8080/",
     "height": 402
    },
    "id": "einnXmbAp1jw",
    "outputId": "0f832c56-ce78-495f-8893-82f8e81b31d1"
   },
   "outputs": [
    {
     "data": {
      "text/html": [
       "<div>\n",
       "<style scoped>\n",
       "    .dataframe tbody tr th:only-of-type {\n",
       "        vertical-align: middle;\n",
       "    }\n",
       "\n",
       "    .dataframe tbody tr th {\n",
       "        vertical-align: top;\n",
       "    }\n",
       "\n",
       "    .dataframe thead th {\n",
       "        text-align: right;\n",
       "    }\n",
       "</style>\n",
       "<table border=\"1\" class=\"dataframe\">\n",
       "  <thead>\n",
       "    <tr style=\"text-align: right;\">\n",
       "      <th></th>\n",
       "      <th>departure city</th>\n",
       "    </tr>\n",
       "  </thead>\n",
       "  <tbody>\n",
       "    <tr>\n",
       "      <th>0</th>\n",
       "      <td>Houston</td>\n",
       "    </tr>\n",
       "    <tr>\n",
       "      <th>1</th>\n",
       "      <td>Westland</td>\n",
       "    </tr>\n",
       "    <tr>\n",
       "      <th>2</th>\n",
       "      <td>Smyrna</td>\n",
       "    </tr>\n",
       "    <tr>\n",
       "      <th>3</th>\n",
       "      <td>Jonesboro</td>\n",
       "    </tr>\n",
       "    <tr>\n",
       "      <th>4</th>\n",
       "      <td>Scottsdale</td>\n",
       "    </tr>\n",
       "    <tr>\n",
       "      <th>...</th>\n",
       "      <td>...</td>\n",
       "    </tr>\n",
       "    <tr>\n",
       "      <th>526</th>\n",
       "      <td>Port Orange</td>\n",
       "    </tr>\n",
       "    <tr>\n",
       "      <th>527</th>\n",
       "      <td>Danbury</td>\n",
       "    </tr>\n",
       "    <tr>\n",
       "      <th>528</th>\n",
       "      <td>Abilene</td>\n",
       "    </tr>\n",
       "    <tr>\n",
       "      <th>529</th>\n",
       "      <td>Palatine</td>\n",
       "    </tr>\n",
       "    <tr>\n",
       "      <th>530</th>\n",
       "      <td>Whittier</td>\n",
       "    </tr>\n",
       "  </tbody>\n",
       "</table>\n",
       "<p>531 rows × 1 columns</p>\n",
       "</div>"
      ],
      "text/plain": [
       "    departure city\n",
       "0          Houston\n",
       "1         Westland\n",
       "2           Smyrna\n",
       "3        Jonesboro\n",
       "4       Scottsdale\n",
       "..             ...\n",
       "526    Port Orange\n",
       "527        Danbury\n",
       "528        Abilene\n",
       "529       Palatine\n",
       "530       Whittier\n",
       "\n",
       "[531 rows x 1 columns]"
      ]
     },
     "execution_count": 80,
     "metadata": {},
     "output_type": "execute_result"
    }
   ],
   "source": [
    "depc_data = pd.DataFrame({'departure city': final_df['departure city'].unique()})\n",
    "encoder_dep= ce.BinaryEncoder(cols=['departure city'],return_df=True)\n",
    "depc_data"
   ]
  },
  {
   "cell_type": "code",
   "execution_count": 81,
   "metadata": {
    "colab": {
     "base_uri": "https://localhost:8080/",
     "height": 489
    },
    "id": "OHouI9q3p1oS",
    "outputId": "42e54403-436d-43d9-ec73-2cb0508c9b66"
   },
   "outputs": [
    {
     "name": "stderr",
     "output_type": "stream",
     "text": [
      "C:\\ProgramData\\Anaconda3\\lib\\site-packages\\category_encoders\\utils.py:21: FutureWarning: is_categorical is deprecated and will be removed in a future version.  Use is_categorical_dtype instead\n",
      "  elif pd.api.types.is_categorical(cols):\n"
     ]
    },
    {
     "data": {
      "text/html": [
       "<div>\n",
       "<style scoped>\n",
       "    .dataframe tbody tr th:only-of-type {\n",
       "        vertical-align: middle;\n",
       "    }\n",
       "\n",
       "    .dataframe tbody tr th {\n",
       "        vertical-align: top;\n",
       "    }\n",
       "\n",
       "    .dataframe thead th {\n",
       "        text-align: right;\n",
       "    }\n",
       "</style>\n",
       "<table border=\"1\" class=\"dataframe\">\n",
       "  <thead>\n",
       "    <tr style=\"text-align: right;\">\n",
       "      <th></th>\n",
       "      <th>departure city</th>\n",
       "      <th>departure city_0</th>\n",
       "      <th>departure city_1</th>\n",
       "      <th>departure city_2</th>\n",
       "      <th>departure city_3</th>\n",
       "      <th>departure city_4</th>\n",
       "      <th>departure city_5</th>\n",
       "      <th>departure city_6</th>\n",
       "      <th>departure city_7</th>\n",
       "      <th>departure city_8</th>\n",
       "      <th>departure city_9</th>\n",
       "      <th>departure city_10</th>\n",
       "    </tr>\n",
       "  </thead>\n",
       "  <tbody>\n",
       "    <tr>\n",
       "      <th>0</th>\n",
       "      <td>Houston</td>\n",
       "      <td>0</td>\n",
       "      <td>0</td>\n",
       "      <td>0</td>\n",
       "      <td>0</td>\n",
       "      <td>0</td>\n",
       "      <td>0</td>\n",
       "      <td>0</td>\n",
       "      <td>0</td>\n",
       "      <td>0</td>\n",
       "      <td>0</td>\n",
       "      <td>1</td>\n",
       "    </tr>\n",
       "    <tr>\n",
       "      <th>1</th>\n",
       "      <td>Westland</td>\n",
       "      <td>0</td>\n",
       "      <td>0</td>\n",
       "      <td>0</td>\n",
       "      <td>0</td>\n",
       "      <td>0</td>\n",
       "      <td>0</td>\n",
       "      <td>0</td>\n",
       "      <td>0</td>\n",
       "      <td>0</td>\n",
       "      <td>1</td>\n",
       "      <td>0</td>\n",
       "    </tr>\n",
       "    <tr>\n",
       "      <th>2</th>\n",
       "      <td>Smyrna</td>\n",
       "      <td>0</td>\n",
       "      <td>0</td>\n",
       "      <td>0</td>\n",
       "      <td>0</td>\n",
       "      <td>0</td>\n",
       "      <td>0</td>\n",
       "      <td>0</td>\n",
       "      <td>0</td>\n",
       "      <td>0</td>\n",
       "      <td>1</td>\n",
       "      <td>1</td>\n",
       "    </tr>\n",
       "    <tr>\n",
       "      <th>3</th>\n",
       "      <td>Jonesboro</td>\n",
       "      <td>0</td>\n",
       "      <td>0</td>\n",
       "      <td>0</td>\n",
       "      <td>0</td>\n",
       "      <td>0</td>\n",
       "      <td>0</td>\n",
       "      <td>0</td>\n",
       "      <td>0</td>\n",
       "      <td>1</td>\n",
       "      <td>0</td>\n",
       "      <td>0</td>\n",
       "    </tr>\n",
       "    <tr>\n",
       "      <th>4</th>\n",
       "      <td>Scottsdale</td>\n",
       "      <td>0</td>\n",
       "      <td>0</td>\n",
       "      <td>0</td>\n",
       "      <td>0</td>\n",
       "      <td>0</td>\n",
       "      <td>0</td>\n",
       "      <td>0</td>\n",
       "      <td>0</td>\n",
       "      <td>1</td>\n",
       "      <td>0</td>\n",
       "      <td>1</td>\n",
       "    </tr>\n",
       "    <tr>\n",
       "      <th>...</th>\n",
       "      <td>...</td>\n",
       "      <td>...</td>\n",
       "      <td>...</td>\n",
       "      <td>...</td>\n",
       "      <td>...</td>\n",
       "      <td>...</td>\n",
       "      <td>...</td>\n",
       "      <td>...</td>\n",
       "      <td>...</td>\n",
       "      <td>...</td>\n",
       "      <td>...</td>\n",
       "      <td>...</td>\n",
       "    </tr>\n",
       "    <tr>\n",
       "      <th>526</th>\n",
       "      <td>Port Orange</td>\n",
       "      <td>0</td>\n",
       "      <td>1</td>\n",
       "      <td>0</td>\n",
       "      <td>0</td>\n",
       "      <td>0</td>\n",
       "      <td>0</td>\n",
       "      <td>0</td>\n",
       "      <td>1</td>\n",
       "      <td>1</td>\n",
       "      <td>1</td>\n",
       "      <td>1</td>\n",
       "    </tr>\n",
       "    <tr>\n",
       "      <th>527</th>\n",
       "      <td>Danbury</td>\n",
       "      <td>0</td>\n",
       "      <td>1</td>\n",
       "      <td>0</td>\n",
       "      <td>0</td>\n",
       "      <td>0</td>\n",
       "      <td>0</td>\n",
       "      <td>1</td>\n",
       "      <td>0</td>\n",
       "      <td>0</td>\n",
       "      <td>0</td>\n",
       "      <td>0</td>\n",
       "    </tr>\n",
       "    <tr>\n",
       "      <th>528</th>\n",
       "      <td>Abilene</td>\n",
       "      <td>0</td>\n",
       "      <td>1</td>\n",
       "      <td>0</td>\n",
       "      <td>0</td>\n",
       "      <td>0</td>\n",
       "      <td>0</td>\n",
       "      <td>1</td>\n",
       "      <td>0</td>\n",
       "      <td>0</td>\n",
       "      <td>0</td>\n",
       "      <td>1</td>\n",
       "    </tr>\n",
       "    <tr>\n",
       "      <th>529</th>\n",
       "      <td>Palatine</td>\n",
       "      <td>0</td>\n",
       "      <td>1</td>\n",
       "      <td>0</td>\n",
       "      <td>0</td>\n",
       "      <td>0</td>\n",
       "      <td>0</td>\n",
       "      <td>1</td>\n",
       "      <td>0</td>\n",
       "      <td>0</td>\n",
       "      <td>1</td>\n",
       "      <td>0</td>\n",
       "    </tr>\n",
       "    <tr>\n",
       "      <th>530</th>\n",
       "      <td>Whittier</td>\n",
       "      <td>0</td>\n",
       "      <td>1</td>\n",
       "      <td>0</td>\n",
       "      <td>0</td>\n",
       "      <td>0</td>\n",
       "      <td>0</td>\n",
       "      <td>1</td>\n",
       "      <td>0</td>\n",
       "      <td>0</td>\n",
       "      <td>1</td>\n",
       "      <td>1</td>\n",
       "    </tr>\n",
       "  </tbody>\n",
       "</table>\n",
       "<p>531 rows × 12 columns</p>\n",
       "</div>"
      ],
      "text/plain": [
       "    departure city  departure city_0  departure city_1  departure city_2  \\\n",
       "0          Houston                 0                 0                 0   \n",
       "1         Westland                 0                 0                 0   \n",
       "2           Smyrna                 0                 0                 0   \n",
       "3        Jonesboro                 0                 0                 0   \n",
       "4       Scottsdale                 0                 0                 0   \n",
       "..             ...               ...               ...               ...   \n",
       "526    Port Orange                 0                 1                 0   \n",
       "527        Danbury                 0                 1                 0   \n",
       "528        Abilene                 0                 1                 0   \n",
       "529       Palatine                 0                 1                 0   \n",
       "530       Whittier                 0                 1                 0   \n",
       "\n",
       "     departure city_3  departure city_4  departure city_5  departure city_6  \\\n",
       "0                   0                 0                 0                 0   \n",
       "1                   0                 0                 0                 0   \n",
       "2                   0                 0                 0                 0   \n",
       "3                   0                 0                 0                 0   \n",
       "4                   0                 0                 0                 0   \n",
       "..                ...               ...               ...               ...   \n",
       "526                 0                 0                 0                 0   \n",
       "527                 0                 0                 0                 1   \n",
       "528                 0                 0                 0                 1   \n",
       "529                 0                 0                 0                 1   \n",
       "530                 0                 0                 0                 1   \n",
       "\n",
       "     departure city_7  departure city_8  departure city_9  departure city_10  \n",
       "0                   0                 0                 0                  1  \n",
       "1                   0                 0                 1                  0  \n",
       "2                   0                 0                 1                  1  \n",
       "3                   0                 1                 0                  0  \n",
       "4                   0                 1                 0                  1  \n",
       "..                ...               ...               ...                ...  \n",
       "526                 1                 1                 1                  1  \n",
       "527                 0                 0                 0                  0  \n",
       "528                 0                 0                 0                  1  \n",
       "529                 0                 0                 1                  0  \n",
       "530                 0                 0                 1                  1  \n",
       "\n",
       "[531 rows x 12 columns]"
      ]
     },
     "execution_count": 81,
     "metadata": {},
     "output_type": "execute_result"
    }
   ],
   "source": [
    "depc_data_encoded=encoder_dep.fit_transform(depc_data) \n",
    "df_depc = pd.concat([depc_data, depc_data_encoded], axis = 1)\n",
    "df_depc"
   ]
  },
  {
   "cell_type": "code",
   "execution_count": 82,
   "metadata": {
    "colab": {
     "base_uri": "https://localhost:8080/",
     "height": 486
    },
    "id": "uyYW7UQNp1r3",
    "outputId": "531fdc47-0511-4f5d-95ba-777ae6fe794d"
   },
   "outputs": [
    {
     "data": {
      "text/html": [
       "<div>\n",
       "<style scoped>\n",
       "    .dataframe tbody tr th:only-of-type {\n",
       "        vertical-align: middle;\n",
       "    }\n",
       "\n",
       "    .dataframe tbody tr th {\n",
       "        vertical-align: top;\n",
       "    }\n",
       "\n",
       "    .dataframe thead th {\n",
       "        text-align: right;\n",
       "    }\n",
       "</style>\n",
       "<table border=\"1\" class=\"dataframe\">\n",
       "  <thead>\n",
       "    <tr style=\"text-align: right;\">\n",
       "      <th></th>\n",
       "      <th>departure city</th>\n",
       "      <th>departure city_0</th>\n",
       "      <th>departure city_1</th>\n",
       "      <th>departure city_2</th>\n",
       "      <th>departure city_3</th>\n",
       "      <th>departure city_4</th>\n",
       "      <th>departure city_5</th>\n",
       "      <th>departure city_6</th>\n",
       "      <th>departure city_7</th>\n",
       "      <th>departure city_8</th>\n",
       "      <th>departure city_9</th>\n",
       "      <th>departure city_10</th>\n",
       "    </tr>\n",
       "  </thead>\n",
       "  <tbody>\n",
       "    <tr>\n",
       "      <th>0</th>\n",
       "      <td>Houston</td>\n",
       "      <td>0</td>\n",
       "      <td>0</td>\n",
       "      <td>0</td>\n",
       "      <td>0</td>\n",
       "      <td>0</td>\n",
       "      <td>0</td>\n",
       "      <td>0</td>\n",
       "      <td>0</td>\n",
       "      <td>0</td>\n",
       "      <td>0</td>\n",
       "      <td>1</td>\n",
       "    </tr>\n",
       "    <tr>\n",
       "      <th>1</th>\n",
       "      <td>Westland</td>\n",
       "      <td>0</td>\n",
       "      <td>0</td>\n",
       "      <td>0</td>\n",
       "      <td>0</td>\n",
       "      <td>0</td>\n",
       "      <td>0</td>\n",
       "      <td>0</td>\n",
       "      <td>0</td>\n",
       "      <td>0</td>\n",
       "      <td>1</td>\n",
       "      <td>0</td>\n",
       "    </tr>\n",
       "    <tr>\n",
       "      <th>2</th>\n",
       "      <td>Westland</td>\n",
       "      <td>0</td>\n",
       "      <td>0</td>\n",
       "      <td>0</td>\n",
       "      <td>0</td>\n",
       "      <td>0</td>\n",
       "      <td>0</td>\n",
       "      <td>0</td>\n",
       "      <td>0</td>\n",
       "      <td>0</td>\n",
       "      <td>1</td>\n",
       "      <td>0</td>\n",
       "    </tr>\n",
       "    <tr>\n",
       "      <th>3</th>\n",
       "      <td>Westland</td>\n",
       "      <td>0</td>\n",
       "      <td>0</td>\n",
       "      <td>0</td>\n",
       "      <td>0</td>\n",
       "      <td>0</td>\n",
       "      <td>0</td>\n",
       "      <td>0</td>\n",
       "      <td>0</td>\n",
       "      <td>0</td>\n",
       "      <td>1</td>\n",
       "      <td>0</td>\n",
       "    </tr>\n",
       "    <tr>\n",
       "      <th>4</th>\n",
       "      <td>Westland</td>\n",
       "      <td>0</td>\n",
       "      <td>0</td>\n",
       "      <td>0</td>\n",
       "      <td>0</td>\n",
       "      <td>0</td>\n",
       "      <td>0</td>\n",
       "      <td>0</td>\n",
       "      <td>0</td>\n",
       "      <td>0</td>\n",
       "      <td>1</td>\n",
       "      <td>0</td>\n",
       "    </tr>\n",
       "    <tr>\n",
       "      <th>...</th>\n",
       "      <td>...</td>\n",
       "      <td>...</td>\n",
       "      <td>...</td>\n",
       "      <td>...</td>\n",
       "      <td>...</td>\n",
       "      <td>...</td>\n",
       "      <td>...</td>\n",
       "      <td>...</td>\n",
       "      <td>...</td>\n",
       "      <td>...</td>\n",
       "      <td>...</td>\n",
       "      <td>...</td>\n",
       "    </tr>\n",
       "    <tr>\n",
       "      <th>9989</th>\n",
       "      <td>New York City</td>\n",
       "      <td>0</td>\n",
       "      <td>0</td>\n",
       "      <td>0</td>\n",
       "      <td>0</td>\n",
       "      <td>0</td>\n",
       "      <td>0</td>\n",
       "      <td>0</td>\n",
       "      <td>1</td>\n",
       "      <td>0</td>\n",
       "      <td>1</td>\n",
       "      <td>1</td>\n",
       "    </tr>\n",
       "    <tr>\n",
       "      <th>9990</th>\n",
       "      <td>New York City</td>\n",
       "      <td>0</td>\n",
       "      <td>0</td>\n",
       "      <td>0</td>\n",
       "      <td>0</td>\n",
       "      <td>0</td>\n",
       "      <td>0</td>\n",
       "      <td>0</td>\n",
       "      <td>1</td>\n",
       "      <td>0</td>\n",
       "      <td>1</td>\n",
       "      <td>1</td>\n",
       "    </tr>\n",
       "    <tr>\n",
       "      <th>9991</th>\n",
       "      <td>New York City</td>\n",
       "      <td>0</td>\n",
       "      <td>0</td>\n",
       "      <td>0</td>\n",
       "      <td>0</td>\n",
       "      <td>0</td>\n",
       "      <td>0</td>\n",
       "      <td>0</td>\n",
       "      <td>1</td>\n",
       "      <td>0</td>\n",
       "      <td>1</td>\n",
       "      <td>1</td>\n",
       "    </tr>\n",
       "    <tr>\n",
       "      <th>9992</th>\n",
       "      <td>San Francisco</td>\n",
       "      <td>0</td>\n",
       "      <td>0</td>\n",
       "      <td>0</td>\n",
       "      <td>0</td>\n",
       "      <td>0</td>\n",
       "      <td>0</td>\n",
       "      <td>1</td>\n",
       "      <td>1</td>\n",
       "      <td>0</td>\n",
       "      <td>1</td>\n",
       "      <td>1</td>\n",
       "    </tr>\n",
       "    <tr>\n",
       "      <th>9993</th>\n",
       "      <td>Loveland</td>\n",
       "      <td>0</td>\n",
       "      <td>0</td>\n",
       "      <td>1</td>\n",
       "      <td>1</td>\n",
       "      <td>1</td>\n",
       "      <td>1</td>\n",
       "      <td>1</td>\n",
       "      <td>0</td>\n",
       "      <td>1</td>\n",
       "      <td>0</td>\n",
       "      <td>0</td>\n",
       "    </tr>\n",
       "  </tbody>\n",
       "</table>\n",
       "<p>9994 rows × 12 columns</p>\n",
       "</div>"
      ],
      "text/plain": [
       "     departure city  departure city_0  departure city_1  departure city_2  \\\n",
       "0           Houston                 0                 0                 0   \n",
       "1          Westland                 0                 0                 0   \n",
       "2          Westland                 0                 0                 0   \n",
       "3          Westland                 0                 0                 0   \n",
       "4          Westland                 0                 0                 0   \n",
       "...             ...               ...               ...               ...   \n",
       "9989  New York City                 0                 0                 0   \n",
       "9990  New York City                 0                 0                 0   \n",
       "9991  New York City                 0                 0                 0   \n",
       "9992  San Francisco                 0                 0                 0   \n",
       "9993       Loveland                 0                 0                 1   \n",
       "\n",
       "      departure city_3  departure city_4  departure city_5  departure city_6  \\\n",
       "0                    0                 0                 0                 0   \n",
       "1                    0                 0                 0                 0   \n",
       "2                    0                 0                 0                 0   \n",
       "3                    0                 0                 0                 0   \n",
       "4                    0                 0                 0                 0   \n",
       "...                ...               ...               ...               ...   \n",
       "9989                 0                 0                 0                 0   \n",
       "9990                 0                 0                 0                 0   \n",
       "9991                 0                 0                 0                 0   \n",
       "9992                 0                 0                 0                 1   \n",
       "9993                 1                 1                 1                 1   \n",
       "\n",
       "      departure city_7  departure city_8  departure city_9  departure city_10  \n",
       "0                    0                 0                 0                  1  \n",
       "1                    0                 0                 1                  0  \n",
       "2                    0                 0                 1                  0  \n",
       "3                    0                 0                 1                  0  \n",
       "4                    0                 0                 1                  0  \n",
       "...                ...               ...               ...                ...  \n",
       "9989                 1                 0                 1                  1  \n",
       "9990                 1                 0                 1                  1  \n",
       "9991                 1                 0                 1                  1  \n",
       "9992                 1                 0                 1                  1  \n",
       "9993                 0                 1                 0                  0  \n",
       "\n",
       "[9994 rows x 12 columns]"
      ]
     },
     "execution_count": 82,
     "metadata": {},
     "output_type": "execute_result"
    }
   ],
   "source": [
    "final_df_depc = final_df['departure city']\n",
    "final_df_depc = pd.merge(final_df_depc, df_depc, how='left', on='departure city', left_on=None, right_on=None, left_index=False, right_index=False, sort=None)\n",
    "final_df_depc"
   ]
  },
  {
   "cell_type": "code",
   "execution_count": 83,
   "metadata": {
    "id": "nbPbtccep1wH"
   },
   "outputs": [],
   "source": [
    "df_departurecity_train = final_df_depc.iloc[:6700,:]\n",
    "df_departurecity_test = final_df_depc.iloc[6700:,:]"
   ]
  },
  {
   "cell_type": "code",
   "execution_count": 84,
   "metadata": {
    "colab": {
     "base_uri": "https://localhost:8080/",
     "height": 606
    },
    "id": "cascLHLAp1zt",
    "outputId": "01ad6359-1026-41ae-ae8e-57f5154664e1"
   },
   "outputs": [
    {
     "data": {
      "text/html": [
       "<div>\n",
       "<style scoped>\n",
       "    .dataframe tbody tr th:only-of-type {\n",
       "        vertical-align: middle;\n",
       "    }\n",
       "\n",
       "    .dataframe tbody tr th {\n",
       "        vertical-align: top;\n",
       "    }\n",
       "\n",
       "    .dataframe thead th {\n",
       "        text-align: right;\n",
       "    }\n",
       "</style>\n",
       "<table border=\"1\" class=\"dataframe\">\n",
       "  <thead>\n",
       "    <tr style=\"text-align: right;\">\n",
       "      <th></th>\n",
       "      <th>discount</th>\n",
       "      <th>price</th>\n",
       "      <th>no of items</th>\n",
       "      <th>location</th>\n",
       "      <th>class</th>\n",
       "      <th>segment</th>\n",
       "      <th>sub-class</th>\n",
       "      <th>delivery type</th>\n",
       "      <th>profit</th>\n",
       "      <th>address code</th>\n",
       "      <th>...</th>\n",
       "      <th>departure city_1</th>\n",
       "      <th>departure city_2</th>\n",
       "      <th>departure city_3</th>\n",
       "      <th>departure city_4</th>\n",
       "      <th>departure city_5</th>\n",
       "      <th>departure city_6</th>\n",
       "      <th>departure city_7</th>\n",
       "      <th>departure city_8</th>\n",
       "      <th>departure city_9</th>\n",
       "      <th>departure city_10</th>\n",
       "    </tr>\n",
       "  </thead>\n",
       "  <tbody>\n",
       "    <tr>\n",
       "      <th>0</th>\n",
       "      <td>0.2</td>\n",
       "      <td>16.448</td>\n",
       "      <td>2</td>\n",
       "      <td>Central</td>\n",
       "      <td>kariox</td>\n",
       "      <td>Consumer</td>\n",
       "      <td>phone</td>\n",
       "      <td>Standard Class</td>\n",
       "      <td>5.5512</td>\n",
       "      <td>77095</td>\n",
       "      <td>...</td>\n",
       "      <td>0</td>\n",
       "      <td>0</td>\n",
       "      <td>0</td>\n",
       "      <td>0</td>\n",
       "      <td>0</td>\n",
       "      <td>0</td>\n",
       "      <td>0</td>\n",
       "      <td>0</td>\n",
       "      <td>0</td>\n",
       "      <td>1</td>\n",
       "    </tr>\n",
       "    <tr>\n",
       "      <th>1</th>\n",
       "      <td>0.0</td>\n",
       "      <td>29.700</td>\n",
       "      <td>5</td>\n",
       "      <td>Central</td>\n",
       "      <td>kariox</td>\n",
       "      <td>Consumer</td>\n",
       "      <td>headset</td>\n",
       "      <td>Standard Class</td>\n",
       "      <td>13.3650</td>\n",
       "      <td>48185</td>\n",
       "      <td>...</td>\n",
       "      <td>0</td>\n",
       "      <td>0</td>\n",
       "      <td>0</td>\n",
       "      <td>0</td>\n",
       "      <td>0</td>\n",
       "      <td>0</td>\n",
       "      <td>0</td>\n",
       "      <td>0</td>\n",
       "      <td>1</td>\n",
       "      <td>0</td>\n",
       "    </tr>\n",
       "    <tr>\n",
       "      <th>2</th>\n",
       "      <td>0.0</td>\n",
       "      <td>14.730</td>\n",
       "      <td>3</td>\n",
       "      <td>Central</td>\n",
       "      <td>qexty</td>\n",
       "      <td>Consumer</td>\n",
       "      <td>shorts</td>\n",
       "      <td>Standard Class</td>\n",
       "      <td>4.8609</td>\n",
       "      <td>48185</td>\n",
       "      <td>...</td>\n",
       "      <td>0</td>\n",
       "      <td>0</td>\n",
       "      <td>0</td>\n",
       "      <td>0</td>\n",
       "      <td>0</td>\n",
       "      <td>0</td>\n",
       "      <td>0</td>\n",
       "      <td>0</td>\n",
       "      <td>1</td>\n",
       "      <td>0</td>\n",
       "    </tr>\n",
       "    <tr>\n",
       "      <th>3</th>\n",
       "      <td>0.0</td>\n",
       "      <td>43.920</td>\n",
       "      <td>3</td>\n",
       "      <td>Central</td>\n",
       "      <td>kariox</td>\n",
       "      <td>Consumer</td>\n",
       "      <td>television</td>\n",
       "      <td>Standard Class</td>\n",
       "      <td>12.7368</td>\n",
       "      <td>48185</td>\n",
       "      <td>...</td>\n",
       "      <td>0</td>\n",
       "      <td>0</td>\n",
       "      <td>0</td>\n",
       "      <td>0</td>\n",
       "      <td>0</td>\n",
       "      <td>0</td>\n",
       "      <td>0</td>\n",
       "      <td>0</td>\n",
       "      <td>1</td>\n",
       "      <td>0</td>\n",
       "    </tr>\n",
       "    <tr>\n",
       "      <th>4</th>\n",
       "      <td>0.0</td>\n",
       "      <td>66.580</td>\n",
       "      <td>2</td>\n",
       "      <td>Central</td>\n",
       "      <td>kariox</td>\n",
       "      <td>Consumer</td>\n",
       "      <td>laptop</td>\n",
       "      <td>Standard Class</td>\n",
       "      <td>15.9792</td>\n",
       "      <td>48185</td>\n",
       "      <td>...</td>\n",
       "      <td>0</td>\n",
       "      <td>0</td>\n",
       "      <td>0</td>\n",
       "      <td>0</td>\n",
       "      <td>0</td>\n",
       "      <td>0</td>\n",
       "      <td>0</td>\n",
       "      <td>0</td>\n",
       "      <td>1</td>\n",
       "      <td>0</td>\n",
       "    </tr>\n",
       "    <tr>\n",
       "      <th>...</th>\n",
       "      <td>...</td>\n",
       "      <td>...</td>\n",
       "      <td>...</td>\n",
       "      <td>...</td>\n",
       "      <td>...</td>\n",
       "      <td>...</td>\n",
       "      <td>...</td>\n",
       "      <td>...</td>\n",
       "      <td>...</td>\n",
       "      <td>...</td>\n",
       "      <td>...</td>\n",
       "      <td>...</td>\n",
       "      <td>...</td>\n",
       "      <td>...</td>\n",
       "      <td>...</td>\n",
       "      <td>...</td>\n",
       "      <td>...</td>\n",
       "      <td>...</td>\n",
       "      <td>...</td>\n",
       "      <td>...</td>\n",
       "      <td>...</td>\n",
       "    </tr>\n",
       "    <tr>\n",
       "      <th>6695</th>\n",
       "      <td>0.0</td>\n",
       "      <td>542.940</td>\n",
       "      <td>3</td>\n",
       "      <td>East</td>\n",
       "      <td>kariox</td>\n",
       "      <td>Consumer</td>\n",
       "      <td>battery</td>\n",
       "      <td>Standard Class</td>\n",
       "      <td>152.0232</td>\n",
       "      <td>5408</td>\n",
       "      <td>...</td>\n",
       "      <td>0</td>\n",
       "      <td>1</td>\n",
       "      <td>0</td>\n",
       "      <td>1</td>\n",
       "      <td>1</td>\n",
       "      <td>0</td>\n",
       "      <td>1</td>\n",
       "      <td>1</td>\n",
       "      <td>1</td>\n",
       "      <td>1</td>\n",
       "    </tr>\n",
       "    <tr>\n",
       "      <th>6696</th>\n",
       "      <td>0.2</td>\n",
       "      <td>276.784</td>\n",
       "      <td>2</td>\n",
       "      <td>West</td>\n",
       "      <td>kariox</td>\n",
       "      <td>Corporate</td>\n",
       "      <td>headset</td>\n",
       "      <td>Standard Class</td>\n",
       "      <td>89.9548</td>\n",
       "      <td>95123</td>\n",
       "      <td>...</td>\n",
       "      <td>0</td>\n",
       "      <td>0</td>\n",
       "      <td>0</td>\n",
       "      <td>1</td>\n",
       "      <td>0</td>\n",
       "      <td>1</td>\n",
       "      <td>0</td>\n",
       "      <td>0</td>\n",
       "      <td>0</td>\n",
       "      <td>0</td>\n",
       "    </tr>\n",
       "    <tr>\n",
       "      <th>6697</th>\n",
       "      <td>0.0</td>\n",
       "      <td>2.040</td>\n",
       "      <td>1</td>\n",
       "      <td>East</td>\n",
       "      <td>kariox</td>\n",
       "      <td>Consumer</td>\n",
       "      <td>watch</td>\n",
       "      <td>Standard Class</td>\n",
       "      <td>0.9588</td>\n",
       "      <td>5408</td>\n",
       "      <td>...</td>\n",
       "      <td>0</td>\n",
       "      <td>1</td>\n",
       "      <td>0</td>\n",
       "      <td>1</td>\n",
       "      <td>1</td>\n",
       "      <td>0</td>\n",
       "      <td>1</td>\n",
       "      <td>1</td>\n",
       "      <td>1</td>\n",
       "      <td>1</td>\n",
       "    </tr>\n",
       "    <tr>\n",
       "      <th>6698</th>\n",
       "      <td>0.1</td>\n",
       "      <td>207.846</td>\n",
       "      <td>3</td>\n",
       "      <td>East</td>\n",
       "      <td>qexty</td>\n",
       "      <td>Corporate</td>\n",
       "      <td>tshirts</td>\n",
       "      <td>Second Class</td>\n",
       "      <td>2.3094</td>\n",
       "      <td>10024</td>\n",
       "      <td>...</td>\n",
       "      <td>0</td>\n",
       "      <td>0</td>\n",
       "      <td>0</td>\n",
       "      <td>0</td>\n",
       "      <td>0</td>\n",
       "      <td>0</td>\n",
       "      <td>1</td>\n",
       "      <td>0</td>\n",
       "      <td>1</td>\n",
       "      <td>1</td>\n",
       "    </tr>\n",
       "    <tr>\n",
       "      <th>6699</th>\n",
       "      <td>0.2</td>\n",
       "      <td>160.776</td>\n",
       "      <td>3</td>\n",
       "      <td>West</td>\n",
       "      <td>fynota</td>\n",
       "      <td>Consumer</td>\n",
       "      <td>colddrinks</td>\n",
       "      <td>Standard Class</td>\n",
       "      <td>10.0485</td>\n",
       "      <td>90045</td>\n",
       "      <td>...</td>\n",
       "      <td>0</td>\n",
       "      <td>0</td>\n",
       "      <td>0</td>\n",
       "      <td>0</td>\n",
       "      <td>0</td>\n",
       "      <td>0</td>\n",
       "      <td>0</td>\n",
       "      <td>1</td>\n",
       "      <td>1</td>\n",
       "      <td>0</td>\n",
       "    </tr>\n",
       "  </tbody>\n",
       "</table>\n",
       "<p>6700 rows × 24 columns</p>\n",
       "</div>"
      ],
      "text/plain": [
       "      discount    price  no of items location   class    segment   sub-class  \\\n",
       "0          0.2   16.448            2  Central  kariox   Consumer       phone   \n",
       "1          0.0   29.700            5  Central  kariox   Consumer     headset   \n",
       "2          0.0   14.730            3  Central   qexty   Consumer      shorts   \n",
       "3          0.0   43.920            3  Central  kariox   Consumer  television   \n",
       "4          0.0   66.580            2  Central  kariox   Consumer      laptop   \n",
       "...        ...      ...          ...      ...     ...        ...         ...   \n",
       "6695       0.0  542.940            3     East  kariox   Consumer     battery   \n",
       "6696       0.2  276.784            2     West  kariox  Corporate     headset   \n",
       "6697       0.0    2.040            1     East  kariox   Consumer       watch   \n",
       "6698       0.1  207.846            3     East   qexty  Corporate     tshirts   \n",
       "6699       0.2  160.776            3     West  fynota   Consumer  colddrinks   \n",
       "\n",
       "       delivery type    profit  address code  ... departure city_1  \\\n",
       "0     Standard Class    5.5512         77095  ...                0   \n",
       "1     Standard Class   13.3650         48185  ...                0   \n",
       "2     Standard Class    4.8609         48185  ...                0   \n",
       "3     Standard Class   12.7368         48185  ...                0   \n",
       "4     Standard Class   15.9792         48185  ...                0   \n",
       "...              ...       ...           ...  ...              ...   \n",
       "6695  Standard Class  152.0232          5408  ...                0   \n",
       "6696  Standard Class   89.9548         95123  ...                0   \n",
       "6697  Standard Class    0.9588          5408  ...                0   \n",
       "6698    Second Class    2.3094         10024  ...                0   \n",
       "6699  Standard Class   10.0485         90045  ...                0   \n",
       "\n",
       "      departure city_2  departure city_3  departure city_4  departure city_5  \\\n",
       "0                    0                 0                 0                 0   \n",
       "1                    0                 0                 0                 0   \n",
       "2                    0                 0                 0                 0   \n",
       "3                    0                 0                 0                 0   \n",
       "4                    0                 0                 0                 0   \n",
       "...                ...               ...               ...               ...   \n",
       "6695                 1                 0                 1                 1   \n",
       "6696                 0                 0                 1                 0   \n",
       "6697                 1                 0                 1                 1   \n",
       "6698                 0                 0                 0                 0   \n",
       "6699                 0                 0                 0                 0   \n",
       "\n",
       "      departure city_6  departure city_7  departure city_8  departure city_9  \\\n",
       "0                    0                 0                 0                 0   \n",
       "1                    0                 0                 0                 1   \n",
       "2                    0                 0                 0                 1   \n",
       "3                    0                 0                 0                 1   \n",
       "4                    0                 0                 0                 1   \n",
       "...                ...               ...               ...               ...   \n",
       "6695                 0                 1                 1                 1   \n",
       "6696                 1                 0                 0                 0   \n",
       "6697                 0                 1                 1                 1   \n",
       "6698                 0                 1                 0                 1   \n",
       "6699                 0                 0                 1                 1   \n",
       "\n",
       "      departure city_10  \n",
       "0                     1  \n",
       "1                     0  \n",
       "2                     0  \n",
       "3                     0  \n",
       "4                     0  \n",
       "...                 ...  \n",
       "6695                  1  \n",
       "6696                  0  \n",
       "6697                  1  \n",
       "6698                  1  \n",
       "6699                  0  \n",
       "\n",
       "[6700 rows x 24 columns]"
      ]
     },
     "execution_count": 84,
     "metadata": {},
     "output_type": "execute_result"
    }
   ],
   "source": [
    "df = pd.concat([df, df_departurecity_train], axis = 1)\n",
    "df = df.drop(['departure city', 'departure city'], axis = 1)\n",
    "df"
   ]
  },
  {
   "cell_type": "code",
   "execution_count": 85,
   "metadata": {
    "colab": {
     "base_uri": "https://localhost:8080/"
    },
    "id": "66fu3Y4qHWk2",
    "outputId": "69bf3e5e-9f70-4534-b186-c173875445c7"
   },
   "outputs": [
    {
     "data": {
      "text/plain": [
       "Index(['discount', 'price', 'no of items', 'location', 'class', 'segment',\n",
       "       'sub-class', 'delivery type', 'profit', 'address code',\n",
       "       'departure state', 'month', 'quarter', 'departure city_0',\n",
       "       'departure city_1', 'departure city_2', 'departure city_3',\n",
       "       'departure city_4', 'departure city_5', 'departure city_6',\n",
       "       'departure city_7', 'departure city_8', 'departure city_9',\n",
       "       'departure city_10'],\n",
       "      dtype='object')"
      ]
     },
     "execution_count": 85,
     "metadata": {},
     "output_type": "execute_result"
    }
   ],
   "source": [
    "df.columns "
   ]
  },
  {
   "cell_type": "markdown",
   "metadata": {
    "id": "GTYQbExGVzWg"
   },
   "source": []
  },
  {
   "cell_type": "markdown",
   "metadata": {
    "id": "074NpLzXq_zZ"
   },
   "source": [
    "# Encoding_departure_state"
   ]
  },
  {
   "cell_type": "code",
   "execution_count": 86,
   "metadata": {
    "colab": {
     "base_uri": "https://localhost:8080/",
     "height": 1000
    },
    "id": "JZwSPAp3uSBl",
    "outputId": "ddfb7fa3-3d5a-4eba-e2a7-8a92437c31dd"
   },
   "outputs": [
    {
     "data": {
      "text/html": [
       "<div>\n",
       "<style scoped>\n",
       "    .dataframe tbody tr th:only-of-type {\n",
       "        vertical-align: middle;\n",
       "    }\n",
       "\n",
       "    .dataframe tbody tr th {\n",
       "        vertical-align: top;\n",
       "    }\n",
       "\n",
       "    .dataframe thead th {\n",
       "        text-align: right;\n",
       "    }\n",
       "</style>\n",
       "<table border=\"1\" class=\"dataframe\">\n",
       "  <thead>\n",
       "    <tr style=\"text-align: right;\">\n",
       "      <th></th>\n",
       "      <th>departure state</th>\n",
       "    </tr>\n",
       "  </thead>\n",
       "  <tbody>\n",
       "    <tr>\n",
       "      <th>0</th>\n",
       "      <td>Texas</td>\n",
       "    </tr>\n",
       "    <tr>\n",
       "      <th>1</th>\n",
       "      <td>Michigan</td>\n",
       "    </tr>\n",
       "    <tr>\n",
       "      <th>2</th>\n",
       "      <td>Tennessee</td>\n",
       "    </tr>\n",
       "    <tr>\n",
       "      <th>3</th>\n",
       "      <td>Arkansas</td>\n",
       "    </tr>\n",
       "    <tr>\n",
       "      <th>4</th>\n",
       "      <td>Arizona</td>\n",
       "    </tr>\n",
       "    <tr>\n",
       "      <th>5</th>\n",
       "      <td>California</td>\n",
       "    </tr>\n",
       "    <tr>\n",
       "      <th>6</th>\n",
       "      <td>Florida</td>\n",
       "    </tr>\n",
       "    <tr>\n",
       "      <th>7</th>\n",
       "      <td>Indiana</td>\n",
       "    </tr>\n",
       "    <tr>\n",
       "      <th>8</th>\n",
       "      <td>New York</td>\n",
       "    </tr>\n",
       "    <tr>\n",
       "      <th>9</th>\n",
       "      <td>Nevada</td>\n",
       "    </tr>\n",
       "    <tr>\n",
       "      <th>10</th>\n",
       "      <td>South Dakota</td>\n",
       "    </tr>\n",
       "    <tr>\n",
       "      <th>11</th>\n",
       "      <td>Virginia</td>\n",
       "    </tr>\n",
       "    <tr>\n",
       "      <th>12</th>\n",
       "      <td>Oregon</td>\n",
       "    </tr>\n",
       "    <tr>\n",
       "      <th>13</th>\n",
       "      <td>Kentucky</td>\n",
       "    </tr>\n",
       "    <tr>\n",
       "      <th>14</th>\n",
       "      <td>Georgia</td>\n",
       "    </tr>\n",
       "    <tr>\n",
       "      <th>15</th>\n",
       "      <td>Pennsylvania</td>\n",
       "    </tr>\n",
       "    <tr>\n",
       "      <th>16</th>\n",
       "      <td>Illinois</td>\n",
       "    </tr>\n",
       "    <tr>\n",
       "      <th>17</th>\n",
       "      <td>Louisiana</td>\n",
       "    </tr>\n",
       "    <tr>\n",
       "      <th>18</th>\n",
       "      <td>Delaware</td>\n",
       "    </tr>\n",
       "    <tr>\n",
       "      <th>19</th>\n",
       "      <td>Ohio</td>\n",
       "    </tr>\n",
       "    <tr>\n",
       "      <th>20</th>\n",
       "      <td>South Carolina</td>\n",
       "    </tr>\n",
       "    <tr>\n",
       "      <th>21</th>\n",
       "      <td>Washington</td>\n",
       "    </tr>\n",
       "    <tr>\n",
       "      <th>22</th>\n",
       "      <td>Missouri</td>\n",
       "    </tr>\n",
       "    <tr>\n",
       "      <th>23</th>\n",
       "      <td>Wisconsin</td>\n",
       "    </tr>\n",
       "    <tr>\n",
       "      <th>24</th>\n",
       "      <td>New Jersey</td>\n",
       "    </tr>\n",
       "    <tr>\n",
       "      <th>25</th>\n",
       "      <td>North Carolina</td>\n",
       "    </tr>\n",
       "    <tr>\n",
       "      <th>26</th>\n",
       "      <td>Mississippi</td>\n",
       "    </tr>\n",
       "    <tr>\n",
       "      <th>27</th>\n",
       "      <td>Minnesota</td>\n",
       "    </tr>\n",
       "    <tr>\n",
       "      <th>28</th>\n",
       "      <td>Iowa</td>\n",
       "    </tr>\n",
       "    <tr>\n",
       "      <th>29</th>\n",
       "      <td>New Mexico</td>\n",
       "    </tr>\n",
       "    <tr>\n",
       "      <th>30</th>\n",
       "      <td>Colorado</td>\n",
       "    </tr>\n",
       "    <tr>\n",
       "      <th>31</th>\n",
       "      <td>Utah</td>\n",
       "    </tr>\n",
       "    <tr>\n",
       "      <th>32</th>\n",
       "      <td>Maryland</td>\n",
       "    </tr>\n",
       "    <tr>\n",
       "      <th>33</th>\n",
       "      <td>Montana</td>\n",
       "    </tr>\n",
       "    <tr>\n",
       "      <th>34</th>\n",
       "      <td>Massachusetts</td>\n",
       "    </tr>\n",
       "    <tr>\n",
       "      <th>35</th>\n",
       "      <td>Alabama</td>\n",
       "    </tr>\n",
       "    <tr>\n",
       "      <th>36</th>\n",
       "      <td>Idaho</td>\n",
       "    </tr>\n",
       "    <tr>\n",
       "      <th>37</th>\n",
       "      <td>New Hampshire</td>\n",
       "    </tr>\n",
       "    <tr>\n",
       "      <th>38</th>\n",
       "      <td>Connecticut</td>\n",
       "    </tr>\n",
       "    <tr>\n",
       "      <th>39</th>\n",
       "      <td>Oklahoma</td>\n",
       "    </tr>\n",
       "    <tr>\n",
       "      <th>40</th>\n",
       "      <td>Nebraska</td>\n",
       "    </tr>\n",
       "    <tr>\n",
       "      <th>41</th>\n",
       "      <td>Maine</td>\n",
       "    </tr>\n",
       "    <tr>\n",
       "      <th>42</th>\n",
       "      <td>Kansas</td>\n",
       "    </tr>\n",
       "    <tr>\n",
       "      <th>43</th>\n",
       "      <td>Rhode Island</td>\n",
       "    </tr>\n",
       "    <tr>\n",
       "      <th>44</th>\n",
       "      <td>District of Columbia</td>\n",
       "    </tr>\n",
       "    <tr>\n",
       "      <th>45</th>\n",
       "      <td>Vermont</td>\n",
       "    </tr>\n",
       "    <tr>\n",
       "      <th>46</th>\n",
       "      <td>Wyoming</td>\n",
       "    </tr>\n",
       "    <tr>\n",
       "      <th>47</th>\n",
       "      <td>North Dakota</td>\n",
       "    </tr>\n",
       "    <tr>\n",
       "      <th>48</th>\n",
       "      <td>West Virginia</td>\n",
       "    </tr>\n",
       "  </tbody>\n",
       "</table>\n",
       "</div>"
      ],
      "text/plain": [
       "         departure state\n",
       "0                  Texas\n",
       "1               Michigan\n",
       "2              Tennessee\n",
       "3               Arkansas\n",
       "4                Arizona\n",
       "5             California\n",
       "6                Florida\n",
       "7                Indiana\n",
       "8               New York\n",
       "9                 Nevada\n",
       "10          South Dakota\n",
       "11              Virginia\n",
       "12                Oregon\n",
       "13              Kentucky\n",
       "14               Georgia\n",
       "15          Pennsylvania\n",
       "16              Illinois\n",
       "17             Louisiana\n",
       "18              Delaware\n",
       "19                  Ohio\n",
       "20        South Carolina\n",
       "21            Washington\n",
       "22              Missouri\n",
       "23             Wisconsin\n",
       "24            New Jersey\n",
       "25        North Carolina\n",
       "26           Mississippi\n",
       "27             Minnesota\n",
       "28                  Iowa\n",
       "29            New Mexico\n",
       "30              Colorado\n",
       "31                  Utah\n",
       "32              Maryland\n",
       "33               Montana\n",
       "34         Massachusetts\n",
       "35               Alabama\n",
       "36                 Idaho\n",
       "37         New Hampshire\n",
       "38           Connecticut\n",
       "39              Oklahoma\n",
       "40              Nebraska\n",
       "41                 Maine\n",
       "42                Kansas\n",
       "43          Rhode Island\n",
       "44  District of Columbia\n",
       "45               Vermont\n",
       "46               Wyoming\n",
       "47          North Dakota\n",
       "48         West Virginia"
      ]
     },
     "execution_count": 86,
     "metadata": {},
     "output_type": "execute_result"
    }
   ],
   "source": [
    "deps_data = pd.DataFrame({'departure state': final_df['departure state'].unique()})\n",
    "encoder_dep= ce.BinaryEncoder(cols=['departure state'],return_df=True)\n",
    "deps_data"
   ]
  },
  {
   "cell_type": "code",
   "execution_count": 87,
   "metadata": {
    "colab": {
     "base_uri": "https://localhost:8080/",
     "height": 1000
    },
    "id": "9oIjkp7Vu---",
    "outputId": "86bd5214-34e6-4b73-a38a-f71f07dff3e8"
   },
   "outputs": [
    {
     "name": "stderr",
     "output_type": "stream",
     "text": [
      "C:\\ProgramData\\Anaconda3\\lib\\site-packages\\category_encoders\\utils.py:21: FutureWarning: is_categorical is deprecated and will be removed in a future version.  Use is_categorical_dtype instead\n",
      "  elif pd.api.types.is_categorical(cols):\n"
     ]
    },
    {
     "data": {
      "text/html": [
       "<div>\n",
       "<style scoped>\n",
       "    .dataframe tbody tr th:only-of-type {\n",
       "        vertical-align: middle;\n",
       "    }\n",
       "\n",
       "    .dataframe tbody tr th {\n",
       "        vertical-align: top;\n",
       "    }\n",
       "\n",
       "    .dataframe thead th {\n",
       "        text-align: right;\n",
       "    }\n",
       "</style>\n",
       "<table border=\"1\" class=\"dataframe\">\n",
       "  <thead>\n",
       "    <tr style=\"text-align: right;\">\n",
       "      <th></th>\n",
       "      <th>departure state</th>\n",
       "      <th>departure state_0</th>\n",
       "      <th>departure state_1</th>\n",
       "      <th>departure state_2</th>\n",
       "      <th>departure state_3</th>\n",
       "      <th>departure state_4</th>\n",
       "      <th>departure state_5</th>\n",
       "      <th>departure state_6</th>\n",
       "    </tr>\n",
       "  </thead>\n",
       "  <tbody>\n",
       "    <tr>\n",
       "      <th>0</th>\n",
       "      <td>Texas</td>\n",
       "      <td>0</td>\n",
       "      <td>0</td>\n",
       "      <td>0</td>\n",
       "      <td>0</td>\n",
       "      <td>0</td>\n",
       "      <td>0</td>\n",
       "      <td>1</td>\n",
       "    </tr>\n",
       "    <tr>\n",
       "      <th>1</th>\n",
       "      <td>Michigan</td>\n",
       "      <td>0</td>\n",
       "      <td>0</td>\n",
       "      <td>0</td>\n",
       "      <td>0</td>\n",
       "      <td>0</td>\n",
       "      <td>1</td>\n",
       "      <td>0</td>\n",
       "    </tr>\n",
       "    <tr>\n",
       "      <th>2</th>\n",
       "      <td>Tennessee</td>\n",
       "      <td>0</td>\n",
       "      <td>0</td>\n",
       "      <td>0</td>\n",
       "      <td>0</td>\n",
       "      <td>0</td>\n",
       "      <td>1</td>\n",
       "      <td>1</td>\n",
       "    </tr>\n",
       "    <tr>\n",
       "      <th>3</th>\n",
       "      <td>Arkansas</td>\n",
       "      <td>0</td>\n",
       "      <td>0</td>\n",
       "      <td>0</td>\n",
       "      <td>0</td>\n",
       "      <td>1</td>\n",
       "      <td>0</td>\n",
       "      <td>0</td>\n",
       "    </tr>\n",
       "    <tr>\n",
       "      <th>4</th>\n",
       "      <td>Arizona</td>\n",
       "      <td>0</td>\n",
       "      <td>0</td>\n",
       "      <td>0</td>\n",
       "      <td>0</td>\n",
       "      <td>1</td>\n",
       "      <td>0</td>\n",
       "      <td>1</td>\n",
       "    </tr>\n",
       "    <tr>\n",
       "      <th>5</th>\n",
       "      <td>California</td>\n",
       "      <td>0</td>\n",
       "      <td>0</td>\n",
       "      <td>0</td>\n",
       "      <td>0</td>\n",
       "      <td>1</td>\n",
       "      <td>1</td>\n",
       "      <td>0</td>\n",
       "    </tr>\n",
       "    <tr>\n",
       "      <th>6</th>\n",
       "      <td>Florida</td>\n",
       "      <td>0</td>\n",
       "      <td>0</td>\n",
       "      <td>0</td>\n",
       "      <td>0</td>\n",
       "      <td>1</td>\n",
       "      <td>1</td>\n",
       "      <td>1</td>\n",
       "    </tr>\n",
       "    <tr>\n",
       "      <th>7</th>\n",
       "      <td>Indiana</td>\n",
       "      <td>0</td>\n",
       "      <td>0</td>\n",
       "      <td>0</td>\n",
       "      <td>1</td>\n",
       "      <td>0</td>\n",
       "      <td>0</td>\n",
       "      <td>0</td>\n",
       "    </tr>\n",
       "    <tr>\n",
       "      <th>8</th>\n",
       "      <td>New York</td>\n",
       "      <td>0</td>\n",
       "      <td>0</td>\n",
       "      <td>0</td>\n",
       "      <td>1</td>\n",
       "      <td>0</td>\n",
       "      <td>0</td>\n",
       "      <td>1</td>\n",
       "    </tr>\n",
       "    <tr>\n",
       "      <th>9</th>\n",
       "      <td>Nevada</td>\n",
       "      <td>0</td>\n",
       "      <td>0</td>\n",
       "      <td>0</td>\n",
       "      <td>1</td>\n",
       "      <td>0</td>\n",
       "      <td>1</td>\n",
       "      <td>0</td>\n",
       "    </tr>\n",
       "    <tr>\n",
       "      <th>10</th>\n",
       "      <td>South Dakota</td>\n",
       "      <td>0</td>\n",
       "      <td>0</td>\n",
       "      <td>0</td>\n",
       "      <td>1</td>\n",
       "      <td>0</td>\n",
       "      <td>1</td>\n",
       "      <td>1</td>\n",
       "    </tr>\n",
       "    <tr>\n",
       "      <th>11</th>\n",
       "      <td>Virginia</td>\n",
       "      <td>0</td>\n",
       "      <td>0</td>\n",
       "      <td>0</td>\n",
       "      <td>1</td>\n",
       "      <td>1</td>\n",
       "      <td>0</td>\n",
       "      <td>0</td>\n",
       "    </tr>\n",
       "    <tr>\n",
       "      <th>12</th>\n",
       "      <td>Oregon</td>\n",
       "      <td>0</td>\n",
       "      <td>0</td>\n",
       "      <td>0</td>\n",
       "      <td>1</td>\n",
       "      <td>1</td>\n",
       "      <td>0</td>\n",
       "      <td>1</td>\n",
       "    </tr>\n",
       "    <tr>\n",
       "      <th>13</th>\n",
       "      <td>Kentucky</td>\n",
       "      <td>0</td>\n",
       "      <td>0</td>\n",
       "      <td>0</td>\n",
       "      <td>1</td>\n",
       "      <td>1</td>\n",
       "      <td>1</td>\n",
       "      <td>0</td>\n",
       "    </tr>\n",
       "    <tr>\n",
       "      <th>14</th>\n",
       "      <td>Georgia</td>\n",
       "      <td>0</td>\n",
       "      <td>0</td>\n",
       "      <td>0</td>\n",
       "      <td>1</td>\n",
       "      <td>1</td>\n",
       "      <td>1</td>\n",
       "      <td>1</td>\n",
       "    </tr>\n",
       "    <tr>\n",
       "      <th>15</th>\n",
       "      <td>Pennsylvania</td>\n",
       "      <td>0</td>\n",
       "      <td>0</td>\n",
       "      <td>1</td>\n",
       "      <td>0</td>\n",
       "      <td>0</td>\n",
       "      <td>0</td>\n",
       "      <td>0</td>\n",
       "    </tr>\n",
       "    <tr>\n",
       "      <th>16</th>\n",
       "      <td>Illinois</td>\n",
       "      <td>0</td>\n",
       "      <td>0</td>\n",
       "      <td>1</td>\n",
       "      <td>0</td>\n",
       "      <td>0</td>\n",
       "      <td>0</td>\n",
       "      <td>1</td>\n",
       "    </tr>\n",
       "    <tr>\n",
       "      <th>17</th>\n",
       "      <td>Louisiana</td>\n",
       "      <td>0</td>\n",
       "      <td>0</td>\n",
       "      <td>1</td>\n",
       "      <td>0</td>\n",
       "      <td>0</td>\n",
       "      <td>1</td>\n",
       "      <td>0</td>\n",
       "    </tr>\n",
       "    <tr>\n",
       "      <th>18</th>\n",
       "      <td>Delaware</td>\n",
       "      <td>0</td>\n",
       "      <td>0</td>\n",
       "      <td>1</td>\n",
       "      <td>0</td>\n",
       "      <td>0</td>\n",
       "      <td>1</td>\n",
       "      <td>1</td>\n",
       "    </tr>\n",
       "    <tr>\n",
       "      <th>19</th>\n",
       "      <td>Ohio</td>\n",
       "      <td>0</td>\n",
       "      <td>0</td>\n",
       "      <td>1</td>\n",
       "      <td>0</td>\n",
       "      <td>1</td>\n",
       "      <td>0</td>\n",
       "      <td>0</td>\n",
       "    </tr>\n",
       "    <tr>\n",
       "      <th>20</th>\n",
       "      <td>South Carolina</td>\n",
       "      <td>0</td>\n",
       "      <td>0</td>\n",
       "      <td>1</td>\n",
       "      <td>0</td>\n",
       "      <td>1</td>\n",
       "      <td>0</td>\n",
       "      <td>1</td>\n",
       "    </tr>\n",
       "    <tr>\n",
       "      <th>21</th>\n",
       "      <td>Washington</td>\n",
       "      <td>0</td>\n",
       "      <td>0</td>\n",
       "      <td>1</td>\n",
       "      <td>0</td>\n",
       "      <td>1</td>\n",
       "      <td>1</td>\n",
       "      <td>0</td>\n",
       "    </tr>\n",
       "    <tr>\n",
       "      <th>22</th>\n",
       "      <td>Missouri</td>\n",
       "      <td>0</td>\n",
       "      <td>0</td>\n",
       "      <td>1</td>\n",
       "      <td>0</td>\n",
       "      <td>1</td>\n",
       "      <td>1</td>\n",
       "      <td>1</td>\n",
       "    </tr>\n",
       "    <tr>\n",
       "      <th>23</th>\n",
       "      <td>Wisconsin</td>\n",
       "      <td>0</td>\n",
       "      <td>0</td>\n",
       "      <td>1</td>\n",
       "      <td>1</td>\n",
       "      <td>0</td>\n",
       "      <td>0</td>\n",
       "      <td>0</td>\n",
       "    </tr>\n",
       "    <tr>\n",
       "      <th>24</th>\n",
       "      <td>New Jersey</td>\n",
       "      <td>0</td>\n",
       "      <td>0</td>\n",
       "      <td>1</td>\n",
       "      <td>1</td>\n",
       "      <td>0</td>\n",
       "      <td>0</td>\n",
       "      <td>1</td>\n",
       "    </tr>\n",
       "    <tr>\n",
       "      <th>25</th>\n",
       "      <td>North Carolina</td>\n",
       "      <td>0</td>\n",
       "      <td>0</td>\n",
       "      <td>1</td>\n",
       "      <td>1</td>\n",
       "      <td>0</td>\n",
       "      <td>1</td>\n",
       "      <td>0</td>\n",
       "    </tr>\n",
       "    <tr>\n",
       "      <th>26</th>\n",
       "      <td>Mississippi</td>\n",
       "      <td>0</td>\n",
       "      <td>0</td>\n",
       "      <td>1</td>\n",
       "      <td>1</td>\n",
       "      <td>0</td>\n",
       "      <td>1</td>\n",
       "      <td>1</td>\n",
       "    </tr>\n",
       "    <tr>\n",
       "      <th>27</th>\n",
       "      <td>Minnesota</td>\n",
       "      <td>0</td>\n",
       "      <td>0</td>\n",
       "      <td>1</td>\n",
       "      <td>1</td>\n",
       "      <td>1</td>\n",
       "      <td>0</td>\n",
       "      <td>0</td>\n",
       "    </tr>\n",
       "    <tr>\n",
       "      <th>28</th>\n",
       "      <td>Iowa</td>\n",
       "      <td>0</td>\n",
       "      <td>0</td>\n",
       "      <td>1</td>\n",
       "      <td>1</td>\n",
       "      <td>1</td>\n",
       "      <td>0</td>\n",
       "      <td>1</td>\n",
       "    </tr>\n",
       "    <tr>\n",
       "      <th>29</th>\n",
       "      <td>New Mexico</td>\n",
       "      <td>0</td>\n",
       "      <td>0</td>\n",
       "      <td>1</td>\n",
       "      <td>1</td>\n",
       "      <td>1</td>\n",
       "      <td>1</td>\n",
       "      <td>0</td>\n",
       "    </tr>\n",
       "    <tr>\n",
       "      <th>30</th>\n",
       "      <td>Colorado</td>\n",
       "      <td>0</td>\n",
       "      <td>0</td>\n",
       "      <td>1</td>\n",
       "      <td>1</td>\n",
       "      <td>1</td>\n",
       "      <td>1</td>\n",
       "      <td>1</td>\n",
       "    </tr>\n",
       "    <tr>\n",
       "      <th>31</th>\n",
       "      <td>Utah</td>\n",
       "      <td>0</td>\n",
       "      <td>1</td>\n",
       "      <td>0</td>\n",
       "      <td>0</td>\n",
       "      <td>0</td>\n",
       "      <td>0</td>\n",
       "      <td>0</td>\n",
       "    </tr>\n",
       "    <tr>\n",
       "      <th>32</th>\n",
       "      <td>Maryland</td>\n",
       "      <td>0</td>\n",
       "      <td>1</td>\n",
       "      <td>0</td>\n",
       "      <td>0</td>\n",
       "      <td>0</td>\n",
       "      <td>0</td>\n",
       "      <td>1</td>\n",
       "    </tr>\n",
       "    <tr>\n",
       "      <th>33</th>\n",
       "      <td>Montana</td>\n",
       "      <td>0</td>\n",
       "      <td>1</td>\n",
       "      <td>0</td>\n",
       "      <td>0</td>\n",
       "      <td>0</td>\n",
       "      <td>1</td>\n",
       "      <td>0</td>\n",
       "    </tr>\n",
       "    <tr>\n",
       "      <th>34</th>\n",
       "      <td>Massachusetts</td>\n",
       "      <td>0</td>\n",
       "      <td>1</td>\n",
       "      <td>0</td>\n",
       "      <td>0</td>\n",
       "      <td>0</td>\n",
       "      <td>1</td>\n",
       "      <td>1</td>\n",
       "    </tr>\n",
       "    <tr>\n",
       "      <th>35</th>\n",
       "      <td>Alabama</td>\n",
       "      <td>0</td>\n",
       "      <td>1</td>\n",
       "      <td>0</td>\n",
       "      <td>0</td>\n",
       "      <td>1</td>\n",
       "      <td>0</td>\n",
       "      <td>0</td>\n",
       "    </tr>\n",
       "    <tr>\n",
       "      <th>36</th>\n",
       "      <td>Idaho</td>\n",
       "      <td>0</td>\n",
       "      <td>1</td>\n",
       "      <td>0</td>\n",
       "      <td>0</td>\n",
       "      <td>1</td>\n",
       "      <td>0</td>\n",
       "      <td>1</td>\n",
       "    </tr>\n",
       "    <tr>\n",
       "      <th>37</th>\n",
       "      <td>New Hampshire</td>\n",
       "      <td>0</td>\n",
       "      <td>1</td>\n",
       "      <td>0</td>\n",
       "      <td>0</td>\n",
       "      <td>1</td>\n",
       "      <td>1</td>\n",
       "      <td>0</td>\n",
       "    </tr>\n",
       "    <tr>\n",
       "      <th>38</th>\n",
       "      <td>Connecticut</td>\n",
       "      <td>0</td>\n",
       "      <td>1</td>\n",
       "      <td>0</td>\n",
       "      <td>0</td>\n",
       "      <td>1</td>\n",
       "      <td>1</td>\n",
       "      <td>1</td>\n",
       "    </tr>\n",
       "    <tr>\n",
       "      <th>39</th>\n",
       "      <td>Oklahoma</td>\n",
       "      <td>0</td>\n",
       "      <td>1</td>\n",
       "      <td>0</td>\n",
       "      <td>1</td>\n",
       "      <td>0</td>\n",
       "      <td>0</td>\n",
       "      <td>0</td>\n",
       "    </tr>\n",
       "    <tr>\n",
       "      <th>40</th>\n",
       "      <td>Nebraska</td>\n",
       "      <td>0</td>\n",
       "      <td>1</td>\n",
       "      <td>0</td>\n",
       "      <td>1</td>\n",
       "      <td>0</td>\n",
       "      <td>0</td>\n",
       "      <td>1</td>\n",
       "    </tr>\n",
       "    <tr>\n",
       "      <th>41</th>\n",
       "      <td>Maine</td>\n",
       "      <td>0</td>\n",
       "      <td>1</td>\n",
       "      <td>0</td>\n",
       "      <td>1</td>\n",
       "      <td>0</td>\n",
       "      <td>1</td>\n",
       "      <td>0</td>\n",
       "    </tr>\n",
       "    <tr>\n",
       "      <th>42</th>\n",
       "      <td>Kansas</td>\n",
       "      <td>0</td>\n",
       "      <td>1</td>\n",
       "      <td>0</td>\n",
       "      <td>1</td>\n",
       "      <td>0</td>\n",
       "      <td>1</td>\n",
       "      <td>1</td>\n",
       "    </tr>\n",
       "    <tr>\n",
       "      <th>43</th>\n",
       "      <td>Rhode Island</td>\n",
       "      <td>0</td>\n",
       "      <td>1</td>\n",
       "      <td>0</td>\n",
       "      <td>1</td>\n",
       "      <td>1</td>\n",
       "      <td>0</td>\n",
       "      <td>0</td>\n",
       "    </tr>\n",
       "    <tr>\n",
       "      <th>44</th>\n",
       "      <td>District of Columbia</td>\n",
       "      <td>0</td>\n",
       "      <td>1</td>\n",
       "      <td>0</td>\n",
       "      <td>1</td>\n",
       "      <td>1</td>\n",
       "      <td>0</td>\n",
       "      <td>1</td>\n",
       "    </tr>\n",
       "    <tr>\n",
       "      <th>45</th>\n",
       "      <td>Vermont</td>\n",
       "      <td>0</td>\n",
       "      <td>1</td>\n",
       "      <td>0</td>\n",
       "      <td>1</td>\n",
       "      <td>1</td>\n",
       "      <td>1</td>\n",
       "      <td>0</td>\n",
       "    </tr>\n",
       "    <tr>\n",
       "      <th>46</th>\n",
       "      <td>Wyoming</td>\n",
       "      <td>0</td>\n",
       "      <td>1</td>\n",
       "      <td>0</td>\n",
       "      <td>1</td>\n",
       "      <td>1</td>\n",
       "      <td>1</td>\n",
       "      <td>1</td>\n",
       "    </tr>\n",
       "    <tr>\n",
       "      <th>47</th>\n",
       "      <td>North Dakota</td>\n",
       "      <td>0</td>\n",
       "      <td>1</td>\n",
       "      <td>1</td>\n",
       "      <td>0</td>\n",
       "      <td>0</td>\n",
       "      <td>0</td>\n",
       "      <td>0</td>\n",
       "    </tr>\n",
       "    <tr>\n",
       "      <th>48</th>\n",
       "      <td>West Virginia</td>\n",
       "      <td>0</td>\n",
       "      <td>1</td>\n",
       "      <td>1</td>\n",
       "      <td>0</td>\n",
       "      <td>0</td>\n",
       "      <td>0</td>\n",
       "      <td>1</td>\n",
       "    </tr>\n",
       "  </tbody>\n",
       "</table>\n",
       "</div>"
      ],
      "text/plain": [
       "         departure state  departure state_0  departure state_1  \\\n",
       "0                  Texas                  0                  0   \n",
       "1               Michigan                  0                  0   \n",
       "2              Tennessee                  0                  0   \n",
       "3               Arkansas                  0                  0   \n",
       "4                Arizona                  0                  0   \n",
       "5             California                  0                  0   \n",
       "6                Florida                  0                  0   \n",
       "7                Indiana                  0                  0   \n",
       "8               New York                  0                  0   \n",
       "9                 Nevada                  0                  0   \n",
       "10          South Dakota                  0                  0   \n",
       "11              Virginia                  0                  0   \n",
       "12                Oregon                  0                  0   \n",
       "13              Kentucky                  0                  0   \n",
       "14               Georgia                  0                  0   \n",
       "15          Pennsylvania                  0                  0   \n",
       "16              Illinois                  0                  0   \n",
       "17             Louisiana                  0                  0   \n",
       "18              Delaware                  0                  0   \n",
       "19                  Ohio                  0                  0   \n",
       "20        South Carolina                  0                  0   \n",
       "21            Washington                  0                  0   \n",
       "22              Missouri                  0                  0   \n",
       "23             Wisconsin                  0                  0   \n",
       "24            New Jersey                  0                  0   \n",
       "25        North Carolina                  0                  0   \n",
       "26           Mississippi                  0                  0   \n",
       "27             Minnesota                  0                  0   \n",
       "28                  Iowa                  0                  0   \n",
       "29            New Mexico                  0                  0   \n",
       "30              Colorado                  0                  0   \n",
       "31                  Utah                  0                  1   \n",
       "32              Maryland                  0                  1   \n",
       "33               Montana                  0                  1   \n",
       "34         Massachusetts                  0                  1   \n",
       "35               Alabama                  0                  1   \n",
       "36                 Idaho                  0                  1   \n",
       "37         New Hampshire                  0                  1   \n",
       "38           Connecticut                  0                  1   \n",
       "39              Oklahoma                  0                  1   \n",
       "40              Nebraska                  0                  1   \n",
       "41                 Maine                  0                  1   \n",
       "42                Kansas                  0                  1   \n",
       "43          Rhode Island                  0                  1   \n",
       "44  District of Columbia                  0                  1   \n",
       "45               Vermont                  0                  1   \n",
       "46               Wyoming                  0                  1   \n",
       "47          North Dakota                  0                  1   \n",
       "48         West Virginia                  0                  1   \n",
       "\n",
       "    departure state_2  departure state_3  departure state_4  \\\n",
       "0                   0                  0                  0   \n",
       "1                   0                  0                  0   \n",
       "2                   0                  0                  0   \n",
       "3                   0                  0                  1   \n",
       "4                   0                  0                  1   \n",
       "5                   0                  0                  1   \n",
       "6                   0                  0                  1   \n",
       "7                   0                  1                  0   \n",
       "8                   0                  1                  0   \n",
       "9                   0                  1                  0   \n",
       "10                  0                  1                  0   \n",
       "11                  0                  1                  1   \n",
       "12                  0                  1                  1   \n",
       "13                  0                  1                  1   \n",
       "14                  0                  1                  1   \n",
       "15                  1                  0                  0   \n",
       "16                  1                  0                  0   \n",
       "17                  1                  0                  0   \n",
       "18                  1                  0                  0   \n",
       "19                  1                  0                  1   \n",
       "20                  1                  0                  1   \n",
       "21                  1                  0                  1   \n",
       "22                  1                  0                  1   \n",
       "23                  1                  1                  0   \n",
       "24                  1                  1                  0   \n",
       "25                  1                  1                  0   \n",
       "26                  1                  1                  0   \n",
       "27                  1                  1                  1   \n",
       "28                  1                  1                  1   \n",
       "29                  1                  1                  1   \n",
       "30                  1                  1                  1   \n",
       "31                  0                  0                  0   \n",
       "32                  0                  0                  0   \n",
       "33                  0                  0                  0   \n",
       "34                  0                  0                  0   \n",
       "35                  0                  0                  1   \n",
       "36                  0                  0                  1   \n",
       "37                  0                  0                  1   \n",
       "38                  0                  0                  1   \n",
       "39                  0                  1                  0   \n",
       "40                  0                  1                  0   \n",
       "41                  0                  1                  0   \n",
       "42                  0                  1                  0   \n",
       "43                  0                  1                  1   \n",
       "44                  0                  1                  1   \n",
       "45                  0                  1                  1   \n",
       "46                  0                  1                  1   \n",
       "47                  1                  0                  0   \n",
       "48                  1                  0                  0   \n",
       "\n",
       "    departure state_5  departure state_6  \n",
       "0                   0                  1  \n",
       "1                   1                  0  \n",
       "2                   1                  1  \n",
       "3                   0                  0  \n",
       "4                   0                  1  \n",
       "5                   1                  0  \n",
       "6                   1                  1  \n",
       "7                   0                  0  \n",
       "8                   0                  1  \n",
       "9                   1                  0  \n",
       "10                  1                  1  \n",
       "11                  0                  0  \n",
       "12                  0                  1  \n",
       "13                  1                  0  \n",
       "14                  1                  1  \n",
       "15                  0                  0  \n",
       "16                  0                  1  \n",
       "17                  1                  0  \n",
       "18                  1                  1  \n",
       "19                  0                  0  \n",
       "20                  0                  1  \n",
       "21                  1                  0  \n",
       "22                  1                  1  \n",
       "23                  0                  0  \n",
       "24                  0                  1  \n",
       "25                  1                  0  \n",
       "26                  1                  1  \n",
       "27                  0                  0  \n",
       "28                  0                  1  \n",
       "29                  1                  0  \n",
       "30                  1                  1  \n",
       "31                  0                  0  \n",
       "32                  0                  1  \n",
       "33                  1                  0  \n",
       "34                  1                  1  \n",
       "35                  0                  0  \n",
       "36                  0                  1  \n",
       "37                  1                  0  \n",
       "38                  1                  1  \n",
       "39                  0                  0  \n",
       "40                  0                  1  \n",
       "41                  1                  0  \n",
       "42                  1                  1  \n",
       "43                  0                  0  \n",
       "44                  0                  1  \n",
       "45                  1                  0  \n",
       "46                  1                  1  \n",
       "47                  0                  0  \n",
       "48                  0                  1  "
      ]
     },
     "execution_count": 87,
     "metadata": {},
     "output_type": "execute_result"
    }
   ],
   "source": [
    "deps_data_encoded=encoder_dep.fit_transform(deps_data) \n",
    "df_deps = pd.concat([deps_data, deps_data_encoded], axis = 1)\n",
    "df_deps"
   ]
  },
  {
   "cell_type": "code",
   "execution_count": 88,
   "metadata": {
    "colab": {
     "base_uri": "https://localhost:8080/",
     "height": 418
    },
    "id": "Er3YAI-kvaJp",
    "outputId": "1b05c666-1e4b-4682-9aca-8a12ad5bc26d"
   },
   "outputs": [
    {
     "data": {
      "text/html": [
       "<div>\n",
       "<style scoped>\n",
       "    .dataframe tbody tr th:only-of-type {\n",
       "        vertical-align: middle;\n",
       "    }\n",
       "\n",
       "    .dataframe tbody tr th {\n",
       "        vertical-align: top;\n",
       "    }\n",
       "\n",
       "    .dataframe thead th {\n",
       "        text-align: right;\n",
       "    }\n",
       "</style>\n",
       "<table border=\"1\" class=\"dataframe\">\n",
       "  <thead>\n",
       "    <tr style=\"text-align: right;\">\n",
       "      <th></th>\n",
       "      <th>departure state</th>\n",
       "      <th>departure state_0</th>\n",
       "      <th>departure state_1</th>\n",
       "      <th>departure state_2</th>\n",
       "      <th>departure state_3</th>\n",
       "      <th>departure state_4</th>\n",
       "      <th>departure state_5</th>\n",
       "      <th>departure state_6</th>\n",
       "    </tr>\n",
       "  </thead>\n",
       "  <tbody>\n",
       "    <tr>\n",
       "      <th>0</th>\n",
       "      <td>Texas</td>\n",
       "      <td>0</td>\n",
       "      <td>0</td>\n",
       "      <td>0</td>\n",
       "      <td>0</td>\n",
       "      <td>0</td>\n",
       "      <td>0</td>\n",
       "      <td>1</td>\n",
       "    </tr>\n",
       "    <tr>\n",
       "      <th>1</th>\n",
       "      <td>Michigan</td>\n",
       "      <td>0</td>\n",
       "      <td>0</td>\n",
       "      <td>0</td>\n",
       "      <td>0</td>\n",
       "      <td>0</td>\n",
       "      <td>1</td>\n",
       "      <td>0</td>\n",
       "    </tr>\n",
       "    <tr>\n",
       "      <th>2</th>\n",
       "      <td>Michigan</td>\n",
       "      <td>0</td>\n",
       "      <td>0</td>\n",
       "      <td>0</td>\n",
       "      <td>0</td>\n",
       "      <td>0</td>\n",
       "      <td>1</td>\n",
       "      <td>0</td>\n",
       "    </tr>\n",
       "    <tr>\n",
       "      <th>3</th>\n",
       "      <td>Michigan</td>\n",
       "      <td>0</td>\n",
       "      <td>0</td>\n",
       "      <td>0</td>\n",
       "      <td>0</td>\n",
       "      <td>0</td>\n",
       "      <td>1</td>\n",
       "      <td>0</td>\n",
       "    </tr>\n",
       "    <tr>\n",
       "      <th>4</th>\n",
       "      <td>Michigan</td>\n",
       "      <td>0</td>\n",
       "      <td>0</td>\n",
       "      <td>0</td>\n",
       "      <td>0</td>\n",
       "      <td>0</td>\n",
       "      <td>1</td>\n",
       "      <td>0</td>\n",
       "    </tr>\n",
       "    <tr>\n",
       "      <th>...</th>\n",
       "      <td>...</td>\n",
       "      <td>...</td>\n",
       "      <td>...</td>\n",
       "      <td>...</td>\n",
       "      <td>...</td>\n",
       "      <td>...</td>\n",
       "      <td>...</td>\n",
       "      <td>...</td>\n",
       "    </tr>\n",
       "    <tr>\n",
       "      <th>9989</th>\n",
       "      <td>New York</td>\n",
       "      <td>0</td>\n",
       "      <td>0</td>\n",
       "      <td>0</td>\n",
       "      <td>1</td>\n",
       "      <td>0</td>\n",
       "      <td>0</td>\n",
       "      <td>1</td>\n",
       "    </tr>\n",
       "    <tr>\n",
       "      <th>9990</th>\n",
       "      <td>New York</td>\n",
       "      <td>0</td>\n",
       "      <td>0</td>\n",
       "      <td>0</td>\n",
       "      <td>1</td>\n",
       "      <td>0</td>\n",
       "      <td>0</td>\n",
       "      <td>1</td>\n",
       "    </tr>\n",
       "    <tr>\n",
       "      <th>9991</th>\n",
       "      <td>New York</td>\n",
       "      <td>0</td>\n",
       "      <td>0</td>\n",
       "      <td>0</td>\n",
       "      <td>1</td>\n",
       "      <td>0</td>\n",
       "      <td>0</td>\n",
       "      <td>1</td>\n",
       "    </tr>\n",
       "    <tr>\n",
       "      <th>9992</th>\n",
       "      <td>California</td>\n",
       "      <td>0</td>\n",
       "      <td>0</td>\n",
       "      <td>0</td>\n",
       "      <td>0</td>\n",
       "      <td>1</td>\n",
       "      <td>1</td>\n",
       "      <td>0</td>\n",
       "    </tr>\n",
       "    <tr>\n",
       "      <th>9993</th>\n",
       "      <td>Colorado</td>\n",
       "      <td>0</td>\n",
       "      <td>0</td>\n",
       "      <td>1</td>\n",
       "      <td>1</td>\n",
       "      <td>1</td>\n",
       "      <td>1</td>\n",
       "      <td>1</td>\n",
       "    </tr>\n",
       "  </tbody>\n",
       "</table>\n",
       "<p>9994 rows × 8 columns</p>\n",
       "</div>"
      ],
      "text/plain": [
       "     departure state  departure state_0  departure state_1  departure state_2  \\\n",
       "0              Texas                  0                  0                  0   \n",
       "1           Michigan                  0                  0                  0   \n",
       "2           Michigan                  0                  0                  0   \n",
       "3           Michigan                  0                  0                  0   \n",
       "4           Michigan                  0                  0                  0   \n",
       "...              ...                ...                ...                ...   \n",
       "9989        New York                  0                  0                  0   \n",
       "9990        New York                  0                  0                  0   \n",
       "9991        New York                  0                  0                  0   \n",
       "9992      California                  0                  0                  0   \n",
       "9993        Colorado                  0                  0                  1   \n",
       "\n",
       "      departure state_3  departure state_4  departure state_5  \\\n",
       "0                     0                  0                  0   \n",
       "1                     0                  0                  1   \n",
       "2                     0                  0                  1   \n",
       "3                     0                  0                  1   \n",
       "4                     0                  0                  1   \n",
       "...                 ...                ...                ...   \n",
       "9989                  1                  0                  0   \n",
       "9990                  1                  0                  0   \n",
       "9991                  1                  0                  0   \n",
       "9992                  0                  1                  1   \n",
       "9993                  1                  1                  1   \n",
       "\n",
       "      departure state_6  \n",
       "0                     1  \n",
       "1                     0  \n",
       "2                     0  \n",
       "3                     0  \n",
       "4                     0  \n",
       "...                 ...  \n",
       "9989                  1  \n",
       "9990                  1  \n",
       "9991                  1  \n",
       "9992                  0  \n",
       "9993                  1  \n",
       "\n",
       "[9994 rows x 8 columns]"
      ]
     },
     "execution_count": 88,
     "metadata": {},
     "output_type": "execute_result"
    }
   ],
   "source": [
    "final_df_deps = final_df['departure state']\n",
    "final_df_deps = pd.merge(final_df_deps, df_deps, how='left', on='departure state', left_on=None, right_on=None, left_index=False, right_index=False, sort=None)\n",
    "final_df_deps"
   ]
  },
  {
   "cell_type": "code",
   "execution_count": 89,
   "metadata": {
    "id": "OvkzW1DBwCwe"
   },
   "outputs": [],
   "source": [
    "df_departurestate_train = final_df_deps.iloc[:6700,:]\n",
    "df_departurestate_test = final_df_deps.iloc[6700:,:]"
   ]
  },
  {
   "cell_type": "code",
   "execution_count": 90,
   "metadata": {
    "colab": {
     "base_uri": "https://localhost:8080/",
     "height": 606
    },
    "id": "nkA6iuOzwW5a",
    "outputId": "eb318706-c55a-4377-e954-d370ba730e7c"
   },
   "outputs": [
    {
     "data": {
      "text/html": [
       "<div>\n",
       "<style scoped>\n",
       "    .dataframe tbody tr th:only-of-type {\n",
       "        vertical-align: middle;\n",
       "    }\n",
       "\n",
       "    .dataframe tbody tr th {\n",
       "        vertical-align: top;\n",
       "    }\n",
       "\n",
       "    .dataframe thead th {\n",
       "        text-align: right;\n",
       "    }\n",
       "</style>\n",
       "<table border=\"1\" class=\"dataframe\">\n",
       "  <thead>\n",
       "    <tr style=\"text-align: right;\">\n",
       "      <th></th>\n",
       "      <th>discount</th>\n",
       "      <th>price</th>\n",
       "      <th>no of items</th>\n",
       "      <th>location</th>\n",
       "      <th>class</th>\n",
       "      <th>segment</th>\n",
       "      <th>sub-class</th>\n",
       "      <th>delivery type</th>\n",
       "      <th>profit</th>\n",
       "      <th>address code</th>\n",
       "      <th>...</th>\n",
       "      <th>departure city_8</th>\n",
       "      <th>departure city_9</th>\n",
       "      <th>departure city_10</th>\n",
       "      <th>departure state_0</th>\n",
       "      <th>departure state_1</th>\n",
       "      <th>departure state_2</th>\n",
       "      <th>departure state_3</th>\n",
       "      <th>departure state_4</th>\n",
       "      <th>departure state_5</th>\n",
       "      <th>departure state_6</th>\n",
       "    </tr>\n",
       "  </thead>\n",
       "  <tbody>\n",
       "    <tr>\n",
       "      <th>0</th>\n",
       "      <td>0.2</td>\n",
       "      <td>16.448</td>\n",
       "      <td>2</td>\n",
       "      <td>Central</td>\n",
       "      <td>kariox</td>\n",
       "      <td>Consumer</td>\n",
       "      <td>phone</td>\n",
       "      <td>Standard Class</td>\n",
       "      <td>5.5512</td>\n",
       "      <td>77095</td>\n",
       "      <td>...</td>\n",
       "      <td>0</td>\n",
       "      <td>0</td>\n",
       "      <td>1</td>\n",
       "      <td>0</td>\n",
       "      <td>0</td>\n",
       "      <td>0</td>\n",
       "      <td>0</td>\n",
       "      <td>0</td>\n",
       "      <td>0</td>\n",
       "      <td>1</td>\n",
       "    </tr>\n",
       "    <tr>\n",
       "      <th>1</th>\n",
       "      <td>0.0</td>\n",
       "      <td>29.700</td>\n",
       "      <td>5</td>\n",
       "      <td>Central</td>\n",
       "      <td>kariox</td>\n",
       "      <td>Consumer</td>\n",
       "      <td>headset</td>\n",
       "      <td>Standard Class</td>\n",
       "      <td>13.3650</td>\n",
       "      <td>48185</td>\n",
       "      <td>...</td>\n",
       "      <td>0</td>\n",
       "      <td>1</td>\n",
       "      <td>0</td>\n",
       "      <td>0</td>\n",
       "      <td>0</td>\n",
       "      <td>0</td>\n",
       "      <td>0</td>\n",
       "      <td>0</td>\n",
       "      <td>1</td>\n",
       "      <td>0</td>\n",
       "    </tr>\n",
       "    <tr>\n",
       "      <th>2</th>\n",
       "      <td>0.0</td>\n",
       "      <td>14.730</td>\n",
       "      <td>3</td>\n",
       "      <td>Central</td>\n",
       "      <td>qexty</td>\n",
       "      <td>Consumer</td>\n",
       "      <td>shorts</td>\n",
       "      <td>Standard Class</td>\n",
       "      <td>4.8609</td>\n",
       "      <td>48185</td>\n",
       "      <td>...</td>\n",
       "      <td>0</td>\n",
       "      <td>1</td>\n",
       "      <td>0</td>\n",
       "      <td>0</td>\n",
       "      <td>0</td>\n",
       "      <td>0</td>\n",
       "      <td>0</td>\n",
       "      <td>0</td>\n",
       "      <td>1</td>\n",
       "      <td>0</td>\n",
       "    </tr>\n",
       "    <tr>\n",
       "      <th>3</th>\n",
       "      <td>0.0</td>\n",
       "      <td>43.920</td>\n",
       "      <td>3</td>\n",
       "      <td>Central</td>\n",
       "      <td>kariox</td>\n",
       "      <td>Consumer</td>\n",
       "      <td>television</td>\n",
       "      <td>Standard Class</td>\n",
       "      <td>12.7368</td>\n",
       "      <td>48185</td>\n",
       "      <td>...</td>\n",
       "      <td>0</td>\n",
       "      <td>1</td>\n",
       "      <td>0</td>\n",
       "      <td>0</td>\n",
       "      <td>0</td>\n",
       "      <td>0</td>\n",
       "      <td>0</td>\n",
       "      <td>0</td>\n",
       "      <td>1</td>\n",
       "      <td>0</td>\n",
       "    </tr>\n",
       "    <tr>\n",
       "      <th>4</th>\n",
       "      <td>0.0</td>\n",
       "      <td>66.580</td>\n",
       "      <td>2</td>\n",
       "      <td>Central</td>\n",
       "      <td>kariox</td>\n",
       "      <td>Consumer</td>\n",
       "      <td>laptop</td>\n",
       "      <td>Standard Class</td>\n",
       "      <td>15.9792</td>\n",
       "      <td>48185</td>\n",
       "      <td>...</td>\n",
       "      <td>0</td>\n",
       "      <td>1</td>\n",
       "      <td>0</td>\n",
       "      <td>0</td>\n",
       "      <td>0</td>\n",
       "      <td>0</td>\n",
       "      <td>0</td>\n",
       "      <td>0</td>\n",
       "      <td>1</td>\n",
       "      <td>0</td>\n",
       "    </tr>\n",
       "    <tr>\n",
       "      <th>...</th>\n",
       "      <td>...</td>\n",
       "      <td>...</td>\n",
       "      <td>...</td>\n",
       "      <td>...</td>\n",
       "      <td>...</td>\n",
       "      <td>...</td>\n",
       "      <td>...</td>\n",
       "      <td>...</td>\n",
       "      <td>...</td>\n",
       "      <td>...</td>\n",
       "      <td>...</td>\n",
       "      <td>...</td>\n",
       "      <td>...</td>\n",
       "      <td>...</td>\n",
       "      <td>...</td>\n",
       "      <td>...</td>\n",
       "      <td>...</td>\n",
       "      <td>...</td>\n",
       "      <td>...</td>\n",
       "      <td>...</td>\n",
       "      <td>...</td>\n",
       "    </tr>\n",
       "    <tr>\n",
       "      <th>6695</th>\n",
       "      <td>0.0</td>\n",
       "      <td>542.940</td>\n",
       "      <td>3</td>\n",
       "      <td>East</td>\n",
       "      <td>kariox</td>\n",
       "      <td>Consumer</td>\n",
       "      <td>battery</td>\n",
       "      <td>Standard Class</td>\n",
       "      <td>152.0232</td>\n",
       "      <td>5408</td>\n",
       "      <td>...</td>\n",
       "      <td>1</td>\n",
       "      <td>1</td>\n",
       "      <td>1</td>\n",
       "      <td>0</td>\n",
       "      <td>1</td>\n",
       "      <td>0</td>\n",
       "      <td>1</td>\n",
       "      <td>1</td>\n",
       "      <td>1</td>\n",
       "      <td>0</td>\n",
       "    </tr>\n",
       "    <tr>\n",
       "      <th>6696</th>\n",
       "      <td>0.2</td>\n",
       "      <td>276.784</td>\n",
       "      <td>2</td>\n",
       "      <td>West</td>\n",
       "      <td>kariox</td>\n",
       "      <td>Corporate</td>\n",
       "      <td>headset</td>\n",
       "      <td>Standard Class</td>\n",
       "      <td>89.9548</td>\n",
       "      <td>95123</td>\n",
       "      <td>...</td>\n",
       "      <td>0</td>\n",
       "      <td>0</td>\n",
       "      <td>0</td>\n",
       "      <td>0</td>\n",
       "      <td>0</td>\n",
       "      <td>0</td>\n",
       "      <td>0</td>\n",
       "      <td>1</td>\n",
       "      <td>1</td>\n",
       "      <td>0</td>\n",
       "    </tr>\n",
       "    <tr>\n",
       "      <th>6697</th>\n",
       "      <td>0.0</td>\n",
       "      <td>2.040</td>\n",
       "      <td>1</td>\n",
       "      <td>East</td>\n",
       "      <td>kariox</td>\n",
       "      <td>Consumer</td>\n",
       "      <td>watch</td>\n",
       "      <td>Standard Class</td>\n",
       "      <td>0.9588</td>\n",
       "      <td>5408</td>\n",
       "      <td>...</td>\n",
       "      <td>1</td>\n",
       "      <td>1</td>\n",
       "      <td>1</td>\n",
       "      <td>0</td>\n",
       "      <td>1</td>\n",
       "      <td>0</td>\n",
       "      <td>1</td>\n",
       "      <td>1</td>\n",
       "      <td>1</td>\n",
       "      <td>0</td>\n",
       "    </tr>\n",
       "    <tr>\n",
       "      <th>6698</th>\n",
       "      <td>0.1</td>\n",
       "      <td>207.846</td>\n",
       "      <td>3</td>\n",
       "      <td>East</td>\n",
       "      <td>qexty</td>\n",
       "      <td>Corporate</td>\n",
       "      <td>tshirts</td>\n",
       "      <td>Second Class</td>\n",
       "      <td>2.3094</td>\n",
       "      <td>10024</td>\n",
       "      <td>...</td>\n",
       "      <td>0</td>\n",
       "      <td>1</td>\n",
       "      <td>1</td>\n",
       "      <td>0</td>\n",
       "      <td>0</td>\n",
       "      <td>0</td>\n",
       "      <td>1</td>\n",
       "      <td>0</td>\n",
       "      <td>0</td>\n",
       "      <td>1</td>\n",
       "    </tr>\n",
       "    <tr>\n",
       "      <th>6699</th>\n",
       "      <td>0.2</td>\n",
       "      <td>160.776</td>\n",
       "      <td>3</td>\n",
       "      <td>West</td>\n",
       "      <td>fynota</td>\n",
       "      <td>Consumer</td>\n",
       "      <td>colddrinks</td>\n",
       "      <td>Standard Class</td>\n",
       "      <td>10.0485</td>\n",
       "      <td>90045</td>\n",
       "      <td>...</td>\n",
       "      <td>1</td>\n",
       "      <td>1</td>\n",
       "      <td>0</td>\n",
       "      <td>0</td>\n",
       "      <td>0</td>\n",
       "      <td>0</td>\n",
       "      <td>0</td>\n",
       "      <td>1</td>\n",
       "      <td>1</td>\n",
       "      <td>0</td>\n",
       "    </tr>\n",
       "  </tbody>\n",
       "</table>\n",
       "<p>6700 rows × 30 columns</p>\n",
       "</div>"
      ],
      "text/plain": [
       "      discount    price  no of items location   class    segment   sub-class  \\\n",
       "0          0.2   16.448            2  Central  kariox   Consumer       phone   \n",
       "1          0.0   29.700            5  Central  kariox   Consumer     headset   \n",
       "2          0.0   14.730            3  Central   qexty   Consumer      shorts   \n",
       "3          0.0   43.920            3  Central  kariox   Consumer  television   \n",
       "4          0.0   66.580            2  Central  kariox   Consumer      laptop   \n",
       "...        ...      ...          ...      ...     ...        ...         ...   \n",
       "6695       0.0  542.940            3     East  kariox   Consumer     battery   \n",
       "6696       0.2  276.784            2     West  kariox  Corporate     headset   \n",
       "6697       0.0    2.040            1     East  kariox   Consumer       watch   \n",
       "6698       0.1  207.846            3     East   qexty  Corporate     tshirts   \n",
       "6699       0.2  160.776            3     West  fynota   Consumer  colddrinks   \n",
       "\n",
       "       delivery type    profit  address code  ...  departure city_8  \\\n",
       "0     Standard Class    5.5512         77095  ...                 0   \n",
       "1     Standard Class   13.3650         48185  ...                 0   \n",
       "2     Standard Class    4.8609         48185  ...                 0   \n",
       "3     Standard Class   12.7368         48185  ...                 0   \n",
       "4     Standard Class   15.9792         48185  ...                 0   \n",
       "...              ...       ...           ...  ...               ...   \n",
       "6695  Standard Class  152.0232          5408  ...                 1   \n",
       "6696  Standard Class   89.9548         95123  ...                 0   \n",
       "6697  Standard Class    0.9588          5408  ...                 1   \n",
       "6698    Second Class    2.3094         10024  ...                 0   \n",
       "6699  Standard Class   10.0485         90045  ...                 1   \n",
       "\n",
       "      departure city_9  departure city_10  departure state_0  \\\n",
       "0                    0                  1                  0   \n",
       "1                    1                  0                  0   \n",
       "2                    1                  0                  0   \n",
       "3                    1                  0                  0   \n",
       "4                    1                  0                  0   \n",
       "...                ...                ...                ...   \n",
       "6695                 1                  1                  0   \n",
       "6696                 0                  0                  0   \n",
       "6697                 1                  1                  0   \n",
       "6698                 1                  1                  0   \n",
       "6699                 1                  0                  0   \n",
       "\n",
       "      departure state_1  departure state_2  departure state_3  \\\n",
       "0                     0                  0                  0   \n",
       "1                     0                  0                  0   \n",
       "2                     0                  0                  0   \n",
       "3                     0                  0                  0   \n",
       "4                     0                  0                  0   \n",
       "...                 ...                ...                ...   \n",
       "6695                  1                  0                  1   \n",
       "6696                  0                  0                  0   \n",
       "6697                  1                  0                  1   \n",
       "6698                  0                  0                  1   \n",
       "6699                  0                  0                  0   \n",
       "\n",
       "      departure state_4  departure state_5  departure state_6  \n",
       "0                     0                  0                  1  \n",
       "1                     0                  1                  0  \n",
       "2                     0                  1                  0  \n",
       "3                     0                  1                  0  \n",
       "4                     0                  1                  0  \n",
       "...                 ...                ...                ...  \n",
       "6695                  1                  1                  0  \n",
       "6696                  1                  1                  0  \n",
       "6697                  1                  1                  0  \n",
       "6698                  0                  0                  1  \n",
       "6699                  1                  1                  0  \n",
       "\n",
       "[6700 rows x 30 columns]"
      ]
     },
     "execution_count": 90,
     "metadata": {},
     "output_type": "execute_result"
    }
   ],
   "source": [
    "df = pd.concat([df, df_departurestate_train], axis = 1)\n",
    "df = df.drop(['departure state'], axis = 1)\n",
    "df"
   ]
  },
  {
   "cell_type": "code",
   "execution_count": 91,
   "metadata": {
    "colab": {
     "base_uri": "https://localhost:8080/"
    },
    "id": "A-CidHxRw5Ab",
    "outputId": "b09cfb24-faa3-4044-b025-05ea68f49532"
   },
   "outputs": [
    {
     "data": {
      "text/plain": [
       "Index(['discount', 'price', 'no of items', 'location', 'class', 'segment',\n",
       "       'sub-class', 'delivery type', 'profit', 'address code', 'month',\n",
       "       'quarter', 'departure city_0', 'departure city_1', 'departure city_2',\n",
       "       'departure city_3', 'departure city_4', 'departure city_5',\n",
       "       'departure city_6', 'departure city_7', 'departure city_8',\n",
       "       'departure city_9', 'departure city_10', 'departure state_0',\n",
       "       'departure state_1', 'departure state_2', 'departure state_3',\n",
       "       'departure state_4', 'departure state_5', 'departure state_6'],\n",
       "      dtype='object')"
      ]
     },
     "execution_count": 91,
     "metadata": {},
     "output_type": "execute_result"
    }
   ],
   "source": [
    "df.columns"
   ]
  },
  {
   "cell_type": "markdown",
   "metadata": {
    "id": "kPw4vvhESGbL"
   },
   "source": [
    "# Encoding_address_code"
   ]
  },
  {
   "cell_type": "code",
   "execution_count": 92,
   "metadata": {
    "colab": {
     "base_uri": "https://localhost:8080/",
     "height": 402
    },
    "id": "9eo0pTXHTaKR",
    "outputId": "59ad66af-e062-4ab1-b463-3b9a2c43d7f7"
   },
   "outputs": [
    {
     "data": {
      "text/html": [
       "<div>\n",
       "<style scoped>\n",
       "    .dataframe tbody tr th:only-of-type {\n",
       "        vertical-align: middle;\n",
       "    }\n",
       "\n",
       "    .dataframe tbody tr th {\n",
       "        vertical-align: top;\n",
       "    }\n",
       "\n",
       "    .dataframe thead th {\n",
       "        text-align: right;\n",
       "    }\n",
       "</style>\n",
       "<table border=\"1\" class=\"dataframe\">\n",
       "  <thead>\n",
       "    <tr style=\"text-align: right;\">\n",
       "      <th></th>\n",
       "      <th>address code</th>\n",
       "    </tr>\n",
       "  </thead>\n",
       "  <tbody>\n",
       "    <tr>\n",
       "      <th>0</th>\n",
       "      <td>77095</td>\n",
       "    </tr>\n",
       "    <tr>\n",
       "      <th>1</th>\n",
       "      <td>48185</td>\n",
       "    </tr>\n",
       "    <tr>\n",
       "      <th>2</th>\n",
       "      <td>37167</td>\n",
       "    </tr>\n",
       "    <tr>\n",
       "      <th>3</th>\n",
       "      <td>72401</td>\n",
       "    </tr>\n",
       "    <tr>\n",
       "      <th>4</th>\n",
       "      <td>85254</td>\n",
       "    </tr>\n",
       "    <tr>\n",
       "      <th>...</th>\n",
       "      <td>...</td>\n",
       "    </tr>\n",
       "    <tr>\n",
       "      <th>626</th>\n",
       "      <td>98208</td>\n",
       "    </tr>\n",
       "    <tr>\n",
       "      <th>627</th>\n",
       "      <td>6810</td>\n",
       "    </tr>\n",
       "    <tr>\n",
       "      <th>628</th>\n",
       "      <td>79605</td>\n",
       "    </tr>\n",
       "    <tr>\n",
       "      <th>629</th>\n",
       "      <td>60067</td>\n",
       "    </tr>\n",
       "    <tr>\n",
       "      <th>630</th>\n",
       "      <td>90604</td>\n",
       "    </tr>\n",
       "  </tbody>\n",
       "</table>\n",
       "<p>631 rows × 1 columns</p>\n",
       "</div>"
      ],
      "text/plain": [
       "     address code\n",
       "0           77095\n",
       "1           48185\n",
       "2           37167\n",
       "3           72401\n",
       "4           85254\n",
       "..            ...\n",
       "626         98208\n",
       "627          6810\n",
       "628         79605\n",
       "629         60067\n",
       "630         90604\n",
       "\n",
       "[631 rows x 1 columns]"
      ]
     },
     "execution_count": 92,
     "metadata": {},
     "output_type": "execute_result"
    }
   ],
   "source": [
    "address_data = pd.DataFrame({'address code': final_df['address code'].unique()})\n",
    "encoder_dep= ce.HashingEncoder(cols=['address code'],return_df=True)\n",
    "address_data"
   ]
  },
  {
   "cell_type": "code",
   "execution_count": 93,
   "metadata": {
    "colab": {
     "base_uri": "https://localhost:8080/",
     "height": 455
    },
    "id": "xffjvBjcTnur",
    "outputId": "3dd3a108-1ff0-4e6b-82cb-167ed4ba10b4"
   },
   "outputs": [
    {
     "name": "stderr",
     "output_type": "stream",
     "text": [
      "C:\\ProgramData\\Anaconda3\\lib\\site-packages\\category_encoders\\utils.py:21: FutureWarning: is_categorical is deprecated and will be removed in a future version.  Use is_categorical_dtype instead\n",
      "  elif pd.api.types.is_categorical(cols):\n"
     ]
    },
    {
     "data": {
      "text/html": [
       "<div>\n",
       "<style scoped>\n",
       "    .dataframe tbody tr th:only-of-type {\n",
       "        vertical-align: middle;\n",
       "    }\n",
       "\n",
       "    .dataframe tbody tr th {\n",
       "        vertical-align: top;\n",
       "    }\n",
       "\n",
       "    .dataframe thead th {\n",
       "        text-align: right;\n",
       "    }\n",
       "</style>\n",
       "<table border=\"1\" class=\"dataframe\">\n",
       "  <thead>\n",
       "    <tr style=\"text-align: right;\">\n",
       "      <th></th>\n",
       "      <th>address code</th>\n",
       "      <th>col_0</th>\n",
       "      <th>col_1</th>\n",
       "      <th>col_2</th>\n",
       "      <th>col_3</th>\n",
       "      <th>col_4</th>\n",
       "      <th>col_5</th>\n",
       "      <th>col_6</th>\n",
       "      <th>col_7</th>\n",
       "    </tr>\n",
       "  </thead>\n",
       "  <tbody>\n",
       "    <tr>\n",
       "      <th>0</th>\n",
       "      <td>77095</td>\n",
       "      <td>0</td>\n",
       "      <td>0</td>\n",
       "      <td>0</td>\n",
       "      <td>0</td>\n",
       "      <td>1</td>\n",
       "      <td>0</td>\n",
       "      <td>0</td>\n",
       "      <td>0</td>\n",
       "    </tr>\n",
       "    <tr>\n",
       "      <th>1</th>\n",
       "      <td>48185</td>\n",
       "      <td>0</td>\n",
       "      <td>0</td>\n",
       "      <td>0</td>\n",
       "      <td>0</td>\n",
       "      <td>0</td>\n",
       "      <td>1</td>\n",
       "      <td>0</td>\n",
       "      <td>0</td>\n",
       "    </tr>\n",
       "    <tr>\n",
       "      <th>2</th>\n",
       "      <td>37167</td>\n",
       "      <td>0</td>\n",
       "      <td>0</td>\n",
       "      <td>0</td>\n",
       "      <td>0</td>\n",
       "      <td>1</td>\n",
       "      <td>0</td>\n",
       "      <td>0</td>\n",
       "      <td>0</td>\n",
       "    </tr>\n",
       "    <tr>\n",
       "      <th>3</th>\n",
       "      <td>72401</td>\n",
       "      <td>0</td>\n",
       "      <td>0</td>\n",
       "      <td>0</td>\n",
       "      <td>1</td>\n",
       "      <td>0</td>\n",
       "      <td>0</td>\n",
       "      <td>0</td>\n",
       "      <td>0</td>\n",
       "    </tr>\n",
       "    <tr>\n",
       "      <th>4</th>\n",
       "      <td>85254</td>\n",
       "      <td>0</td>\n",
       "      <td>0</td>\n",
       "      <td>0</td>\n",
       "      <td>0</td>\n",
       "      <td>0</td>\n",
       "      <td>0</td>\n",
       "      <td>1</td>\n",
       "      <td>0</td>\n",
       "    </tr>\n",
       "    <tr>\n",
       "      <th>...</th>\n",
       "      <td>...</td>\n",
       "      <td>...</td>\n",
       "      <td>...</td>\n",
       "      <td>...</td>\n",
       "      <td>...</td>\n",
       "      <td>...</td>\n",
       "      <td>...</td>\n",
       "      <td>...</td>\n",
       "      <td>...</td>\n",
       "    </tr>\n",
       "    <tr>\n",
       "      <th>626</th>\n",
       "      <td>98208</td>\n",
       "      <td>0</td>\n",
       "      <td>1</td>\n",
       "      <td>0</td>\n",
       "      <td>0</td>\n",
       "      <td>0</td>\n",
       "      <td>0</td>\n",
       "      <td>0</td>\n",
       "      <td>0</td>\n",
       "    </tr>\n",
       "    <tr>\n",
       "      <th>627</th>\n",
       "      <td>6810</td>\n",
       "      <td>0</td>\n",
       "      <td>1</td>\n",
       "      <td>0</td>\n",
       "      <td>0</td>\n",
       "      <td>0</td>\n",
       "      <td>0</td>\n",
       "      <td>0</td>\n",
       "      <td>0</td>\n",
       "    </tr>\n",
       "    <tr>\n",
       "      <th>628</th>\n",
       "      <td>79605</td>\n",
       "      <td>0</td>\n",
       "      <td>0</td>\n",
       "      <td>0</td>\n",
       "      <td>0</td>\n",
       "      <td>0</td>\n",
       "      <td>0</td>\n",
       "      <td>1</td>\n",
       "      <td>0</td>\n",
       "    </tr>\n",
       "    <tr>\n",
       "      <th>629</th>\n",
       "      <td>60067</td>\n",
       "      <td>0</td>\n",
       "      <td>0</td>\n",
       "      <td>0</td>\n",
       "      <td>0</td>\n",
       "      <td>0</td>\n",
       "      <td>0</td>\n",
       "      <td>1</td>\n",
       "      <td>0</td>\n",
       "    </tr>\n",
       "    <tr>\n",
       "      <th>630</th>\n",
       "      <td>90604</td>\n",
       "      <td>0</td>\n",
       "      <td>0</td>\n",
       "      <td>0</td>\n",
       "      <td>0</td>\n",
       "      <td>1</td>\n",
       "      <td>0</td>\n",
       "      <td>0</td>\n",
       "      <td>0</td>\n",
       "    </tr>\n",
       "  </tbody>\n",
       "</table>\n",
       "<p>631 rows × 9 columns</p>\n",
       "</div>"
      ],
      "text/plain": [
       "     address code  col_0  col_1  col_2  col_3  col_4  col_5  col_6  col_7\n",
       "0           77095      0      0      0      0      1      0      0      0\n",
       "1           48185      0      0      0      0      0      1      0      0\n",
       "2           37167      0      0      0      0      1      0      0      0\n",
       "3           72401      0      0      0      1      0      0      0      0\n",
       "4           85254      0      0      0      0      0      0      1      0\n",
       "..            ...    ...    ...    ...    ...    ...    ...    ...    ...\n",
       "626         98208      0      1      0      0      0      0      0      0\n",
       "627          6810      0      1      0      0      0      0      0      0\n",
       "628         79605      0      0      0      0      0      0      1      0\n",
       "629         60067      0      0      0      0      0      0      1      0\n",
       "630         90604      0      0      0      0      1      0      0      0\n",
       "\n",
       "[631 rows x 9 columns]"
      ]
     },
     "execution_count": 93,
     "metadata": {},
     "output_type": "execute_result"
    }
   ],
   "source": [
    "address_data_encoded=encoder_dep.fit_transform(address_data) \n",
    "df_address = pd.concat([address_data, address_data_encoded], axis = 1)\n",
    "df_address"
   ]
  },
  {
   "cell_type": "code",
   "execution_count": 94,
   "metadata": {
    "colab": {
     "base_uri": "https://localhost:8080/",
     "height": 402
    },
    "id": "zld7DPivVbe3",
    "outputId": "5c0fbb22-53dc-46d2-b8d9-f915338d04ab"
   },
   "outputs": [
    {
     "data": {
      "text/html": [
       "<div>\n",
       "<style scoped>\n",
       "    .dataframe tbody tr th:only-of-type {\n",
       "        vertical-align: middle;\n",
       "    }\n",
       "\n",
       "    .dataframe tbody tr th {\n",
       "        vertical-align: top;\n",
       "    }\n",
       "\n",
       "    .dataframe thead th {\n",
       "        text-align: right;\n",
       "    }\n",
       "</style>\n",
       "<table border=\"1\" class=\"dataframe\">\n",
       "  <thead>\n",
       "    <tr style=\"text-align: right;\">\n",
       "      <th></th>\n",
       "      <th>address code</th>\n",
       "      <th>col_0</th>\n",
       "      <th>col_1</th>\n",
       "      <th>col_2</th>\n",
       "      <th>col_3</th>\n",
       "      <th>col_4</th>\n",
       "      <th>col_5</th>\n",
       "      <th>col_6</th>\n",
       "      <th>col_7</th>\n",
       "    </tr>\n",
       "  </thead>\n",
       "  <tbody>\n",
       "    <tr>\n",
       "      <th>0</th>\n",
       "      <td>77095</td>\n",
       "      <td>0</td>\n",
       "      <td>0</td>\n",
       "      <td>0</td>\n",
       "      <td>0</td>\n",
       "      <td>1</td>\n",
       "      <td>0</td>\n",
       "      <td>0</td>\n",
       "      <td>0</td>\n",
       "    </tr>\n",
       "    <tr>\n",
       "      <th>1</th>\n",
       "      <td>48185</td>\n",
       "      <td>0</td>\n",
       "      <td>0</td>\n",
       "      <td>0</td>\n",
       "      <td>0</td>\n",
       "      <td>0</td>\n",
       "      <td>1</td>\n",
       "      <td>0</td>\n",
       "      <td>0</td>\n",
       "    </tr>\n",
       "    <tr>\n",
       "      <th>2</th>\n",
       "      <td>48185</td>\n",
       "      <td>0</td>\n",
       "      <td>0</td>\n",
       "      <td>0</td>\n",
       "      <td>0</td>\n",
       "      <td>0</td>\n",
       "      <td>1</td>\n",
       "      <td>0</td>\n",
       "      <td>0</td>\n",
       "    </tr>\n",
       "    <tr>\n",
       "      <th>3</th>\n",
       "      <td>48185</td>\n",
       "      <td>0</td>\n",
       "      <td>0</td>\n",
       "      <td>0</td>\n",
       "      <td>0</td>\n",
       "      <td>0</td>\n",
       "      <td>1</td>\n",
       "      <td>0</td>\n",
       "      <td>0</td>\n",
       "    </tr>\n",
       "    <tr>\n",
       "      <th>4</th>\n",
       "      <td>48185</td>\n",
       "      <td>0</td>\n",
       "      <td>0</td>\n",
       "      <td>0</td>\n",
       "      <td>0</td>\n",
       "      <td>0</td>\n",
       "      <td>1</td>\n",
       "      <td>0</td>\n",
       "      <td>0</td>\n",
       "    </tr>\n",
       "    <tr>\n",
       "      <th>...</th>\n",
       "      <td>...</td>\n",
       "      <td>...</td>\n",
       "      <td>...</td>\n",
       "      <td>...</td>\n",
       "      <td>...</td>\n",
       "      <td>...</td>\n",
       "      <td>...</td>\n",
       "      <td>...</td>\n",
       "      <td>...</td>\n",
       "    </tr>\n",
       "    <tr>\n",
       "      <th>9989</th>\n",
       "      <td>10035</td>\n",
       "      <td>1</td>\n",
       "      <td>0</td>\n",
       "      <td>0</td>\n",
       "      <td>0</td>\n",
       "      <td>0</td>\n",
       "      <td>0</td>\n",
       "      <td>0</td>\n",
       "      <td>0</td>\n",
       "    </tr>\n",
       "    <tr>\n",
       "      <th>9990</th>\n",
       "      <td>10035</td>\n",
       "      <td>1</td>\n",
       "      <td>0</td>\n",
       "      <td>0</td>\n",
       "      <td>0</td>\n",
       "      <td>0</td>\n",
       "      <td>0</td>\n",
       "      <td>0</td>\n",
       "      <td>0</td>\n",
       "    </tr>\n",
       "    <tr>\n",
       "      <th>9991</th>\n",
       "      <td>10035</td>\n",
       "      <td>1</td>\n",
       "      <td>0</td>\n",
       "      <td>0</td>\n",
       "      <td>0</td>\n",
       "      <td>0</td>\n",
       "      <td>0</td>\n",
       "      <td>0</td>\n",
       "      <td>0</td>\n",
       "    </tr>\n",
       "    <tr>\n",
       "      <th>9992</th>\n",
       "      <td>94110</td>\n",
       "      <td>0</td>\n",
       "      <td>0</td>\n",
       "      <td>0</td>\n",
       "      <td>0</td>\n",
       "      <td>1</td>\n",
       "      <td>0</td>\n",
       "      <td>0</td>\n",
       "      <td>0</td>\n",
       "    </tr>\n",
       "    <tr>\n",
       "      <th>9993</th>\n",
       "      <td>80538</td>\n",
       "      <td>0</td>\n",
       "      <td>0</td>\n",
       "      <td>0</td>\n",
       "      <td>0</td>\n",
       "      <td>0</td>\n",
       "      <td>0</td>\n",
       "      <td>0</td>\n",
       "      <td>1</td>\n",
       "    </tr>\n",
       "  </tbody>\n",
       "</table>\n",
       "<p>9994 rows × 9 columns</p>\n",
       "</div>"
      ],
      "text/plain": [
       "      address code  col_0  col_1  col_2  col_3  col_4  col_5  col_6  col_7\n",
       "0            77095      0      0      0      0      1      0      0      0\n",
       "1            48185      0      0      0      0      0      1      0      0\n",
       "2            48185      0      0      0      0      0      1      0      0\n",
       "3            48185      0      0      0      0      0      1      0      0\n",
       "4            48185      0      0      0      0      0      1      0      0\n",
       "...            ...    ...    ...    ...    ...    ...    ...    ...    ...\n",
       "9989         10035      1      0      0      0      0      0      0      0\n",
       "9990         10035      1      0      0      0      0      0      0      0\n",
       "9991         10035      1      0      0      0      0      0      0      0\n",
       "9992         94110      0      0      0      0      1      0      0      0\n",
       "9993         80538      0      0      0      0      0      0      0      1\n",
       "\n",
       "[9994 rows x 9 columns]"
      ]
     },
     "execution_count": 94,
     "metadata": {},
     "output_type": "execute_result"
    }
   ],
   "source": [
    "final_df_address = final_df['address code']\n",
    "final_df_address = pd.merge(final_df_address, df_address, how='left', on='address code', left_on=None, right_on=None, left_index=False, right_index=False, sort=None)\n",
    "final_df_address"
   ]
  },
  {
   "cell_type": "code",
   "execution_count": 95,
   "metadata": {
    "id": "gqOr0Ovppu5b"
   },
   "outputs": [],
   "source": [
    "final_df_address.rename(columns={'col_0': 'add_col_0', 'col_1': 'add_col_1', 'col_2': 'add_col_2',\n",
    "                       'col_3': 'add_col_3','col_4': 'add_col_4','col_5': 'add_col_5',\n",
    "                       'col_6': 'add_col_6','col_7': 'add_col_7','col_8': 'add_col_8',}, inplace=True)"
   ]
  },
  {
   "cell_type": "code",
   "execution_count": 96,
   "metadata": {
    "id": "VaxYEaFGWF0S"
   },
   "outputs": [],
   "source": [
    "df_address_train = final_df_address.iloc[:6700,:]\n",
    "df_address_test = final_df_address.iloc[6700:,:]"
   ]
  },
  {
   "cell_type": "code",
   "execution_count": 97,
   "metadata": {
    "colab": {
     "base_uri": "https://localhost:8080/",
     "height": 606
    },
    "id": "3dMQC2JNWGpm",
    "outputId": "091bde28-9f1c-4e65-eb7b-698966b058b1"
   },
   "outputs": [
    {
     "data": {
      "text/html": [
       "<div>\n",
       "<style scoped>\n",
       "    .dataframe tbody tr th:only-of-type {\n",
       "        vertical-align: middle;\n",
       "    }\n",
       "\n",
       "    .dataframe tbody tr th {\n",
       "        vertical-align: top;\n",
       "    }\n",
       "\n",
       "    .dataframe thead th {\n",
       "        text-align: right;\n",
       "    }\n",
       "</style>\n",
       "<table border=\"1\" class=\"dataframe\">\n",
       "  <thead>\n",
       "    <tr style=\"text-align: right;\">\n",
       "      <th></th>\n",
       "      <th>discount</th>\n",
       "      <th>price</th>\n",
       "      <th>no of items</th>\n",
       "      <th>location</th>\n",
       "      <th>class</th>\n",
       "      <th>segment</th>\n",
       "      <th>sub-class</th>\n",
       "      <th>delivery type</th>\n",
       "      <th>profit</th>\n",
       "      <th>month</th>\n",
       "      <th>...</th>\n",
       "      <th>departure state_5</th>\n",
       "      <th>departure state_6</th>\n",
       "      <th>add_col_0</th>\n",
       "      <th>add_col_1</th>\n",
       "      <th>add_col_2</th>\n",
       "      <th>add_col_3</th>\n",
       "      <th>add_col_4</th>\n",
       "      <th>add_col_5</th>\n",
       "      <th>add_col_6</th>\n",
       "      <th>add_col_7</th>\n",
       "    </tr>\n",
       "  </thead>\n",
       "  <tbody>\n",
       "    <tr>\n",
       "      <th>0</th>\n",
       "      <td>0.2</td>\n",
       "      <td>16.448</td>\n",
       "      <td>2</td>\n",
       "      <td>Central</td>\n",
       "      <td>kariox</td>\n",
       "      <td>Consumer</td>\n",
       "      <td>phone</td>\n",
       "      <td>Standard Class</td>\n",
       "      <td>5.5512</td>\n",
       "      <td>1</td>\n",
       "      <td>...</td>\n",
       "      <td>0</td>\n",
       "      <td>1</td>\n",
       "      <td>0</td>\n",
       "      <td>0</td>\n",
       "      <td>0</td>\n",
       "      <td>0</td>\n",
       "      <td>1</td>\n",
       "      <td>0</td>\n",
       "      <td>0</td>\n",
       "      <td>0</td>\n",
       "    </tr>\n",
       "    <tr>\n",
       "      <th>1</th>\n",
       "      <td>0.0</td>\n",
       "      <td>29.700</td>\n",
       "      <td>5</td>\n",
       "      <td>Central</td>\n",
       "      <td>kariox</td>\n",
       "      <td>Consumer</td>\n",
       "      <td>headset</td>\n",
       "      <td>Standard Class</td>\n",
       "      <td>13.3650</td>\n",
       "      <td>1</td>\n",
       "      <td>...</td>\n",
       "      <td>1</td>\n",
       "      <td>0</td>\n",
       "      <td>0</td>\n",
       "      <td>0</td>\n",
       "      <td>0</td>\n",
       "      <td>0</td>\n",
       "      <td>0</td>\n",
       "      <td>1</td>\n",
       "      <td>0</td>\n",
       "      <td>0</td>\n",
       "    </tr>\n",
       "    <tr>\n",
       "      <th>2</th>\n",
       "      <td>0.0</td>\n",
       "      <td>14.730</td>\n",
       "      <td>3</td>\n",
       "      <td>Central</td>\n",
       "      <td>qexty</td>\n",
       "      <td>Consumer</td>\n",
       "      <td>shorts</td>\n",
       "      <td>Standard Class</td>\n",
       "      <td>4.8609</td>\n",
       "      <td>1</td>\n",
       "      <td>...</td>\n",
       "      <td>1</td>\n",
       "      <td>0</td>\n",
       "      <td>0</td>\n",
       "      <td>0</td>\n",
       "      <td>0</td>\n",
       "      <td>0</td>\n",
       "      <td>0</td>\n",
       "      <td>1</td>\n",
       "      <td>0</td>\n",
       "      <td>0</td>\n",
       "    </tr>\n",
       "    <tr>\n",
       "      <th>3</th>\n",
       "      <td>0.0</td>\n",
       "      <td>43.920</td>\n",
       "      <td>3</td>\n",
       "      <td>Central</td>\n",
       "      <td>kariox</td>\n",
       "      <td>Consumer</td>\n",
       "      <td>television</td>\n",
       "      <td>Standard Class</td>\n",
       "      <td>12.7368</td>\n",
       "      <td>1</td>\n",
       "      <td>...</td>\n",
       "      <td>1</td>\n",
       "      <td>0</td>\n",
       "      <td>0</td>\n",
       "      <td>0</td>\n",
       "      <td>0</td>\n",
       "      <td>0</td>\n",
       "      <td>0</td>\n",
       "      <td>1</td>\n",
       "      <td>0</td>\n",
       "      <td>0</td>\n",
       "    </tr>\n",
       "    <tr>\n",
       "      <th>4</th>\n",
       "      <td>0.0</td>\n",
       "      <td>66.580</td>\n",
       "      <td>2</td>\n",
       "      <td>Central</td>\n",
       "      <td>kariox</td>\n",
       "      <td>Consumer</td>\n",
       "      <td>laptop</td>\n",
       "      <td>Standard Class</td>\n",
       "      <td>15.9792</td>\n",
       "      <td>1</td>\n",
       "      <td>...</td>\n",
       "      <td>1</td>\n",
       "      <td>0</td>\n",
       "      <td>0</td>\n",
       "      <td>0</td>\n",
       "      <td>0</td>\n",
       "      <td>0</td>\n",
       "      <td>0</td>\n",
       "      <td>1</td>\n",
       "      <td>0</td>\n",
       "      <td>0</td>\n",
       "    </tr>\n",
       "    <tr>\n",
       "      <th>...</th>\n",
       "      <td>...</td>\n",
       "      <td>...</td>\n",
       "      <td>...</td>\n",
       "      <td>...</td>\n",
       "      <td>...</td>\n",
       "      <td>...</td>\n",
       "      <td>...</td>\n",
       "      <td>...</td>\n",
       "      <td>...</td>\n",
       "      <td>...</td>\n",
       "      <td>...</td>\n",
       "      <td>...</td>\n",
       "      <td>...</td>\n",
       "      <td>...</td>\n",
       "      <td>...</td>\n",
       "      <td>...</td>\n",
       "      <td>...</td>\n",
       "      <td>...</td>\n",
       "      <td>...</td>\n",
       "      <td>...</td>\n",
       "      <td>...</td>\n",
       "    </tr>\n",
       "    <tr>\n",
       "      <th>6695</th>\n",
       "      <td>0.0</td>\n",
       "      <td>542.940</td>\n",
       "      <td>3</td>\n",
       "      <td>East</td>\n",
       "      <td>kariox</td>\n",
       "      <td>Consumer</td>\n",
       "      <td>battery</td>\n",
       "      <td>Standard Class</td>\n",
       "      <td>152.0232</td>\n",
       "      <td>1</td>\n",
       "      <td>...</td>\n",
       "      <td>1</td>\n",
       "      <td>0</td>\n",
       "      <td>0</td>\n",
       "      <td>0</td>\n",
       "      <td>1</td>\n",
       "      <td>0</td>\n",
       "      <td>0</td>\n",
       "      <td>0</td>\n",
       "      <td>0</td>\n",
       "      <td>0</td>\n",
       "    </tr>\n",
       "    <tr>\n",
       "      <th>6696</th>\n",
       "      <td>0.2</td>\n",
       "      <td>276.784</td>\n",
       "      <td>2</td>\n",
       "      <td>West</td>\n",
       "      <td>kariox</td>\n",
       "      <td>Corporate</td>\n",
       "      <td>headset</td>\n",
       "      <td>Standard Class</td>\n",
       "      <td>89.9548</td>\n",
       "      <td>1</td>\n",
       "      <td>...</td>\n",
       "      <td>1</td>\n",
       "      <td>0</td>\n",
       "      <td>0</td>\n",
       "      <td>0</td>\n",
       "      <td>0</td>\n",
       "      <td>0</td>\n",
       "      <td>0</td>\n",
       "      <td>0</td>\n",
       "      <td>0</td>\n",
       "      <td>1</td>\n",
       "    </tr>\n",
       "    <tr>\n",
       "      <th>6697</th>\n",
       "      <td>0.0</td>\n",
       "      <td>2.040</td>\n",
       "      <td>1</td>\n",
       "      <td>East</td>\n",
       "      <td>kariox</td>\n",
       "      <td>Consumer</td>\n",
       "      <td>watch</td>\n",
       "      <td>Standard Class</td>\n",
       "      <td>0.9588</td>\n",
       "      <td>1</td>\n",
       "      <td>...</td>\n",
       "      <td>1</td>\n",
       "      <td>0</td>\n",
       "      <td>0</td>\n",
       "      <td>0</td>\n",
       "      <td>1</td>\n",
       "      <td>0</td>\n",
       "      <td>0</td>\n",
       "      <td>0</td>\n",
       "      <td>0</td>\n",
       "      <td>0</td>\n",
       "    </tr>\n",
       "    <tr>\n",
       "      <th>6698</th>\n",
       "      <td>0.1</td>\n",
       "      <td>207.846</td>\n",
       "      <td>3</td>\n",
       "      <td>East</td>\n",
       "      <td>qexty</td>\n",
       "      <td>Corporate</td>\n",
       "      <td>tshirts</td>\n",
       "      <td>Second Class</td>\n",
       "      <td>2.3094</td>\n",
       "      <td>1</td>\n",
       "      <td>...</td>\n",
       "      <td>0</td>\n",
       "      <td>1</td>\n",
       "      <td>0</td>\n",
       "      <td>0</td>\n",
       "      <td>1</td>\n",
       "      <td>0</td>\n",
       "      <td>0</td>\n",
       "      <td>0</td>\n",
       "      <td>0</td>\n",
       "      <td>0</td>\n",
       "    </tr>\n",
       "    <tr>\n",
       "      <th>6699</th>\n",
       "      <td>0.2</td>\n",
       "      <td>160.776</td>\n",
       "      <td>3</td>\n",
       "      <td>West</td>\n",
       "      <td>fynota</td>\n",
       "      <td>Consumer</td>\n",
       "      <td>colddrinks</td>\n",
       "      <td>Standard Class</td>\n",
       "      <td>10.0485</td>\n",
       "      <td>1</td>\n",
       "      <td>...</td>\n",
       "      <td>1</td>\n",
       "      <td>0</td>\n",
       "      <td>0</td>\n",
       "      <td>0</td>\n",
       "      <td>0</td>\n",
       "      <td>1</td>\n",
       "      <td>0</td>\n",
       "      <td>0</td>\n",
       "      <td>0</td>\n",
       "      <td>0</td>\n",
       "    </tr>\n",
       "  </tbody>\n",
       "</table>\n",
       "<p>6700 rows × 37 columns</p>\n",
       "</div>"
      ],
      "text/plain": [
       "      discount    price  no of items location   class    segment   sub-class  \\\n",
       "0          0.2   16.448            2  Central  kariox   Consumer       phone   \n",
       "1          0.0   29.700            5  Central  kariox   Consumer     headset   \n",
       "2          0.0   14.730            3  Central   qexty   Consumer      shorts   \n",
       "3          0.0   43.920            3  Central  kariox   Consumer  television   \n",
       "4          0.0   66.580            2  Central  kariox   Consumer      laptop   \n",
       "...        ...      ...          ...      ...     ...        ...         ...   \n",
       "6695       0.0  542.940            3     East  kariox   Consumer     battery   \n",
       "6696       0.2  276.784            2     West  kariox  Corporate     headset   \n",
       "6697       0.0    2.040            1     East  kariox   Consumer       watch   \n",
       "6698       0.1  207.846            3     East   qexty  Corporate     tshirts   \n",
       "6699       0.2  160.776            3     West  fynota   Consumer  colddrinks   \n",
       "\n",
       "       delivery type    profit  month  ...  departure state_5  \\\n",
       "0     Standard Class    5.5512      1  ...                  0   \n",
       "1     Standard Class   13.3650      1  ...                  1   \n",
       "2     Standard Class    4.8609      1  ...                  1   \n",
       "3     Standard Class   12.7368      1  ...                  1   \n",
       "4     Standard Class   15.9792      1  ...                  1   \n",
       "...              ...       ...    ...  ...                ...   \n",
       "6695  Standard Class  152.0232      1  ...                  1   \n",
       "6696  Standard Class   89.9548      1  ...                  1   \n",
       "6697  Standard Class    0.9588      1  ...                  1   \n",
       "6698    Second Class    2.3094      1  ...                  0   \n",
       "6699  Standard Class   10.0485      1  ...                  1   \n",
       "\n",
       "      departure state_6  add_col_0  add_col_1  add_col_2  add_col_3  \\\n",
       "0                     1          0          0          0          0   \n",
       "1                     0          0          0          0          0   \n",
       "2                     0          0          0          0          0   \n",
       "3                     0          0          0          0          0   \n",
       "4                     0          0          0          0          0   \n",
       "...                 ...        ...        ...        ...        ...   \n",
       "6695                  0          0          0          1          0   \n",
       "6696                  0          0          0          0          0   \n",
       "6697                  0          0          0          1          0   \n",
       "6698                  1          0          0          1          0   \n",
       "6699                  0          0          0          0          1   \n",
       "\n",
       "      add_col_4  add_col_5  add_col_6  add_col_7  \n",
       "0             1          0          0          0  \n",
       "1             0          1          0          0  \n",
       "2             0          1          0          0  \n",
       "3             0          1          0          0  \n",
       "4             0          1          0          0  \n",
       "...         ...        ...        ...        ...  \n",
       "6695          0          0          0          0  \n",
       "6696          0          0          0          1  \n",
       "6697          0          0          0          0  \n",
       "6698          0          0          0          0  \n",
       "6699          0          0          0          0  \n",
       "\n",
       "[6700 rows x 37 columns]"
      ]
     },
     "execution_count": 97,
     "metadata": {},
     "output_type": "execute_result"
    }
   ],
   "source": [
    "df = pd.concat([df, df_address_train], axis = 1)\n",
    "df = df.drop(['address code', 'address code'], axis = 1)\n",
    "df"
   ]
  },
  {
   "cell_type": "code",
   "execution_count": 98,
   "metadata": {
    "colab": {
     "base_uri": "https://localhost:8080/"
    },
    "id": "nd-QYJ_8WqYt",
    "outputId": "1a463311-90c6-4403-969f-ed18ede90501"
   },
   "outputs": [
    {
     "data": {
      "text/plain": [
       "Index(['discount', 'price', 'no of items', 'location', 'class', 'segment',\n",
       "       'sub-class', 'delivery type', 'profit', 'month', 'quarter',\n",
       "       'departure city_0', 'departure city_1', 'departure city_2',\n",
       "       'departure city_3', 'departure city_4', 'departure city_5',\n",
       "       'departure city_6', 'departure city_7', 'departure city_8',\n",
       "       'departure city_9', 'departure city_10', 'departure state_0',\n",
       "       'departure state_1', 'departure state_2', 'departure state_3',\n",
       "       'departure state_4', 'departure state_5', 'departure state_6',\n",
       "       'add_col_0', 'add_col_1', 'add_col_2', 'add_col_3', 'add_col_4',\n",
       "       'add_col_5', 'add_col_6', 'add_col_7'],\n",
       "      dtype='object')"
      ]
     },
     "execution_count": 98,
     "metadata": {},
     "output_type": "execute_result"
    }
   ],
   "source": [
    "df.columns"
   ]
  },
  {
   "cell_type": "markdown",
   "metadata": {
    "id": "uWnCgdxfIC0s"
   },
   "source": [
    "# **One Hot encoding**   Dummy lagana tha one hot nahi karna hai. commit changes accordingly. RID etc. drop karo jo drop karne ke hai"
   ]
  },
  {
   "cell_type": "code",
   "execution_count": 99,
   "metadata": {
    "id": "c5PRGplgHt39"
   },
   "outputs": [],
   "source": [
    "y = pd.get_dummies(df.location, prefix='Location')"
   ]
  },
  {
   "cell_type": "code",
   "execution_count": 100,
   "metadata": {
    "colab": {
     "base_uri": "https://localhost:8080/"
    },
    "id": "qcQiC2ZGOe8c",
    "outputId": "ec80ccdb-f227-421f-ae30-6d30426ebcf1"
   },
   "outputs": [
    {
     "data": {
      "text/plain": [
       "(6700, 4)"
      ]
     },
     "execution_count": 100,
     "metadata": {},
     "output_type": "execute_result"
    }
   ],
   "source": [
    "y.shape"
   ]
  },
  {
   "cell_type": "code",
   "execution_count": 101,
   "metadata": {
    "id": "ssivGvVvOhnx"
   },
   "outputs": [],
   "source": [
    "df = pd.concat([df, y], axis = 1)"
   ]
  },
  {
   "cell_type": "code",
   "execution_count": 102,
   "metadata": {
    "colab": {
     "base_uri": "https://localhost:8080/"
    },
    "id": "YSQbxWs5Ojz8",
    "outputId": "618fc8db-668a-4c23-dd39-06d6a5ea9537"
   },
   "outputs": [
    {
     "name": "stdout",
     "output_type": "stream",
     "text": [
      "    Segment_Consumer  Segment_Corporate  Segment_Home Office\n",
      "0                  1                  0                    0\n",
      "1                  1                  0                    0\n",
      "2                  1                  0                    0\n",
      "3                  1                  0                    0\n",
      "4                  1                  0                    0\n",
      "5                  1                  0                    0\n",
      "6                  1                  0                    0\n",
      "7                  1                  0                    0\n",
      "8                  0                  1                    0\n",
      "9                  1                  0                    0\n",
      "10                 1                  0                    0\n",
      "11                 1                  0                    0\n",
      "12                 1                  0                    0\n",
      "13                 1                  0                    0\n",
      "14                 1                  0                    0\n",
      "15                 1                  0                    0\n",
      "16                 1                  0                    0\n",
      "17                 1                  0                    0\n",
      "18                 1                  0                    0\n",
      "19                 1                  0                    0\n"
     ]
    }
   ],
   "source": [
    "se = pd.get_dummies(df.segment, prefix='Segment')\n",
    "print(se.head(20))"
   ]
  },
  {
   "cell_type": "code",
   "execution_count": 103,
   "metadata": {
    "id": "G0_Gx_X3Op1u"
   },
   "outputs": [],
   "source": [
    "df = pd.concat([df, se], axis = 1)\n",
    "df = df.drop(['segment'], axis = 1)"
   ]
  },
  {
   "cell_type": "code",
   "execution_count": 104,
   "metadata": {
    "colab": {
     "base_uri": "https://localhost:8080/"
    },
    "id": "R68FdzGHOtcj",
    "outputId": "88be0196-0635-47e9-c00c-ca17aeb79dd1"
   },
   "outputs": [
    {
     "data": {
      "text/plain": [
       "Index(['discount', 'price', 'no of items', 'location', 'class', 'sub-class',\n",
       "       'delivery type', 'profit', 'month', 'quarter', 'departure city_0',\n",
       "       'departure city_1', 'departure city_2', 'departure city_3',\n",
       "       'departure city_4', 'departure city_5', 'departure city_6',\n",
       "       'departure city_7', 'departure city_8', 'departure city_9',\n",
       "       'departure city_10', 'departure state_0', 'departure state_1',\n",
       "       'departure state_2', 'departure state_3', 'departure state_4',\n",
       "       'departure state_5', 'departure state_6', 'add_col_0', 'add_col_1',\n",
       "       'add_col_2', 'add_col_3', 'add_col_4', 'add_col_5', 'add_col_6',\n",
       "       'add_col_7', 'Location_Central', 'Location_East', 'Location_South',\n",
       "       'Location_West', 'Segment_Consumer', 'Segment_Corporate',\n",
       "       'Segment_Home Office'],\n",
       "      dtype='object')"
      ]
     },
     "execution_count": 104,
     "metadata": {},
     "output_type": "execute_result"
    }
   ],
   "source": [
    "\n",
    "df.columns"
   ]
  },
  {
   "cell_type": "code",
   "execution_count": 105,
   "metadata": {
    "id": "oszhxGvIPNyw"
   },
   "outputs": [],
   "source": [
    "df.rename(columns={'class': 'class1'}, inplace=True) #Ye kyo kara hai ek baar explain kariyega.\n",
    "#class uska attribute hai shayad, to dummy lete time error de rha tha, name change krne pe error dena band kr diya "
   ]
  },
  {
   "cell_type": "code",
   "execution_count": 106,
   "metadata": {
    "colab": {
     "base_uri": "https://localhost:8080/"
    },
    "id": "gm0Qs2QUPpVf",
    "outputId": "ae857359-2e25-4e6a-f1ea-b48f606ecd27"
   },
   "outputs": [
    {
     "name": "stdout",
     "output_type": "stream",
     "text": [
      "    Class_fynota  Class_kariox  Class_qexty\n",
      "0              0             1            0\n",
      "1              0             1            0\n",
      "2              0             0            1\n",
      "3              0             1            0\n",
      "4              0             1            0\n",
      "5              0             1            0\n",
      "6              0             1            0\n",
      "7              0             0            1\n",
      "8              0             1            0\n",
      "9              0             1            0\n",
      "10             0             0            1\n",
      "11             0             1            0\n",
      "12             0             1            0\n",
      "13             0             0            1\n",
      "14             0             1            0\n",
      "15             1             0            0\n",
      "16             0             0            1\n",
      "17             0             1            0\n",
      "18             0             1            0\n",
      "19             0             0            1\n"
     ]
    }
   ],
   "source": [
    "cl = pd.get_dummies(df.class1, prefix='Class')\n",
    "print(cl.head(20))"
   ]
  },
  {
   "cell_type": "code",
   "execution_count": 107,
   "metadata": {
    "id": "TkWef2jwQqtl"
   },
   "outputs": [],
   "source": [
    "df = pd.concat([df, cl], axis = 1)\n",
    "df = df.drop(['location', 'class1'], axis = 1) #dummy le rahe hai to drop kare extra column."
   ]
  },
  {
   "cell_type": "code",
   "execution_count": 108,
   "metadata": {
    "id": "56BiA7cQQxcF"
   },
   "outputs": [],
   "source": [
    "df = df.drop(['Location_Central', 'Segment_Corporate', 'Class_qexty'], axis = 1)"
   ]
  },
  {
   "cell_type": "code",
   "execution_count": 109,
   "metadata": {
    "colab": {
     "base_uri": "https://localhost:8080/"
    },
    "id": "aS8N7Tg41xA-",
    "outputId": "b8830d22-b862-4562-917b-f6512bf8739e"
   },
   "outputs": [
    {
     "data": {
      "text/plain": [
       "Index(['discount', 'price', 'no of items', 'sub-class', 'delivery type',\n",
       "       'profit', 'month', 'quarter', 'departure city_0', 'departure city_1',\n",
       "       'departure city_2', 'departure city_3', 'departure city_4',\n",
       "       'departure city_5', 'departure city_6', 'departure city_7',\n",
       "       'departure city_8', 'departure city_9', 'departure city_10',\n",
       "       'departure state_0', 'departure state_1', 'departure state_2',\n",
       "       'departure state_3', 'departure state_4', 'departure state_5',\n",
       "       'departure state_6', 'add_col_0', 'add_col_1', 'add_col_2', 'add_col_3',\n",
       "       'add_col_4', 'add_col_5', 'add_col_6', 'add_col_7', 'Location_East',\n",
       "       'Location_South', 'Location_West', 'Segment_Consumer',\n",
       "       'Segment_Home Office', 'Class_fynota', 'Class_kariox'],\n",
       "      dtype='object')"
      ]
     },
     "execution_count": 109,
     "metadata": {},
     "output_type": "execute_result"
    }
   ],
   "source": [
    "df.columns"
   ]
  },
  {
   "cell_type": "code",
   "execution_count": 110,
   "metadata": {
    "colab": {
     "base_uri": "https://localhost:8080/"
    },
    "id": "L0auAUW1tmHC",
    "outputId": "1c8d2624-000d-4867-90db-d0c78db4b696"
   },
   "outputs": [
    {
     "data": {
      "text/plain": [
       "17"
      ]
     },
     "execution_count": 110,
     "metadata": {},
     "output_type": "execute_result"
    }
   ],
   "source": [
    "len(df['sub-class'].unique())"
   ]
  },
  {
   "cell_type": "code",
   "execution_count": 111,
   "metadata": {
    "id": "JV7PZB4GB7ZE"
   },
   "outputs": [],
   "source": [
    "df_subclass = pd.get_dummies(df['sub-class'],prefix = 'sub-class')"
   ]
  },
  {
   "cell_type": "code",
   "execution_count": 112,
   "metadata": {
    "id": "oK0WnA0jtaR7"
   },
   "outputs": [],
   "source": [
    "df_subclass.drop(['sub-class_sweets'],axis = 1,inplace = True)"
   ]
  },
  {
   "cell_type": "code",
   "execution_count": 113,
   "metadata": {
    "id": "xsr4kGRqfE_A"
   },
   "outputs": [],
   "source": [
    "df = pd.concat([df,df_subclass],axis = 1)"
   ]
  },
  {
   "cell_type": "code",
   "execution_count": 114,
   "metadata": {
    "id": "dYqQ7-nugowu"
   },
   "outputs": [],
   "source": [
    "df = df.drop(['sub-class'], axis = 1)"
   ]
  },
  {
   "cell_type": "code",
   "execution_count": 115,
   "metadata": {
    "colab": {
     "base_uri": "https://localhost:8080/"
    },
    "id": "3Ifc5dh4hvMo",
    "outputId": "a8fa3117-6702-4804-e438-bc26ff2d17c9"
   },
   "outputs": [
    {
     "data": {
      "text/plain": [
       "Index(['discount', 'price', 'no of items', 'delivery type', 'profit', 'month',\n",
       "       'quarter', 'departure city_0', 'departure city_1', 'departure city_2',\n",
       "       'departure city_3', 'departure city_4', 'departure city_5',\n",
       "       'departure city_6', 'departure city_7', 'departure city_8',\n",
       "       'departure city_9', 'departure city_10', 'departure state_0',\n",
       "       'departure state_1', 'departure state_2', 'departure state_3',\n",
       "       'departure state_4', 'departure state_5', 'departure state_6',\n",
       "       'add_col_0', 'add_col_1', 'add_col_2', 'add_col_3', 'add_col_4',\n",
       "       'add_col_5', 'add_col_6', 'add_col_7', 'Location_East',\n",
       "       'Location_South', 'Location_West', 'Segment_Consumer',\n",
       "       'Segment_Home Office', 'Class_fynota', 'Class_kariox',\n",
       "       'sub-class_battery', 'sub-class_charger', 'sub-class_chocolates',\n",
       "       'sub-class_colddrinks', 'sub-class_fastfood', 'sub-class_headset',\n",
       "       'sub-class_hoodies', 'sub-class_laptop', 'sub-class_lighting',\n",
       "       'sub-class_pants', 'sub-class_phone', 'sub-class_shorts',\n",
       "       'sub-class_tablet', 'sub-class_television', 'sub-class_tshirts',\n",
       "       'sub-class_watch'],\n",
       "      dtype='object')"
      ]
     },
     "execution_count": 115,
     "metadata": {},
     "output_type": "execute_result"
    }
   ],
   "source": [
    "df.columns"
   ]
  },
  {
   "cell_type": "code",
   "execution_count": 116,
   "metadata": {
    "colab": {
     "base_uri": "https://localhost:8080/"
    },
    "id": "H8u3PI4Zh7FA",
    "outputId": "6568007c-1ff7-4472-cc9d-698f028dc527"
   },
   "outputs": [
    {
     "data": {
      "text/plain": [
       "array(['Standard Class', 'First Class', 'Second Class', 'Same Day'],\n",
       "      dtype=object)"
      ]
     },
     "execution_count": 116,
     "metadata": {},
     "output_type": "execute_result"
    }
   ],
   "source": [
    "df['delivery type'].unique()"
   ]
  },
  {
   "cell_type": "code",
   "execution_count": 117,
   "metadata": {
    "id": "et1o85GGiPCo"
   },
   "outputs": [],
   "source": [
    "df_dtype = pd.get_dummies(df['delivery type'],prefix = 'dtype')"
   ]
  },
  {
   "cell_type": "code",
   "execution_count": 118,
   "metadata": {
    "colab": {
     "base_uri": "https://localhost:8080/",
     "height": 195
    },
    "id": "wJpxeLxxikHS",
    "outputId": "e96cccc9-4f62-475d-c1cb-9acd2aaf6b28"
   },
   "outputs": [
    {
     "data": {
      "text/html": [
       "<div>\n",
       "<style scoped>\n",
       "    .dataframe tbody tr th:only-of-type {\n",
       "        vertical-align: middle;\n",
       "    }\n",
       "\n",
       "    .dataframe tbody tr th {\n",
       "        vertical-align: top;\n",
       "    }\n",
       "\n",
       "    .dataframe thead th {\n",
       "        text-align: right;\n",
       "    }\n",
       "</style>\n",
       "<table border=\"1\" class=\"dataframe\">\n",
       "  <thead>\n",
       "    <tr style=\"text-align: right;\">\n",
       "      <th></th>\n",
       "      <th>dtype_First Class</th>\n",
       "      <th>dtype_Same Day</th>\n",
       "      <th>dtype_Second Class</th>\n",
       "      <th>dtype_Standard Class</th>\n",
       "    </tr>\n",
       "  </thead>\n",
       "  <tbody>\n",
       "    <tr>\n",
       "      <th>0</th>\n",
       "      <td>0</td>\n",
       "      <td>0</td>\n",
       "      <td>0</td>\n",
       "      <td>1</td>\n",
       "    </tr>\n",
       "    <tr>\n",
       "      <th>1</th>\n",
       "      <td>0</td>\n",
       "      <td>0</td>\n",
       "      <td>0</td>\n",
       "      <td>1</td>\n",
       "    </tr>\n",
       "    <tr>\n",
       "      <th>2</th>\n",
       "      <td>0</td>\n",
       "      <td>0</td>\n",
       "      <td>0</td>\n",
       "      <td>1</td>\n",
       "    </tr>\n",
       "    <tr>\n",
       "      <th>3</th>\n",
       "      <td>0</td>\n",
       "      <td>0</td>\n",
       "      <td>0</td>\n",
       "      <td>1</td>\n",
       "    </tr>\n",
       "    <tr>\n",
       "      <th>4</th>\n",
       "      <td>0</td>\n",
       "      <td>0</td>\n",
       "      <td>0</td>\n",
       "      <td>1</td>\n",
       "    </tr>\n",
       "  </tbody>\n",
       "</table>\n",
       "</div>"
      ],
      "text/plain": [
       "   dtype_First Class  dtype_Same Day  dtype_Second Class  dtype_Standard Class\n",
       "0                  0               0                   0                     1\n",
       "1                  0               0                   0                     1\n",
       "2                  0               0                   0                     1\n",
       "3                  0               0                   0                     1\n",
       "4                  0               0                   0                     1"
      ]
     },
     "execution_count": 118,
     "metadata": {},
     "output_type": "execute_result"
    }
   ],
   "source": [
    "df_dtype.head()\n",
    "#df_dtype.size"
   ]
  },
  {
   "cell_type": "code",
   "execution_count": 119,
   "metadata": {
    "id": "bn_hR16RujTN"
   },
   "outputs": [],
   "source": [
    "df_dtype = df_dtype.drop(['dtype_Same Day'],axis = 1)"
   ]
  },
  {
   "cell_type": "code",
   "execution_count": 120,
   "metadata": {
    "id": "4EeXEQ1jit-T"
   },
   "outputs": [],
   "source": [
    "df = pd.concat([df, df_dtype], axis = 1)\n",
    "df = df.drop(['delivery type'], axis = 1)"
   ]
  },
  {
   "cell_type": "markdown",
   "metadata": {
    "id": "ykzBf0lkp7nk"
   },
   "source": []
  },
  {
   "cell_type": "code",
   "execution_count": 121,
   "metadata": {
    "colab": {
     "base_uri": "https://localhost:8080/"
    },
    "id": "ZudpSObwmpMV",
    "outputId": "a9d59395-a0b0-452a-9ad8-abad7238a8bf"
   },
   "outputs": [
    {
     "data": {
      "text/plain": [
       "Index(['discount', 'price', 'no of items', 'profit', 'month', 'quarter',\n",
       "       'departure city_0', 'departure city_1', 'departure city_2',\n",
       "       'departure city_3', 'departure city_4', 'departure city_5',\n",
       "       'departure city_6', 'departure city_7', 'departure city_8',\n",
       "       'departure city_9', 'departure city_10', 'departure state_0',\n",
       "       'departure state_1', 'departure state_2', 'departure state_3',\n",
       "       'departure state_4', 'departure state_5', 'departure state_6',\n",
       "       'add_col_0', 'add_col_1', 'add_col_2', 'add_col_3', 'add_col_4',\n",
       "       'add_col_5', 'add_col_6', 'add_col_7', 'Location_East',\n",
       "       'Location_South', 'Location_West', 'Segment_Consumer',\n",
       "       'Segment_Home Office', 'Class_fynota', 'Class_kariox',\n",
       "       'sub-class_battery', 'sub-class_charger', 'sub-class_chocolates',\n",
       "       'sub-class_colddrinks', 'sub-class_fastfood', 'sub-class_headset',\n",
       "       'sub-class_hoodies', 'sub-class_laptop', 'sub-class_lighting',\n",
       "       'sub-class_pants', 'sub-class_phone', 'sub-class_shorts',\n",
       "       'sub-class_tablet', 'sub-class_television', 'sub-class_tshirts',\n",
       "       'sub-class_watch', 'dtype_First Class', 'dtype_Second Class',\n",
       "       'dtype_Standard Class'],\n",
       "      dtype='object')"
      ]
     },
     "execution_count": 121,
     "metadata": {},
     "output_type": "execute_result"
    }
   ],
   "source": [
    "df.columns"
   ]
  },
  {
   "cell_type": "code",
   "execution_count": 122,
   "metadata": {
    "colab": {
     "base_uri": "https://localhost:8080/",
     "height": 232
    },
    "id": "z0uWd3hphSSs",
    "outputId": "b21b9fc6-3072-4462-f204-fdfc7158ff76"
   },
   "outputs": [
    {
     "data": {
      "text/html": [
       "<div>\n",
       "<style scoped>\n",
       "    .dataframe tbody tr th:only-of-type {\n",
       "        vertical-align: middle;\n",
       "    }\n",
       "\n",
       "    .dataframe tbody tr th {\n",
       "        vertical-align: top;\n",
       "    }\n",
       "\n",
       "    .dataframe thead th {\n",
       "        text-align: right;\n",
       "    }\n",
       "</style>\n",
       "<table border=\"1\" class=\"dataframe\">\n",
       "  <thead>\n",
       "    <tr style=\"text-align: right;\">\n",
       "      <th></th>\n",
       "      <th>discount</th>\n",
       "      <th>price</th>\n",
       "      <th>no of items</th>\n",
       "      <th>profit</th>\n",
       "      <th>month</th>\n",
       "      <th>quarter</th>\n",
       "      <th>departure city_0</th>\n",
       "      <th>departure city_1</th>\n",
       "      <th>departure city_2</th>\n",
       "      <th>departure city_3</th>\n",
       "      <th>...</th>\n",
       "      <th>sub-class_pants</th>\n",
       "      <th>sub-class_phone</th>\n",
       "      <th>sub-class_shorts</th>\n",
       "      <th>sub-class_tablet</th>\n",
       "      <th>sub-class_television</th>\n",
       "      <th>sub-class_tshirts</th>\n",
       "      <th>sub-class_watch</th>\n",
       "      <th>dtype_First Class</th>\n",
       "      <th>dtype_Second Class</th>\n",
       "      <th>dtype_Standard Class</th>\n",
       "    </tr>\n",
       "  </thead>\n",
       "  <tbody>\n",
       "    <tr>\n",
       "      <th>0</th>\n",
       "      <td>0.2</td>\n",
       "      <td>16.448</td>\n",
       "      <td>2</td>\n",
       "      <td>5.5512</td>\n",
       "      <td>1</td>\n",
       "      <td>1</td>\n",
       "      <td>0</td>\n",
       "      <td>0</td>\n",
       "      <td>0</td>\n",
       "      <td>0</td>\n",
       "      <td>...</td>\n",
       "      <td>0</td>\n",
       "      <td>1</td>\n",
       "      <td>0</td>\n",
       "      <td>0</td>\n",
       "      <td>0</td>\n",
       "      <td>0</td>\n",
       "      <td>0</td>\n",
       "      <td>0</td>\n",
       "      <td>0</td>\n",
       "      <td>1</td>\n",
       "    </tr>\n",
       "    <tr>\n",
       "      <th>1</th>\n",
       "      <td>0.0</td>\n",
       "      <td>29.700</td>\n",
       "      <td>5</td>\n",
       "      <td>13.3650</td>\n",
       "      <td>1</td>\n",
       "      <td>1</td>\n",
       "      <td>0</td>\n",
       "      <td>0</td>\n",
       "      <td>0</td>\n",
       "      <td>0</td>\n",
       "      <td>...</td>\n",
       "      <td>0</td>\n",
       "      <td>0</td>\n",
       "      <td>0</td>\n",
       "      <td>0</td>\n",
       "      <td>0</td>\n",
       "      <td>0</td>\n",
       "      <td>0</td>\n",
       "      <td>0</td>\n",
       "      <td>0</td>\n",
       "      <td>1</td>\n",
       "    </tr>\n",
       "    <tr>\n",
       "      <th>2</th>\n",
       "      <td>0.0</td>\n",
       "      <td>14.730</td>\n",
       "      <td>3</td>\n",
       "      <td>4.8609</td>\n",
       "      <td>1</td>\n",
       "      <td>1</td>\n",
       "      <td>0</td>\n",
       "      <td>0</td>\n",
       "      <td>0</td>\n",
       "      <td>0</td>\n",
       "      <td>...</td>\n",
       "      <td>0</td>\n",
       "      <td>0</td>\n",
       "      <td>1</td>\n",
       "      <td>0</td>\n",
       "      <td>0</td>\n",
       "      <td>0</td>\n",
       "      <td>0</td>\n",
       "      <td>0</td>\n",
       "      <td>0</td>\n",
       "      <td>1</td>\n",
       "    </tr>\n",
       "    <tr>\n",
       "      <th>3</th>\n",
       "      <td>0.0</td>\n",
       "      <td>43.920</td>\n",
       "      <td>3</td>\n",
       "      <td>12.7368</td>\n",
       "      <td>1</td>\n",
       "      <td>1</td>\n",
       "      <td>0</td>\n",
       "      <td>0</td>\n",
       "      <td>0</td>\n",
       "      <td>0</td>\n",
       "      <td>...</td>\n",
       "      <td>0</td>\n",
       "      <td>0</td>\n",
       "      <td>0</td>\n",
       "      <td>0</td>\n",
       "      <td>1</td>\n",
       "      <td>0</td>\n",
       "      <td>0</td>\n",
       "      <td>0</td>\n",
       "      <td>0</td>\n",
       "      <td>1</td>\n",
       "    </tr>\n",
       "    <tr>\n",
       "      <th>4</th>\n",
       "      <td>0.0</td>\n",
       "      <td>66.580</td>\n",
       "      <td>2</td>\n",
       "      <td>15.9792</td>\n",
       "      <td>1</td>\n",
       "      <td>1</td>\n",
       "      <td>0</td>\n",
       "      <td>0</td>\n",
       "      <td>0</td>\n",
       "      <td>0</td>\n",
       "      <td>...</td>\n",
       "      <td>0</td>\n",
       "      <td>0</td>\n",
       "      <td>0</td>\n",
       "      <td>0</td>\n",
       "      <td>0</td>\n",
       "      <td>0</td>\n",
       "      <td>0</td>\n",
       "      <td>0</td>\n",
       "      <td>0</td>\n",
       "      <td>1</td>\n",
       "    </tr>\n",
       "  </tbody>\n",
       "</table>\n",
       "<p>5 rows × 58 columns</p>\n",
       "</div>"
      ],
      "text/plain": [
       "   discount   price  no of items   profit  month  quarter  departure city_0  \\\n",
       "0       0.2  16.448            2   5.5512      1        1                 0   \n",
       "1       0.0  29.700            5  13.3650      1        1                 0   \n",
       "2       0.0  14.730            3   4.8609      1        1                 0   \n",
       "3       0.0  43.920            3  12.7368      1        1                 0   \n",
       "4       0.0  66.580            2  15.9792      1        1                 0   \n",
       "\n",
       "   departure city_1  departure city_2  departure city_3  ...  sub-class_pants  \\\n",
       "0                 0                 0                 0  ...                0   \n",
       "1                 0                 0                 0  ...                0   \n",
       "2                 0                 0                 0  ...                0   \n",
       "3                 0                 0                 0  ...                0   \n",
       "4                 0                 0                 0  ...                0   \n",
       "\n",
       "   sub-class_phone  sub-class_shorts  sub-class_tablet  sub-class_television  \\\n",
       "0                1                 0                 0                     0   \n",
       "1                0                 0                 0                     0   \n",
       "2                0                 1                 0                     0   \n",
       "3                0                 0                 0                     1   \n",
       "4                0                 0                 0                     0   \n",
       "\n",
       "   sub-class_tshirts  sub-class_watch  dtype_First Class  dtype_Second Class  \\\n",
       "0                  0                0                  0                   0   \n",
       "1                  0                0                  0                   0   \n",
       "2                  0                0                  0                   0   \n",
       "3                  0                0                  0                   0   \n",
       "4                  0                0                  0                   0   \n",
       "\n",
       "   dtype_Standard Class  \n",
       "0                     1  \n",
       "1                     1  \n",
       "2                     1  \n",
       "3                     1  \n",
       "4                     1  \n",
       "\n",
       "[5 rows x 58 columns]"
      ]
     },
     "execution_count": 122,
     "metadata": {},
     "output_type": "execute_result"
    }
   ],
   "source": [
    "df.head()"
   ]
  },
  {
   "cell_type": "code",
   "execution_count": 123,
   "metadata": {
    "colab": {
     "base_uri": "https://localhost:8080/",
     "height": 296
    },
    "id": "ny4PeUjYhSXZ",
    "outputId": "9d4570f0-d92a-4b56-d292-aae6ebf24b26"
   },
   "outputs": [
    {
     "data": {
      "text/html": [
       "<div>\n",
       "<style scoped>\n",
       "    .dataframe tbody tr th:only-of-type {\n",
       "        vertical-align: middle;\n",
       "    }\n",
       "\n",
       "    .dataframe tbody tr th {\n",
       "        vertical-align: top;\n",
       "    }\n",
       "\n",
       "    .dataframe thead th {\n",
       "        text-align: right;\n",
       "    }\n",
       "</style>\n",
       "<table border=\"1\" class=\"dataframe\">\n",
       "  <thead>\n",
       "    <tr style=\"text-align: right;\">\n",
       "      <th></th>\n",
       "      <th>id</th>\n",
       "      <th>departure city</th>\n",
       "      <th>discount</th>\n",
       "      <th>price</th>\n",
       "      <th>no of items</th>\n",
       "      <th>location</th>\n",
       "      <th>class</th>\n",
       "      <th>segment</th>\n",
       "      <th>sub-class</th>\n",
       "      <th>delivery type</th>\n",
       "      <th>RID</th>\n",
       "      <th>profit</th>\n",
       "      <th>delivery date</th>\n",
       "      <th>address code</th>\n",
       "      <th>departure state</th>\n",
       "      <th>placement date</th>\n",
       "    </tr>\n",
       "  </thead>\n",
       "  <tbody>\n",
       "    <tr>\n",
       "      <th>0</th>\n",
       "      <td>1</td>\n",
       "      <td>Houston</td>\n",
       "      <td>0.2</td>\n",
       "      <td>16.448</td>\n",
       "      <td>2</td>\n",
       "      <td>Central</td>\n",
       "      <td>kariox</td>\n",
       "      <td>Consumer</td>\n",
       "      <td>phone</td>\n",
       "      <td>Standard Class</td>\n",
       "      <td>7981</td>\n",
       "      <td>5.5512</td>\n",
       "      <td>2018-01-01</td>\n",
       "      <td>77095</td>\n",
       "      <td>Texas</td>\n",
       "      <td>2018-01-01</td>\n",
       "    </tr>\n",
       "    <tr>\n",
       "      <th>1</th>\n",
       "      <td>2</td>\n",
       "      <td>Westland</td>\n",
       "      <td>0.0</td>\n",
       "      <td>29.700</td>\n",
       "      <td>5</td>\n",
       "      <td>Central</td>\n",
       "      <td>kariox</td>\n",
       "      <td>Consumer</td>\n",
       "      <td>headset</td>\n",
       "      <td>Standard Class</td>\n",
       "      <td>6334</td>\n",
       "      <td>13.3650</td>\n",
       "      <td>2018-01-01</td>\n",
       "      <td>48185</td>\n",
       "      <td>Michigan</td>\n",
       "      <td>2018-01-01</td>\n",
       "    </tr>\n",
       "    <tr>\n",
       "      <th>2</th>\n",
       "      <td>3</td>\n",
       "      <td>Westland</td>\n",
       "      <td>0.0</td>\n",
       "      <td>14.730</td>\n",
       "      <td>3</td>\n",
       "      <td>Central</td>\n",
       "      <td>qexty</td>\n",
       "      <td>Consumer</td>\n",
       "      <td>shorts</td>\n",
       "      <td>Standard Class</td>\n",
       "      <td>6333</td>\n",
       "      <td>4.8609</td>\n",
       "      <td>2018-01-01</td>\n",
       "      <td>48185</td>\n",
       "      <td>Michigan</td>\n",
       "      <td>2018-01-01</td>\n",
       "    </tr>\n",
       "    <tr>\n",
       "      <th>3</th>\n",
       "      <td>4</td>\n",
       "      <td>Westland</td>\n",
       "      <td>0.0</td>\n",
       "      <td>43.920</td>\n",
       "      <td>3</td>\n",
       "      <td>Central</td>\n",
       "      <td>kariox</td>\n",
       "      <td>Consumer</td>\n",
       "      <td>television</td>\n",
       "      <td>Standard Class</td>\n",
       "      <td>6332</td>\n",
       "      <td>12.7368</td>\n",
       "      <td>2018-01-01</td>\n",
       "      <td>48185</td>\n",
       "      <td>Michigan</td>\n",
       "      <td>2018-01-01</td>\n",
       "    </tr>\n",
       "    <tr>\n",
       "      <th>4</th>\n",
       "      <td>5</td>\n",
       "      <td>Westland</td>\n",
       "      <td>0.0</td>\n",
       "      <td>66.580</td>\n",
       "      <td>2</td>\n",
       "      <td>Central</td>\n",
       "      <td>kariox</td>\n",
       "      <td>Consumer</td>\n",
       "      <td>laptop</td>\n",
       "      <td>Standard Class</td>\n",
       "      <td>6331</td>\n",
       "      <td>15.9792</td>\n",
       "      <td>2018-01-01</td>\n",
       "      <td>48185</td>\n",
       "      <td>Michigan</td>\n",
       "      <td>2018-01-01</td>\n",
       "    </tr>\n",
       "  </tbody>\n",
       "</table>\n",
       "</div>"
      ],
      "text/plain": [
       "   id departure city  discount   price  no of items location   class  \\\n",
       "0   1        Houston       0.2  16.448            2  Central  kariox   \n",
       "1   2       Westland       0.0  29.700            5  Central  kariox   \n",
       "2   3       Westland       0.0  14.730            3  Central   qexty   \n",
       "3   4       Westland       0.0  43.920            3  Central  kariox   \n",
       "4   5       Westland       0.0  66.580            2  Central  kariox   \n",
       "\n",
       "    segment   sub-class   delivery type   RID   profit delivery date  \\\n",
       "0  Consumer       phone  Standard Class  7981   5.5512    2018-01-01   \n",
       "1  Consumer     headset  Standard Class  6334  13.3650    2018-01-01   \n",
       "2  Consumer      shorts  Standard Class  6333   4.8609    2018-01-01   \n",
       "3  Consumer  television  Standard Class  6332  12.7368    2018-01-01   \n",
       "4  Consumer      laptop  Standard Class  6331  15.9792    2018-01-01   \n",
       "\n",
       "   address code departure state placement date  \n",
       "0         77095           Texas     2018-01-01  \n",
       "1         48185        Michigan     2018-01-01  \n",
       "2         48185        Michigan     2018-01-01  \n",
       "3         48185        Michigan     2018-01-01  \n",
       "4         48185        Michigan     2018-01-01  "
      ]
     },
     "execution_count": 123,
     "metadata": {},
     "output_type": "execute_result"
    }
   ],
   "source": [
    "df_train.head()"
   ]
  },
  {
   "cell_type": "code",
   "execution_count": 124,
   "metadata": {
    "colab": {
     "base_uri": "https://localhost:8080/"
    },
    "id": "PvtU983GnaCy",
    "outputId": "eda76a85-cc6b-45d5-8d79-17e3fe2c07e6"
   },
   "outputs": [
    {
     "data": {
      "text/plain": [
       "discount                0\n",
       "price                   0\n",
       "no of items             0\n",
       "profit                  0\n",
       "month                   0\n",
       "quarter                 0\n",
       "departure city_0        0\n",
       "departure city_1        0\n",
       "departure city_2        0\n",
       "departure city_3        0\n",
       "departure city_4        0\n",
       "departure city_5        0\n",
       "departure city_6        0\n",
       "departure city_7        0\n",
       "departure city_8        0\n",
       "departure city_9        0\n",
       "departure city_10       0\n",
       "departure state_0       0\n",
       "departure state_1       0\n",
       "departure state_2       0\n",
       "departure state_3       0\n",
       "departure state_4       0\n",
       "departure state_5       0\n",
       "departure state_6       0\n",
       "add_col_0               0\n",
       "add_col_1               0\n",
       "add_col_2               0\n",
       "add_col_3               0\n",
       "add_col_4               0\n",
       "add_col_5               0\n",
       "add_col_6               0\n",
       "add_col_7               0\n",
       "Location_East           0\n",
       "Location_South          0\n",
       "Location_West           0\n",
       "Segment_Consumer        0\n",
       "Segment_Home Office     0\n",
       "Class_fynota            0\n",
       "Class_kariox            0\n",
       "sub-class_battery       0\n",
       "sub-class_charger       0\n",
       "sub-class_chocolates    0\n",
       "sub-class_colddrinks    0\n",
       "sub-class_fastfood      0\n",
       "sub-class_headset       0\n",
       "sub-class_hoodies       0\n",
       "sub-class_laptop        0\n",
       "sub-class_lighting      0\n",
       "sub-class_pants         0\n",
       "sub-class_phone         0\n",
       "sub-class_shorts        0\n",
       "sub-class_tablet        0\n",
       "sub-class_television    0\n",
       "sub-class_tshirts       0\n",
       "sub-class_watch         0\n",
       "dtype_First Class       0\n",
       "dtype_Second Class      0\n",
       "dtype_Standard Class    0\n",
       "dtype: int64"
      ]
     },
     "execution_count": 124,
     "metadata": {},
     "output_type": "execute_result"
    }
   ],
   "source": [
    "df.isnull().sum()"
   ]
  },
  {
   "cell_type": "code",
   "execution_count": 125,
   "metadata": {
    "colab": {
     "base_uri": "https://localhost:8080/"
    },
    "id": "pkzzqylsn25l",
    "outputId": "58de11ae-2a9f-4ab5-f7bc-0fce03e463a4"
   },
   "outputs": [
    {
     "name": "stdout",
     "output_type": "stream",
     "text": [
      "<class 'pandas.core.frame.DataFrame'>\n",
      "RangeIndex: 3294 entries, 0 to 3293\n",
      "Data columns (total 14 columns):\n",
      " #   Column           Non-Null Count  Dtype  \n",
      "---  ------           --------------  -----  \n",
      " 0   id               3294 non-null   int64  \n",
      " 1   departure city   3294 non-null   object \n",
      " 2   discount         3294 non-null   float64\n",
      " 3   price            3294 non-null   float64\n",
      " 4   no of items      3294 non-null   int64  \n",
      " 5   location         3294 non-null   object \n",
      " 6   class            3294 non-null   object \n",
      " 7   segment          3294 non-null   object \n",
      " 8   sub-class        3294 non-null   object \n",
      " 9   delivery type    3294 non-null   object \n",
      " 10  address code     3294 non-null   int64  \n",
      " 11  departure state  3294 non-null   object \n",
      " 12  month            3294 non-null   int64  \n",
      " 13  quarter          3294 non-null   int64  \n",
      "dtypes: float64(2), int64(5), object(7)\n",
      "memory usage: 360.4+ KB\n"
     ]
    }
   ],
   "source": [
    "df_test.info()"
   ]
  },
  {
   "cell_type": "code",
   "execution_count": 126,
   "metadata": {
    "colab": {
     "base_uri": "https://localhost:8080/",
     "height": 279
    },
    "id": "DPlXi2ven8zm",
    "outputId": "8487c7f0-e031-402c-b0b9-7b6aee7f4cd4"
   },
   "outputs": [
    {
     "data": {
      "text/html": [
       "<div>\n",
       "<style scoped>\n",
       "    .dataframe tbody tr th:only-of-type {\n",
       "        vertical-align: middle;\n",
       "    }\n",
       "\n",
       "    .dataframe tbody tr th {\n",
       "        vertical-align: top;\n",
       "    }\n",
       "\n",
       "    .dataframe thead th {\n",
       "        text-align: right;\n",
       "    }\n",
       "</style>\n",
       "<table border=\"1\" class=\"dataframe\">\n",
       "  <thead>\n",
       "    <tr style=\"text-align: right;\">\n",
       "      <th></th>\n",
       "      <th>id</th>\n",
       "      <th>departure city</th>\n",
       "      <th>discount</th>\n",
       "      <th>price</th>\n",
       "      <th>no of items</th>\n",
       "      <th>location</th>\n",
       "      <th>class</th>\n",
       "      <th>segment</th>\n",
       "      <th>sub-class</th>\n",
       "      <th>delivery type</th>\n",
       "      <th>address code</th>\n",
       "      <th>departure state</th>\n",
       "      <th>month</th>\n",
       "      <th>quarter</th>\n",
       "    </tr>\n",
       "  </thead>\n",
       "  <tbody>\n",
       "    <tr>\n",
       "      <th>0</th>\n",
       "      <td>6701</td>\n",
       "      <td>San Francisco</td>\n",
       "      <td>0.0</td>\n",
       "      <td>24.200</td>\n",
       "      <td>5</td>\n",
       "      <td>West</td>\n",
       "      <td>kariox</td>\n",
       "      <td>Consumer</td>\n",
       "      <td>television</td>\n",
       "      <td>Standard Class</td>\n",
       "      <td>94122</td>\n",
       "      <td>California</td>\n",
       "      <td>1</td>\n",
       "      <td>1</td>\n",
       "    </tr>\n",
       "    <tr>\n",
       "      <th>1</th>\n",
       "      <td>6702</td>\n",
       "      <td>San Francisco</td>\n",
       "      <td>0.2</td>\n",
       "      <td>359.976</td>\n",
       "      <td>3</td>\n",
       "      <td>West</td>\n",
       "      <td>fynota</td>\n",
       "      <td>Consumer</td>\n",
       "      <td>colddrinks</td>\n",
       "      <td>Standard Class</td>\n",
       "      <td>94122</td>\n",
       "      <td>California</td>\n",
       "      <td>1</td>\n",
       "      <td>1</td>\n",
       "    </tr>\n",
       "    <tr>\n",
       "      <th>2</th>\n",
       "      <td>6703</td>\n",
       "      <td>Waterbury</td>\n",
       "      <td>0.0</td>\n",
       "      <td>3.520</td>\n",
       "      <td>2</td>\n",
       "      <td>East</td>\n",
       "      <td>kariox</td>\n",
       "      <td>Consumer</td>\n",
       "      <td>television</td>\n",
       "      <td>Standard Class</td>\n",
       "      <td>6708</td>\n",
       "      <td>Connecticut</td>\n",
       "      <td>1</td>\n",
       "      <td>1</td>\n",
       "    </tr>\n",
       "    <tr>\n",
       "      <th>3</th>\n",
       "      <td>6704</td>\n",
       "      <td>Chicago</td>\n",
       "      <td>0.2</td>\n",
       "      <td>11.520</td>\n",
       "      <td>5</td>\n",
       "      <td>Central</td>\n",
       "      <td>kariox</td>\n",
       "      <td>Consumer</td>\n",
       "      <td>tablet</td>\n",
       "      <td>First Class</td>\n",
       "      <td>60653</td>\n",
       "      <td>Illinois</td>\n",
       "      <td>1</td>\n",
       "      <td>1</td>\n",
       "    </tr>\n",
       "    <tr>\n",
       "      <th>4</th>\n",
       "      <td>6705</td>\n",
       "      <td>Seattle</td>\n",
       "      <td>0.0</td>\n",
       "      <td>242.940</td>\n",
       "      <td>3</td>\n",
       "      <td>West</td>\n",
       "      <td>kariox</td>\n",
       "      <td>Home Office</td>\n",
       "      <td>laptop</td>\n",
       "      <td>Standard Class</td>\n",
       "      <td>98115</td>\n",
       "      <td>Washington</td>\n",
       "      <td>1</td>\n",
       "      <td>1</td>\n",
       "    </tr>\n",
       "  </tbody>\n",
       "</table>\n",
       "</div>"
      ],
      "text/plain": [
       "     id departure city  discount    price  no of items location   class  \\\n",
       "0  6701  San Francisco       0.0   24.200            5     West  kariox   \n",
       "1  6702  San Francisco       0.2  359.976            3     West  fynota   \n",
       "2  6703      Waterbury       0.0    3.520            2     East  kariox   \n",
       "3  6704        Chicago       0.2   11.520            5  Central  kariox   \n",
       "4  6705        Seattle       0.0  242.940            3     West  kariox   \n",
       "\n",
       "       segment   sub-class   delivery type  address code departure state  \\\n",
       "0     Consumer  television  Standard Class         94122      California   \n",
       "1     Consumer  colddrinks  Standard Class         94122      California   \n",
       "2     Consumer  television  Standard Class          6708     Connecticut   \n",
       "3     Consumer      tablet     First Class         60653        Illinois   \n",
       "4  Home Office      laptop  Standard Class         98115      Washington   \n",
       "\n",
       "   month  quarter  \n",
       "0      1        1  \n",
       "1      1        1  \n",
       "2      1        1  \n",
       "3      1        1  \n",
       "4      1        1  "
      ]
     },
     "execution_count": 126,
     "metadata": {},
     "output_type": "execute_result"
    }
   ],
   "source": [
    "df_test.head()"
   ]
  },
  {
   "cell_type": "markdown",
   "metadata": {
    "id": "LaT5uz1swauC"
   },
   "source": [
    "# **Encoding Test Data**"
   ]
  },
  {
   "cell_type": "code",
   "execution_count": 127,
   "metadata": {
    "id": "xXHI9rflofc-"
   },
   "outputs": [],
   "source": [
    "df_test = df_test.drop(['id'], axis = 1)"
   ]
  },
  {
   "cell_type": "code",
   "execution_count": 128,
   "metadata": {
    "id": "NVzr5VfrwWZ7"
   },
   "outputs": [],
   "source": [
    "df_departurecity_test = df_departurecity_test.reset_index()"
   ]
  },
  {
   "cell_type": "code",
   "execution_count": 129,
   "metadata": {
    "id": "AlT9aM4_wWfA"
   },
   "outputs": [],
   "source": [
    "df_departurestate_test = df_departurestate_test.reset_index()"
   ]
  },
  {
   "cell_type": "code",
   "execution_count": 130,
   "metadata": {
    "id": "Ud-78W7JwWko"
   },
   "outputs": [],
   "source": [
    "df_address_test = df_address_test.reset_index()"
   ]
  },
  {
   "cell_type": "code",
   "execution_count": 131,
   "metadata": {
    "colab": {
     "base_uri": "https://localhost:8080/",
     "height": 606
    },
    "id": "vyIrh09awWpo",
    "outputId": "31a402cf-0837-4c44-957c-2d05a9e1b8a5"
   },
   "outputs": [
    {
     "data": {
      "text/html": [
       "<div>\n",
       "<style scoped>\n",
       "    .dataframe tbody tr th:only-of-type {\n",
       "        vertical-align: middle;\n",
       "    }\n",
       "\n",
       "    .dataframe tbody tr th {\n",
       "        vertical-align: top;\n",
       "    }\n",
       "\n",
       "    .dataframe thead th {\n",
       "        text-align: right;\n",
       "    }\n",
       "</style>\n",
       "<table border=\"1\" class=\"dataframe\">\n",
       "  <thead>\n",
       "    <tr style=\"text-align: right;\">\n",
       "      <th></th>\n",
       "      <th>discount</th>\n",
       "      <th>price</th>\n",
       "      <th>no of items</th>\n",
       "      <th>location</th>\n",
       "      <th>class</th>\n",
       "      <th>segment</th>\n",
       "      <th>sub-class</th>\n",
       "      <th>delivery type</th>\n",
       "      <th>address code</th>\n",
       "      <th>departure state</th>\n",
       "      <th>...</th>\n",
       "      <th>departure city_1</th>\n",
       "      <th>departure city_2</th>\n",
       "      <th>departure city_3</th>\n",
       "      <th>departure city_4</th>\n",
       "      <th>departure city_5</th>\n",
       "      <th>departure city_6</th>\n",
       "      <th>departure city_7</th>\n",
       "      <th>departure city_8</th>\n",
       "      <th>departure city_9</th>\n",
       "      <th>departure city_10</th>\n",
       "    </tr>\n",
       "  </thead>\n",
       "  <tbody>\n",
       "    <tr>\n",
       "      <th>0</th>\n",
       "      <td>0.0</td>\n",
       "      <td>24.200</td>\n",
       "      <td>5</td>\n",
       "      <td>West</td>\n",
       "      <td>kariox</td>\n",
       "      <td>Consumer</td>\n",
       "      <td>television</td>\n",
       "      <td>Standard Class</td>\n",
       "      <td>94122</td>\n",
       "      <td>California</td>\n",
       "      <td>...</td>\n",
       "      <td>0</td>\n",
       "      <td>0</td>\n",
       "      <td>0</td>\n",
       "      <td>0</td>\n",
       "      <td>0</td>\n",
       "      <td>1</td>\n",
       "      <td>1</td>\n",
       "      <td>0</td>\n",
       "      <td>1</td>\n",
       "      <td>1</td>\n",
       "    </tr>\n",
       "    <tr>\n",
       "      <th>1</th>\n",
       "      <td>0.2</td>\n",
       "      <td>359.976</td>\n",
       "      <td>3</td>\n",
       "      <td>West</td>\n",
       "      <td>fynota</td>\n",
       "      <td>Consumer</td>\n",
       "      <td>colddrinks</td>\n",
       "      <td>Standard Class</td>\n",
       "      <td>94122</td>\n",
       "      <td>California</td>\n",
       "      <td>...</td>\n",
       "      <td>0</td>\n",
       "      <td>0</td>\n",
       "      <td>0</td>\n",
       "      <td>0</td>\n",
       "      <td>0</td>\n",
       "      <td>1</td>\n",
       "      <td>1</td>\n",
       "      <td>0</td>\n",
       "      <td>1</td>\n",
       "      <td>1</td>\n",
       "    </tr>\n",
       "    <tr>\n",
       "      <th>2</th>\n",
       "      <td>0.0</td>\n",
       "      <td>3.520</td>\n",
       "      <td>2</td>\n",
       "      <td>East</td>\n",
       "      <td>kariox</td>\n",
       "      <td>Consumer</td>\n",
       "      <td>television</td>\n",
       "      <td>Standard Class</td>\n",
       "      <td>6708</td>\n",
       "      <td>Connecticut</td>\n",
       "      <td>...</td>\n",
       "      <td>0</td>\n",
       "      <td>1</td>\n",
       "      <td>1</td>\n",
       "      <td>0</td>\n",
       "      <td>0</td>\n",
       "      <td>1</td>\n",
       "      <td>1</td>\n",
       "      <td>0</td>\n",
       "      <td>1</td>\n",
       "      <td>1</td>\n",
       "    </tr>\n",
       "    <tr>\n",
       "      <th>3</th>\n",
       "      <td>0.2</td>\n",
       "      <td>11.520</td>\n",
       "      <td>5</td>\n",
       "      <td>Central</td>\n",
       "      <td>kariox</td>\n",
       "      <td>Consumer</td>\n",
       "      <td>tablet</td>\n",
       "      <td>First Class</td>\n",
       "      <td>60653</td>\n",
       "      <td>Illinois</td>\n",
       "      <td>...</td>\n",
       "      <td>0</td>\n",
       "      <td>0</td>\n",
       "      <td>0</td>\n",
       "      <td>0</td>\n",
       "      <td>1</td>\n",
       "      <td>0</td>\n",
       "      <td>0</td>\n",
       "      <td>0</td>\n",
       "      <td>0</td>\n",
       "      <td>0</td>\n",
       "    </tr>\n",
       "    <tr>\n",
       "      <th>4</th>\n",
       "      <td>0.0</td>\n",
       "      <td>242.940</td>\n",
       "      <td>3</td>\n",
       "      <td>West</td>\n",
       "      <td>kariox</td>\n",
       "      <td>Home Office</td>\n",
       "      <td>laptop</td>\n",
       "      <td>Standard Class</td>\n",
       "      <td>98115</td>\n",
       "      <td>Washington</td>\n",
       "      <td>...</td>\n",
       "      <td>0</td>\n",
       "      <td>0</td>\n",
       "      <td>0</td>\n",
       "      <td>0</td>\n",
       "      <td>0</td>\n",
       "      <td>1</td>\n",
       "      <td>1</td>\n",
       "      <td>1</td>\n",
       "      <td>1</td>\n",
       "      <td>1</td>\n",
       "    </tr>\n",
       "    <tr>\n",
       "      <th>...</th>\n",
       "      <td>...</td>\n",
       "      <td>...</td>\n",
       "      <td>...</td>\n",
       "      <td>...</td>\n",
       "      <td>...</td>\n",
       "      <td>...</td>\n",
       "      <td>...</td>\n",
       "      <td>...</td>\n",
       "      <td>...</td>\n",
       "      <td>...</td>\n",
       "      <td>...</td>\n",
       "      <td>...</td>\n",
       "      <td>...</td>\n",
       "      <td>...</td>\n",
       "      <td>...</td>\n",
       "      <td>...</td>\n",
       "      <td>...</td>\n",
       "      <td>...</td>\n",
       "      <td>...</td>\n",
       "      <td>...</td>\n",
       "      <td>...</td>\n",
       "    </tr>\n",
       "    <tr>\n",
       "      <th>3289</th>\n",
       "      <td>0.0</td>\n",
       "      <td>31.920</td>\n",
       "      <td>4</td>\n",
       "      <td>East</td>\n",
       "      <td>kariox</td>\n",
       "      <td>Consumer</td>\n",
       "      <td>laptop</td>\n",
       "      <td>Second Class</td>\n",
       "      <td>10035</td>\n",
       "      <td>New York</td>\n",
       "      <td>...</td>\n",
       "      <td>0</td>\n",
       "      <td>0</td>\n",
       "      <td>0</td>\n",
       "      <td>0</td>\n",
       "      <td>0</td>\n",
       "      <td>0</td>\n",
       "      <td>1</td>\n",
       "      <td>0</td>\n",
       "      <td>1</td>\n",
       "      <td>1</td>\n",
       "    </tr>\n",
       "    <tr>\n",
       "      <th>3290</th>\n",
       "      <td>0.0</td>\n",
       "      <td>19.440</td>\n",
       "      <td>3</td>\n",
       "      <td>East</td>\n",
       "      <td>kariox</td>\n",
       "      <td>Consumer</td>\n",
       "      <td>phone</td>\n",
       "      <td>Second Class</td>\n",
       "      <td>10035</td>\n",
       "      <td>New York</td>\n",
       "      <td>...</td>\n",
       "      <td>0</td>\n",
       "      <td>0</td>\n",
       "      <td>0</td>\n",
       "      <td>0</td>\n",
       "      <td>0</td>\n",
       "      <td>0</td>\n",
       "      <td>1</td>\n",
       "      <td>0</td>\n",
       "      <td>1</td>\n",
       "      <td>1</td>\n",
       "    </tr>\n",
       "    <tr>\n",
       "      <th>3291</th>\n",
       "      <td>0.0</td>\n",
       "      <td>272.940</td>\n",
       "      <td>3</td>\n",
       "      <td>East</td>\n",
       "      <td>kariox</td>\n",
       "      <td>Consumer</td>\n",
       "      <td>laptop</td>\n",
       "      <td>Second Class</td>\n",
       "      <td>10035</td>\n",
       "      <td>New York</td>\n",
       "      <td>...</td>\n",
       "      <td>0</td>\n",
       "      <td>0</td>\n",
       "      <td>0</td>\n",
       "      <td>0</td>\n",
       "      <td>0</td>\n",
       "      <td>0</td>\n",
       "      <td>1</td>\n",
       "      <td>0</td>\n",
       "      <td>1</td>\n",
       "      <td>1</td>\n",
       "    </tr>\n",
       "    <tr>\n",
       "      <th>3292</th>\n",
       "      <td>0.2</td>\n",
       "      <td>113.568</td>\n",
       "      <td>2</td>\n",
       "      <td>West</td>\n",
       "      <td>qexty</td>\n",
       "      <td>Consumer</td>\n",
       "      <td>tshirts</td>\n",
       "      <td>Standard Class</td>\n",
       "      <td>94110</td>\n",
       "      <td>California</td>\n",
       "      <td>...</td>\n",
       "      <td>0</td>\n",
       "      <td>0</td>\n",
       "      <td>0</td>\n",
       "      <td>0</td>\n",
       "      <td>0</td>\n",
       "      <td>1</td>\n",
       "      <td>1</td>\n",
       "      <td>0</td>\n",
       "      <td>1</td>\n",
       "      <td>1</td>\n",
       "    </tr>\n",
       "    <tr>\n",
       "      <th>3293</th>\n",
       "      <td>0.2</td>\n",
       "      <td>3.024</td>\n",
       "      <td>3</td>\n",
       "      <td>West</td>\n",
       "      <td>kariox</td>\n",
       "      <td>Consumer</td>\n",
       "      <td>lighting</td>\n",
       "      <td>Standard Class</td>\n",
       "      <td>80538</td>\n",
       "      <td>Colorado</td>\n",
       "      <td>...</td>\n",
       "      <td>0</td>\n",
       "      <td>1</td>\n",
       "      <td>1</td>\n",
       "      <td>1</td>\n",
       "      <td>1</td>\n",
       "      <td>1</td>\n",
       "      <td>0</td>\n",
       "      <td>1</td>\n",
       "      <td>0</td>\n",
       "      <td>0</td>\n",
       "    </tr>\n",
       "  </tbody>\n",
       "</table>\n",
       "<p>3294 rows × 24 columns</p>\n",
       "</div>"
      ],
      "text/plain": [
       "      discount    price  no of items location   class      segment  \\\n",
       "0          0.0   24.200            5     West  kariox     Consumer   \n",
       "1          0.2  359.976            3     West  fynota     Consumer   \n",
       "2          0.0    3.520            2     East  kariox     Consumer   \n",
       "3          0.2   11.520            5  Central  kariox     Consumer   \n",
       "4          0.0  242.940            3     West  kariox  Home Office   \n",
       "...        ...      ...          ...      ...     ...          ...   \n",
       "3289       0.0   31.920            4     East  kariox     Consumer   \n",
       "3290       0.0   19.440            3     East  kariox     Consumer   \n",
       "3291       0.0  272.940            3     East  kariox     Consumer   \n",
       "3292       0.2  113.568            2     West   qexty     Consumer   \n",
       "3293       0.2    3.024            3     West  kariox     Consumer   \n",
       "\n",
       "       sub-class   delivery type  address code departure state  ...  \\\n",
       "0     television  Standard Class         94122      California  ...   \n",
       "1     colddrinks  Standard Class         94122      California  ...   \n",
       "2     television  Standard Class          6708     Connecticut  ...   \n",
       "3         tablet     First Class         60653        Illinois  ...   \n",
       "4         laptop  Standard Class         98115      Washington  ...   \n",
       "...          ...             ...           ...             ...  ...   \n",
       "3289      laptop    Second Class         10035        New York  ...   \n",
       "3290       phone    Second Class         10035        New York  ...   \n",
       "3291      laptop    Second Class         10035        New York  ...   \n",
       "3292     tshirts  Standard Class         94110      California  ...   \n",
       "3293    lighting  Standard Class         80538        Colorado  ...   \n",
       "\n",
       "      departure city_1  departure city_2  departure city_3  departure city_4  \\\n",
       "0                    0                 0                 0                 0   \n",
       "1                    0                 0                 0                 0   \n",
       "2                    0                 1                 1                 0   \n",
       "3                    0                 0                 0                 0   \n",
       "4                    0                 0                 0                 0   \n",
       "...                ...               ...               ...               ...   \n",
       "3289                 0                 0                 0                 0   \n",
       "3290                 0                 0                 0                 0   \n",
       "3291                 0                 0                 0                 0   \n",
       "3292                 0                 0                 0                 0   \n",
       "3293                 0                 1                 1                 1   \n",
       "\n",
       "      departure city_5  departure city_6  departure city_7  departure city_8  \\\n",
       "0                    0                 1                 1                 0   \n",
       "1                    0                 1                 1                 0   \n",
       "2                    0                 1                 1                 0   \n",
       "3                    1                 0                 0                 0   \n",
       "4                    0                 1                 1                 1   \n",
       "...                ...               ...               ...               ...   \n",
       "3289                 0                 0                 1                 0   \n",
       "3290                 0                 0                 1                 0   \n",
       "3291                 0                 0                 1                 0   \n",
       "3292                 0                 1                 1                 0   \n",
       "3293                 1                 1                 0                 1   \n",
       "\n",
       "      departure city_9  departure city_10  \n",
       "0                    1                  1  \n",
       "1                    1                  1  \n",
       "2                    1                  1  \n",
       "3                    0                  0  \n",
       "4                    1                  1  \n",
       "...                ...                ...  \n",
       "3289                 1                  1  \n",
       "3290                 1                  1  \n",
       "3291                 1                  1  \n",
       "3292                 1                  1  \n",
       "3293                 0                  0  \n",
       "\n",
       "[3294 rows x 24 columns]"
      ]
     },
     "execution_count": 131,
     "metadata": {},
     "output_type": "execute_result"
    }
   ],
   "source": [
    "df_test = pd.concat([df_test, df_departurecity_test], axis = 1)\n",
    "df_test = df_test.drop(['departure city', 'departure city'], axis = 1)\n",
    "df_test"
   ]
  },
  {
   "cell_type": "code",
   "execution_count": 132,
   "metadata": {
    "colab": {
     "base_uri": "https://localhost:8080/",
     "height": 606
    },
    "id": "2xQ-jy0nwWug",
    "outputId": "17f9b9e0-5ce3-4617-f272-4d813a879e9e"
   },
   "outputs": [
    {
     "data": {
      "text/html": [
       "<div>\n",
       "<style scoped>\n",
       "    .dataframe tbody tr th:only-of-type {\n",
       "        vertical-align: middle;\n",
       "    }\n",
       "\n",
       "    .dataframe tbody tr th {\n",
       "        vertical-align: top;\n",
       "    }\n",
       "\n",
       "    .dataframe thead th {\n",
       "        text-align: right;\n",
       "    }\n",
       "</style>\n",
       "<table border=\"1\" class=\"dataframe\">\n",
       "  <thead>\n",
       "    <tr style=\"text-align: right;\">\n",
       "      <th></th>\n",
       "      <th>discount</th>\n",
       "      <th>price</th>\n",
       "      <th>no of items</th>\n",
       "      <th>location</th>\n",
       "      <th>class</th>\n",
       "      <th>segment</th>\n",
       "      <th>sub-class</th>\n",
       "      <th>delivery type</th>\n",
       "      <th>address code</th>\n",
       "      <th>month</th>\n",
       "      <th>...</th>\n",
       "      <th>departure city_9</th>\n",
       "      <th>departure city_10</th>\n",
       "      <th>index</th>\n",
       "      <th>departure state_0</th>\n",
       "      <th>departure state_1</th>\n",
       "      <th>departure state_2</th>\n",
       "      <th>departure state_3</th>\n",
       "      <th>departure state_4</th>\n",
       "      <th>departure state_5</th>\n",
       "      <th>departure state_6</th>\n",
       "    </tr>\n",
       "  </thead>\n",
       "  <tbody>\n",
       "    <tr>\n",
       "      <th>0</th>\n",
       "      <td>0.0</td>\n",
       "      <td>24.200</td>\n",
       "      <td>5</td>\n",
       "      <td>West</td>\n",
       "      <td>kariox</td>\n",
       "      <td>Consumer</td>\n",
       "      <td>television</td>\n",
       "      <td>Standard Class</td>\n",
       "      <td>94122</td>\n",
       "      <td>1</td>\n",
       "      <td>...</td>\n",
       "      <td>1</td>\n",
       "      <td>1</td>\n",
       "      <td>6700</td>\n",
       "      <td>0</td>\n",
       "      <td>0</td>\n",
       "      <td>0</td>\n",
       "      <td>0</td>\n",
       "      <td>1</td>\n",
       "      <td>1</td>\n",
       "      <td>0</td>\n",
       "    </tr>\n",
       "    <tr>\n",
       "      <th>1</th>\n",
       "      <td>0.2</td>\n",
       "      <td>359.976</td>\n",
       "      <td>3</td>\n",
       "      <td>West</td>\n",
       "      <td>fynota</td>\n",
       "      <td>Consumer</td>\n",
       "      <td>colddrinks</td>\n",
       "      <td>Standard Class</td>\n",
       "      <td>94122</td>\n",
       "      <td>1</td>\n",
       "      <td>...</td>\n",
       "      <td>1</td>\n",
       "      <td>1</td>\n",
       "      <td>6701</td>\n",
       "      <td>0</td>\n",
       "      <td>0</td>\n",
       "      <td>0</td>\n",
       "      <td>0</td>\n",
       "      <td>1</td>\n",
       "      <td>1</td>\n",
       "      <td>0</td>\n",
       "    </tr>\n",
       "    <tr>\n",
       "      <th>2</th>\n",
       "      <td>0.0</td>\n",
       "      <td>3.520</td>\n",
       "      <td>2</td>\n",
       "      <td>East</td>\n",
       "      <td>kariox</td>\n",
       "      <td>Consumer</td>\n",
       "      <td>television</td>\n",
       "      <td>Standard Class</td>\n",
       "      <td>6708</td>\n",
       "      <td>1</td>\n",
       "      <td>...</td>\n",
       "      <td>1</td>\n",
       "      <td>1</td>\n",
       "      <td>6702</td>\n",
       "      <td>0</td>\n",
       "      <td>1</td>\n",
       "      <td>0</td>\n",
       "      <td>0</td>\n",
       "      <td>1</td>\n",
       "      <td>1</td>\n",
       "      <td>1</td>\n",
       "    </tr>\n",
       "    <tr>\n",
       "      <th>3</th>\n",
       "      <td>0.2</td>\n",
       "      <td>11.520</td>\n",
       "      <td>5</td>\n",
       "      <td>Central</td>\n",
       "      <td>kariox</td>\n",
       "      <td>Consumer</td>\n",
       "      <td>tablet</td>\n",
       "      <td>First Class</td>\n",
       "      <td>60653</td>\n",
       "      <td>1</td>\n",
       "      <td>...</td>\n",
       "      <td>0</td>\n",
       "      <td>0</td>\n",
       "      <td>6703</td>\n",
       "      <td>0</td>\n",
       "      <td>0</td>\n",
       "      <td>1</td>\n",
       "      <td>0</td>\n",
       "      <td>0</td>\n",
       "      <td>0</td>\n",
       "      <td>1</td>\n",
       "    </tr>\n",
       "    <tr>\n",
       "      <th>4</th>\n",
       "      <td>0.0</td>\n",
       "      <td>242.940</td>\n",
       "      <td>3</td>\n",
       "      <td>West</td>\n",
       "      <td>kariox</td>\n",
       "      <td>Home Office</td>\n",
       "      <td>laptop</td>\n",
       "      <td>Standard Class</td>\n",
       "      <td>98115</td>\n",
       "      <td>1</td>\n",
       "      <td>...</td>\n",
       "      <td>1</td>\n",
       "      <td>1</td>\n",
       "      <td>6704</td>\n",
       "      <td>0</td>\n",
       "      <td>0</td>\n",
       "      <td>1</td>\n",
       "      <td>0</td>\n",
       "      <td>1</td>\n",
       "      <td>1</td>\n",
       "      <td>0</td>\n",
       "    </tr>\n",
       "    <tr>\n",
       "      <th>...</th>\n",
       "      <td>...</td>\n",
       "      <td>...</td>\n",
       "      <td>...</td>\n",
       "      <td>...</td>\n",
       "      <td>...</td>\n",
       "      <td>...</td>\n",
       "      <td>...</td>\n",
       "      <td>...</td>\n",
       "      <td>...</td>\n",
       "      <td>...</td>\n",
       "      <td>...</td>\n",
       "      <td>...</td>\n",
       "      <td>...</td>\n",
       "      <td>...</td>\n",
       "      <td>...</td>\n",
       "      <td>...</td>\n",
       "      <td>...</td>\n",
       "      <td>...</td>\n",
       "      <td>...</td>\n",
       "      <td>...</td>\n",
       "      <td>...</td>\n",
       "    </tr>\n",
       "    <tr>\n",
       "      <th>3289</th>\n",
       "      <td>0.0</td>\n",
       "      <td>31.920</td>\n",
       "      <td>4</td>\n",
       "      <td>East</td>\n",
       "      <td>kariox</td>\n",
       "      <td>Consumer</td>\n",
       "      <td>laptop</td>\n",
       "      <td>Second Class</td>\n",
       "      <td>10035</td>\n",
       "      <td>12</td>\n",
       "      <td>...</td>\n",
       "      <td>1</td>\n",
       "      <td>1</td>\n",
       "      <td>9989</td>\n",
       "      <td>0</td>\n",
       "      <td>0</td>\n",
       "      <td>0</td>\n",
       "      <td>1</td>\n",
       "      <td>0</td>\n",
       "      <td>0</td>\n",
       "      <td>1</td>\n",
       "    </tr>\n",
       "    <tr>\n",
       "      <th>3290</th>\n",
       "      <td>0.0</td>\n",
       "      <td>19.440</td>\n",
       "      <td>3</td>\n",
       "      <td>East</td>\n",
       "      <td>kariox</td>\n",
       "      <td>Consumer</td>\n",
       "      <td>phone</td>\n",
       "      <td>Second Class</td>\n",
       "      <td>10035</td>\n",
       "      <td>12</td>\n",
       "      <td>...</td>\n",
       "      <td>1</td>\n",
       "      <td>1</td>\n",
       "      <td>9990</td>\n",
       "      <td>0</td>\n",
       "      <td>0</td>\n",
       "      <td>0</td>\n",
       "      <td>1</td>\n",
       "      <td>0</td>\n",
       "      <td>0</td>\n",
       "      <td>1</td>\n",
       "    </tr>\n",
       "    <tr>\n",
       "      <th>3291</th>\n",
       "      <td>0.0</td>\n",
       "      <td>272.940</td>\n",
       "      <td>3</td>\n",
       "      <td>East</td>\n",
       "      <td>kariox</td>\n",
       "      <td>Consumer</td>\n",
       "      <td>laptop</td>\n",
       "      <td>Second Class</td>\n",
       "      <td>10035</td>\n",
       "      <td>12</td>\n",
       "      <td>...</td>\n",
       "      <td>1</td>\n",
       "      <td>1</td>\n",
       "      <td>9991</td>\n",
       "      <td>0</td>\n",
       "      <td>0</td>\n",
       "      <td>0</td>\n",
       "      <td>1</td>\n",
       "      <td>0</td>\n",
       "      <td>0</td>\n",
       "      <td>1</td>\n",
       "    </tr>\n",
       "    <tr>\n",
       "      <th>3292</th>\n",
       "      <td>0.2</td>\n",
       "      <td>113.568</td>\n",
       "      <td>2</td>\n",
       "      <td>West</td>\n",
       "      <td>qexty</td>\n",
       "      <td>Consumer</td>\n",
       "      <td>tshirts</td>\n",
       "      <td>Standard Class</td>\n",
       "      <td>94110</td>\n",
       "      <td>12</td>\n",
       "      <td>...</td>\n",
       "      <td>1</td>\n",
       "      <td>1</td>\n",
       "      <td>9992</td>\n",
       "      <td>0</td>\n",
       "      <td>0</td>\n",
       "      <td>0</td>\n",
       "      <td>0</td>\n",
       "      <td>1</td>\n",
       "      <td>1</td>\n",
       "      <td>0</td>\n",
       "    </tr>\n",
       "    <tr>\n",
       "      <th>3293</th>\n",
       "      <td>0.2</td>\n",
       "      <td>3.024</td>\n",
       "      <td>3</td>\n",
       "      <td>West</td>\n",
       "      <td>kariox</td>\n",
       "      <td>Consumer</td>\n",
       "      <td>lighting</td>\n",
       "      <td>Standard Class</td>\n",
       "      <td>80538</td>\n",
       "      <td>12</td>\n",
       "      <td>...</td>\n",
       "      <td>0</td>\n",
       "      <td>0</td>\n",
       "      <td>9993</td>\n",
       "      <td>0</td>\n",
       "      <td>0</td>\n",
       "      <td>1</td>\n",
       "      <td>1</td>\n",
       "      <td>1</td>\n",
       "      <td>1</td>\n",
       "      <td>1</td>\n",
       "    </tr>\n",
       "  </tbody>\n",
       "</table>\n",
       "<p>3294 rows × 31 columns</p>\n",
       "</div>"
      ],
      "text/plain": [
       "      discount    price  no of items location   class      segment  \\\n",
       "0          0.0   24.200            5     West  kariox     Consumer   \n",
       "1          0.2  359.976            3     West  fynota     Consumer   \n",
       "2          0.0    3.520            2     East  kariox     Consumer   \n",
       "3          0.2   11.520            5  Central  kariox     Consumer   \n",
       "4          0.0  242.940            3     West  kariox  Home Office   \n",
       "...        ...      ...          ...      ...     ...          ...   \n",
       "3289       0.0   31.920            4     East  kariox     Consumer   \n",
       "3290       0.0   19.440            3     East  kariox     Consumer   \n",
       "3291       0.0  272.940            3     East  kariox     Consumer   \n",
       "3292       0.2  113.568            2     West   qexty     Consumer   \n",
       "3293       0.2    3.024            3     West  kariox     Consumer   \n",
       "\n",
       "       sub-class   delivery type  address code  month  ...  departure city_9  \\\n",
       "0     television  Standard Class         94122      1  ...                 1   \n",
       "1     colddrinks  Standard Class         94122      1  ...                 1   \n",
       "2     television  Standard Class          6708      1  ...                 1   \n",
       "3         tablet     First Class         60653      1  ...                 0   \n",
       "4         laptop  Standard Class         98115      1  ...                 1   \n",
       "...          ...             ...           ...    ...  ...               ...   \n",
       "3289      laptop    Second Class         10035     12  ...                 1   \n",
       "3290       phone    Second Class         10035     12  ...                 1   \n",
       "3291      laptop    Second Class         10035     12  ...                 1   \n",
       "3292     tshirts  Standard Class         94110     12  ...                 1   \n",
       "3293    lighting  Standard Class         80538     12  ...                 0   \n",
       "\n",
       "      departure city_10  index  departure state_0  departure state_1  \\\n",
       "0                     1   6700                  0                  0   \n",
       "1                     1   6701                  0                  0   \n",
       "2                     1   6702                  0                  1   \n",
       "3                     0   6703                  0                  0   \n",
       "4                     1   6704                  0                  0   \n",
       "...                 ...    ...                ...                ...   \n",
       "3289                  1   9989                  0                  0   \n",
       "3290                  1   9990                  0                  0   \n",
       "3291                  1   9991                  0                  0   \n",
       "3292                  1   9992                  0                  0   \n",
       "3293                  0   9993                  0                  0   \n",
       "\n",
       "      departure state_2  departure state_3  departure state_4  \\\n",
       "0                     0                  0                  1   \n",
       "1                     0                  0                  1   \n",
       "2                     0                  0                  1   \n",
       "3                     1                  0                  0   \n",
       "4                     1                  0                  1   \n",
       "...                 ...                ...                ...   \n",
       "3289                  0                  1                  0   \n",
       "3290                  0                  1                  0   \n",
       "3291                  0                  1                  0   \n",
       "3292                  0                  0                  1   \n",
       "3293                  1                  1                  1   \n",
       "\n",
       "      departure state_5  departure state_6  \n",
       "0                     1                  0  \n",
       "1                     1                  0  \n",
       "2                     1                  1  \n",
       "3                     0                  1  \n",
       "4                     1                  0  \n",
       "...                 ...                ...  \n",
       "3289                  0                  1  \n",
       "3290                  0                  1  \n",
       "3291                  0                  1  \n",
       "3292                  1                  0  \n",
       "3293                  1                  1  \n",
       "\n",
       "[3294 rows x 31 columns]"
      ]
     },
     "execution_count": 132,
     "metadata": {},
     "output_type": "execute_result"
    }
   ],
   "source": [
    "df_test = pd.concat([df_test, df_departurestate_test], axis = 1)\n",
    "df_test = df_test.drop(['departure state'], axis = 1)\n",
    "df_test"
   ]
  },
  {
   "cell_type": "code",
   "execution_count": 133,
   "metadata": {
    "colab": {
     "base_uri": "https://localhost:8080/",
     "height": 606
    },
    "id": "N1mLM2jYwWzs",
    "outputId": "30d269f2-e0a3-4eae-d6a1-1f8e745619f1"
   },
   "outputs": [
    {
     "data": {
      "text/html": [
       "<div>\n",
       "<style scoped>\n",
       "    .dataframe tbody tr th:only-of-type {\n",
       "        vertical-align: middle;\n",
       "    }\n",
       "\n",
       "    .dataframe tbody tr th {\n",
       "        vertical-align: top;\n",
       "    }\n",
       "\n",
       "    .dataframe thead th {\n",
       "        text-align: right;\n",
       "    }\n",
       "</style>\n",
       "<table border=\"1\" class=\"dataframe\">\n",
       "  <thead>\n",
       "    <tr style=\"text-align: right;\">\n",
       "      <th></th>\n",
       "      <th>discount</th>\n",
       "      <th>price</th>\n",
       "      <th>no of items</th>\n",
       "      <th>location</th>\n",
       "      <th>class</th>\n",
       "      <th>segment</th>\n",
       "      <th>sub-class</th>\n",
       "      <th>delivery type</th>\n",
       "      <th>month</th>\n",
       "      <th>quarter</th>\n",
       "      <th>...</th>\n",
       "      <th>departure state_6</th>\n",
       "      <th>index</th>\n",
       "      <th>add_col_0</th>\n",
       "      <th>add_col_1</th>\n",
       "      <th>add_col_2</th>\n",
       "      <th>add_col_3</th>\n",
       "      <th>add_col_4</th>\n",
       "      <th>add_col_5</th>\n",
       "      <th>add_col_6</th>\n",
       "      <th>add_col_7</th>\n",
       "    </tr>\n",
       "  </thead>\n",
       "  <tbody>\n",
       "    <tr>\n",
       "      <th>0</th>\n",
       "      <td>0.0</td>\n",
       "      <td>24.200</td>\n",
       "      <td>5</td>\n",
       "      <td>West</td>\n",
       "      <td>kariox</td>\n",
       "      <td>Consumer</td>\n",
       "      <td>television</td>\n",
       "      <td>Standard Class</td>\n",
       "      <td>1</td>\n",
       "      <td>1</td>\n",
       "      <td>...</td>\n",
       "      <td>0</td>\n",
       "      <td>6700</td>\n",
       "      <td>0</td>\n",
       "      <td>0</td>\n",
       "      <td>0</td>\n",
       "      <td>0</td>\n",
       "      <td>1</td>\n",
       "      <td>0</td>\n",
       "      <td>0</td>\n",
       "      <td>0</td>\n",
       "    </tr>\n",
       "    <tr>\n",
       "      <th>1</th>\n",
       "      <td>0.2</td>\n",
       "      <td>359.976</td>\n",
       "      <td>3</td>\n",
       "      <td>West</td>\n",
       "      <td>fynota</td>\n",
       "      <td>Consumer</td>\n",
       "      <td>colddrinks</td>\n",
       "      <td>Standard Class</td>\n",
       "      <td>1</td>\n",
       "      <td>1</td>\n",
       "      <td>...</td>\n",
       "      <td>0</td>\n",
       "      <td>6701</td>\n",
       "      <td>0</td>\n",
       "      <td>0</td>\n",
       "      <td>0</td>\n",
       "      <td>0</td>\n",
       "      <td>1</td>\n",
       "      <td>0</td>\n",
       "      <td>0</td>\n",
       "      <td>0</td>\n",
       "    </tr>\n",
       "    <tr>\n",
       "      <th>2</th>\n",
       "      <td>0.0</td>\n",
       "      <td>3.520</td>\n",
       "      <td>2</td>\n",
       "      <td>East</td>\n",
       "      <td>kariox</td>\n",
       "      <td>Consumer</td>\n",
       "      <td>television</td>\n",
       "      <td>Standard Class</td>\n",
       "      <td>1</td>\n",
       "      <td>1</td>\n",
       "      <td>...</td>\n",
       "      <td>1</td>\n",
       "      <td>6702</td>\n",
       "      <td>0</td>\n",
       "      <td>0</td>\n",
       "      <td>0</td>\n",
       "      <td>0</td>\n",
       "      <td>0</td>\n",
       "      <td>0</td>\n",
       "      <td>0</td>\n",
       "      <td>1</td>\n",
       "    </tr>\n",
       "    <tr>\n",
       "      <th>3</th>\n",
       "      <td>0.2</td>\n",
       "      <td>11.520</td>\n",
       "      <td>5</td>\n",
       "      <td>Central</td>\n",
       "      <td>kariox</td>\n",
       "      <td>Consumer</td>\n",
       "      <td>tablet</td>\n",
       "      <td>First Class</td>\n",
       "      <td>1</td>\n",
       "      <td>1</td>\n",
       "      <td>...</td>\n",
       "      <td>1</td>\n",
       "      <td>6703</td>\n",
       "      <td>0</td>\n",
       "      <td>0</td>\n",
       "      <td>0</td>\n",
       "      <td>0</td>\n",
       "      <td>0</td>\n",
       "      <td>0</td>\n",
       "      <td>1</td>\n",
       "      <td>0</td>\n",
       "    </tr>\n",
       "    <tr>\n",
       "      <th>4</th>\n",
       "      <td>0.0</td>\n",
       "      <td>242.940</td>\n",
       "      <td>3</td>\n",
       "      <td>West</td>\n",
       "      <td>kariox</td>\n",
       "      <td>Home Office</td>\n",
       "      <td>laptop</td>\n",
       "      <td>Standard Class</td>\n",
       "      <td>1</td>\n",
       "      <td>1</td>\n",
       "      <td>...</td>\n",
       "      <td>0</td>\n",
       "      <td>6704</td>\n",
       "      <td>1</td>\n",
       "      <td>0</td>\n",
       "      <td>0</td>\n",
       "      <td>0</td>\n",
       "      <td>0</td>\n",
       "      <td>0</td>\n",
       "      <td>0</td>\n",
       "      <td>0</td>\n",
       "    </tr>\n",
       "    <tr>\n",
       "      <th>...</th>\n",
       "      <td>...</td>\n",
       "      <td>...</td>\n",
       "      <td>...</td>\n",
       "      <td>...</td>\n",
       "      <td>...</td>\n",
       "      <td>...</td>\n",
       "      <td>...</td>\n",
       "      <td>...</td>\n",
       "      <td>...</td>\n",
       "      <td>...</td>\n",
       "      <td>...</td>\n",
       "      <td>...</td>\n",
       "      <td>...</td>\n",
       "      <td>...</td>\n",
       "      <td>...</td>\n",
       "      <td>...</td>\n",
       "      <td>...</td>\n",
       "      <td>...</td>\n",
       "      <td>...</td>\n",
       "      <td>...</td>\n",
       "      <td>...</td>\n",
       "    </tr>\n",
       "    <tr>\n",
       "      <th>3289</th>\n",
       "      <td>0.0</td>\n",
       "      <td>31.920</td>\n",
       "      <td>4</td>\n",
       "      <td>East</td>\n",
       "      <td>kariox</td>\n",
       "      <td>Consumer</td>\n",
       "      <td>laptop</td>\n",
       "      <td>Second Class</td>\n",
       "      <td>12</td>\n",
       "      <td>4</td>\n",
       "      <td>...</td>\n",
       "      <td>1</td>\n",
       "      <td>9989</td>\n",
       "      <td>1</td>\n",
       "      <td>0</td>\n",
       "      <td>0</td>\n",
       "      <td>0</td>\n",
       "      <td>0</td>\n",
       "      <td>0</td>\n",
       "      <td>0</td>\n",
       "      <td>0</td>\n",
       "    </tr>\n",
       "    <tr>\n",
       "      <th>3290</th>\n",
       "      <td>0.0</td>\n",
       "      <td>19.440</td>\n",
       "      <td>3</td>\n",
       "      <td>East</td>\n",
       "      <td>kariox</td>\n",
       "      <td>Consumer</td>\n",
       "      <td>phone</td>\n",
       "      <td>Second Class</td>\n",
       "      <td>12</td>\n",
       "      <td>4</td>\n",
       "      <td>...</td>\n",
       "      <td>1</td>\n",
       "      <td>9990</td>\n",
       "      <td>1</td>\n",
       "      <td>0</td>\n",
       "      <td>0</td>\n",
       "      <td>0</td>\n",
       "      <td>0</td>\n",
       "      <td>0</td>\n",
       "      <td>0</td>\n",
       "      <td>0</td>\n",
       "    </tr>\n",
       "    <tr>\n",
       "      <th>3291</th>\n",
       "      <td>0.0</td>\n",
       "      <td>272.940</td>\n",
       "      <td>3</td>\n",
       "      <td>East</td>\n",
       "      <td>kariox</td>\n",
       "      <td>Consumer</td>\n",
       "      <td>laptop</td>\n",
       "      <td>Second Class</td>\n",
       "      <td>12</td>\n",
       "      <td>4</td>\n",
       "      <td>...</td>\n",
       "      <td>1</td>\n",
       "      <td>9991</td>\n",
       "      <td>1</td>\n",
       "      <td>0</td>\n",
       "      <td>0</td>\n",
       "      <td>0</td>\n",
       "      <td>0</td>\n",
       "      <td>0</td>\n",
       "      <td>0</td>\n",
       "      <td>0</td>\n",
       "    </tr>\n",
       "    <tr>\n",
       "      <th>3292</th>\n",
       "      <td>0.2</td>\n",
       "      <td>113.568</td>\n",
       "      <td>2</td>\n",
       "      <td>West</td>\n",
       "      <td>qexty</td>\n",
       "      <td>Consumer</td>\n",
       "      <td>tshirts</td>\n",
       "      <td>Standard Class</td>\n",
       "      <td>12</td>\n",
       "      <td>4</td>\n",
       "      <td>...</td>\n",
       "      <td>0</td>\n",
       "      <td>9992</td>\n",
       "      <td>0</td>\n",
       "      <td>0</td>\n",
       "      <td>0</td>\n",
       "      <td>0</td>\n",
       "      <td>1</td>\n",
       "      <td>0</td>\n",
       "      <td>0</td>\n",
       "      <td>0</td>\n",
       "    </tr>\n",
       "    <tr>\n",
       "      <th>3293</th>\n",
       "      <td>0.2</td>\n",
       "      <td>3.024</td>\n",
       "      <td>3</td>\n",
       "      <td>West</td>\n",
       "      <td>kariox</td>\n",
       "      <td>Consumer</td>\n",
       "      <td>lighting</td>\n",
       "      <td>Standard Class</td>\n",
       "      <td>12</td>\n",
       "      <td>4</td>\n",
       "      <td>...</td>\n",
       "      <td>1</td>\n",
       "      <td>9993</td>\n",
       "      <td>0</td>\n",
       "      <td>0</td>\n",
       "      <td>0</td>\n",
       "      <td>0</td>\n",
       "      <td>0</td>\n",
       "      <td>0</td>\n",
       "      <td>0</td>\n",
       "      <td>1</td>\n",
       "    </tr>\n",
       "  </tbody>\n",
       "</table>\n",
       "<p>3294 rows × 39 columns</p>\n",
       "</div>"
      ],
      "text/plain": [
       "      discount    price  no of items location   class      segment  \\\n",
       "0          0.0   24.200            5     West  kariox     Consumer   \n",
       "1          0.2  359.976            3     West  fynota     Consumer   \n",
       "2          0.0    3.520            2     East  kariox     Consumer   \n",
       "3          0.2   11.520            5  Central  kariox     Consumer   \n",
       "4          0.0  242.940            3     West  kariox  Home Office   \n",
       "...        ...      ...          ...      ...     ...          ...   \n",
       "3289       0.0   31.920            4     East  kariox     Consumer   \n",
       "3290       0.0   19.440            3     East  kariox     Consumer   \n",
       "3291       0.0  272.940            3     East  kariox     Consumer   \n",
       "3292       0.2  113.568            2     West   qexty     Consumer   \n",
       "3293       0.2    3.024            3     West  kariox     Consumer   \n",
       "\n",
       "       sub-class   delivery type  month  quarter  ...  departure state_6  \\\n",
       "0     television  Standard Class      1        1  ...                  0   \n",
       "1     colddrinks  Standard Class      1        1  ...                  0   \n",
       "2     television  Standard Class      1        1  ...                  1   \n",
       "3         tablet     First Class      1        1  ...                  1   \n",
       "4         laptop  Standard Class      1        1  ...                  0   \n",
       "...          ...             ...    ...      ...  ...                ...   \n",
       "3289      laptop    Second Class     12        4  ...                  1   \n",
       "3290       phone    Second Class     12        4  ...                  1   \n",
       "3291      laptop    Second Class     12        4  ...                  1   \n",
       "3292     tshirts  Standard Class     12        4  ...                  0   \n",
       "3293    lighting  Standard Class     12        4  ...                  1   \n",
       "\n",
       "      index  add_col_0  add_col_1  add_col_2  add_col_3  add_col_4  add_col_5  \\\n",
       "0      6700          0          0          0          0          1          0   \n",
       "1      6701          0          0          0          0          1          0   \n",
       "2      6702          0          0          0          0          0          0   \n",
       "3      6703          0          0          0          0          0          0   \n",
       "4      6704          1          0          0          0          0          0   \n",
       "...     ...        ...        ...        ...        ...        ...        ...   \n",
       "3289   9989          1          0          0          0          0          0   \n",
       "3290   9990          1          0          0          0          0          0   \n",
       "3291   9991          1          0          0          0          0          0   \n",
       "3292   9992          0          0          0          0          1          0   \n",
       "3293   9993          0          0          0          0          0          0   \n",
       "\n",
       "      add_col_6  add_col_7  \n",
       "0             0          0  \n",
       "1             0          0  \n",
       "2             0          1  \n",
       "3             1          0  \n",
       "4             0          0  \n",
       "...         ...        ...  \n",
       "3289          0          0  \n",
       "3290          0          0  \n",
       "3291          0          0  \n",
       "3292          0          0  \n",
       "3293          0          1  \n",
       "\n",
       "[3294 rows x 39 columns]"
      ]
     },
     "execution_count": 133,
     "metadata": {},
     "output_type": "execute_result"
    }
   ],
   "source": [
    "df_test = pd.concat([df_test, df_address_test], axis = 1)\n",
    "df_test = df_test.drop(['address code', 'address code'], axis = 1)\n",
    "df_test"
   ]
  },
  {
   "cell_type": "code",
   "execution_count": 134,
   "metadata": {
    "colab": {
     "base_uri": "https://localhost:8080/"
    },
    "id": "B4hDpjrjwTzj",
    "outputId": "8a54aa47-fcb3-4b48-dc50-6095676d7658"
   },
   "outputs": [
    {
     "data": {
      "text/plain": [
       "Index(['discount', 'price', 'no of items', 'location', 'class', 'segment',\n",
       "       'sub-class', 'delivery type', 'month', 'quarter', 'index',\n",
       "       'departure city_0', 'departure city_1', 'departure city_2',\n",
       "       'departure city_3', 'departure city_4', 'departure city_5',\n",
       "       'departure city_6', 'departure city_7', 'departure city_8',\n",
       "       'departure city_9', 'departure city_10', 'index', 'departure state_0',\n",
       "       'departure state_1', 'departure state_2', 'departure state_3',\n",
       "       'departure state_4', 'departure state_5', 'departure state_6', 'index',\n",
       "       'add_col_0', 'add_col_1', 'add_col_2', 'add_col_3', 'add_col_4',\n",
       "       'add_col_5', 'add_col_6', 'add_col_7'],\n",
       "      dtype='object')"
      ]
     },
     "execution_count": 134,
     "metadata": {},
     "output_type": "execute_result"
    }
   ],
   "source": [
    "df_test.columns"
   ]
  },
  {
   "cell_type": "code",
   "execution_count": 135,
   "metadata": {
    "id": "koOe-NSWwT5V"
   },
   "outputs": [],
   "source": [
    "y_test = pd.get_dummies(df_test.location, prefix='Location')"
   ]
  },
  {
   "cell_type": "code",
   "execution_count": 136,
   "metadata": {
    "colab": {
     "base_uri": "https://localhost:8080/"
    },
    "id": "glItuvhGwT-p",
    "outputId": "a592babd-5a3b-4164-d100-9714d481d250"
   },
   "outputs": [
    {
     "data": {
      "text/plain": [
       "(3294, 4)"
      ]
     },
     "execution_count": 136,
     "metadata": {},
     "output_type": "execute_result"
    }
   ],
   "source": [
    "y_test.shape"
   ]
  },
  {
   "cell_type": "code",
   "execution_count": 137,
   "metadata": {
    "id": "aIYfuADqwUDh"
   },
   "outputs": [],
   "source": [
    "df_test = pd.concat([df_test, y_test], axis = 1)"
   ]
  },
  {
   "cell_type": "code",
   "execution_count": 138,
   "metadata": {
    "colab": {
     "base_uri": "https://localhost:8080/"
    },
    "id": "onZpzQeCwUJn",
    "outputId": "4acbdda0-3ee9-4273-f0db-0e0420e450f0"
   },
   "outputs": [
    {
     "name": "stdout",
     "output_type": "stream",
     "text": [
      "    Segment_Consumer  Segment_Corporate  Segment_Home Office\n",
      "0                  1                  0                    0\n",
      "1                  1                  0                    0\n",
      "2                  1                  0                    0\n",
      "3                  1                  0                    0\n",
      "4                  0                  0                    1\n",
      "5                  0                  0                    1\n",
      "6                  0                  0                    1\n",
      "7                  0                  0                    1\n",
      "8                  0                  0                    1\n",
      "9                  0                  0                    1\n",
      "10                 0                  0                    1\n",
      "11                 0                  0                    1\n",
      "12                 0                  0                    1\n",
      "13                 0                  1                    0\n",
      "14                 1                  0                    0\n",
      "15                 0                  1                    0\n",
      "16                 0                  1                    0\n",
      "17                 0                  0                    1\n",
      "18                 0                  1                    0\n",
      "19                 0                  1                    0\n"
     ]
    }
   ],
   "source": [
    "se_test = pd.get_dummies(df_test.segment, prefix='Segment')\n",
    "print(se_test.head(20))"
   ]
  },
  {
   "cell_type": "code",
   "execution_count": 139,
   "metadata": {
    "id": "1QaeDRZtwUQw"
   },
   "outputs": [],
   "source": [
    "df_test = pd.concat([df_test, se_test], axis = 1)\n",
    "df_test = df_test.drop(['segment'], axis = 1)"
   ]
  },
  {
   "cell_type": "code",
   "execution_count": 140,
   "metadata": {
    "id": "4Vc6pFsIwUWZ"
   },
   "outputs": [],
   "source": [
    "df_test.rename(columns={'class': 'class1'}, inplace=True)"
   ]
  },
  {
   "cell_type": "code",
   "execution_count": 141,
   "metadata": {
    "colab": {
     "base_uri": "https://localhost:8080/"
    },
    "id": "0Jg24MkcwUcI",
    "outputId": "3582d44d-b682-4fd9-fb13-5575d0290982"
   },
   "outputs": [
    {
     "name": "stdout",
     "output_type": "stream",
     "text": [
      "    Class_fynota  Class_kariox  Class_qexty\n",
      "0              0             1            0\n",
      "1              1             0            0\n",
      "2              0             1            0\n",
      "3              0             1            0\n",
      "4              0             1            0\n",
      "5              1             0            0\n",
      "6              0             1            0\n",
      "7              0             0            1\n",
      "8              0             1            0\n",
      "9              0             1            0\n",
      "10             0             1            0\n",
      "11             0             1            0\n",
      "12             0             1            0\n",
      "13             1             0            0\n",
      "14             0             1            0\n",
      "15             0             1            0\n",
      "16             0             1            0\n",
      "17             1             0            0\n",
      "18             0             1            0\n",
      "19             0             1            0\n"
     ]
    }
   ],
   "source": [
    "cl_test = pd.get_dummies(df_test.class1, prefix='Class')\n",
    "print(cl_test.head(20))"
   ]
  },
  {
   "cell_type": "code",
   "execution_count": 142,
   "metadata": {
    "id": "65b6SEdDwUic"
   },
   "outputs": [],
   "source": [
    "df_test = pd.concat([df_test, cl_test], axis = 1)\n",
    "df_test = df_test.drop(['location', 'class1'], axis = 1)"
   ]
  },
  {
   "cell_type": "code",
   "execution_count": 143,
   "metadata": {
    "id": "zf1jBKMApEH8"
   },
   "outputs": [],
   "source": [
    "df_test = df_test.drop(['Location_Central', 'Segment_Corporate', 'Class_qexty'], axis = 1)"
   ]
  },
  {
   "cell_type": "code",
   "execution_count": 144,
   "metadata": {
    "id": "obLly6mBqMwc"
   },
   "outputs": [],
   "source": [
    "df_test_subclass = pd.get_dummies(df_test['sub-class'],prefix = 'sub-class')"
   ]
  },
  {
   "cell_type": "code",
   "execution_count": 145,
   "metadata": {
    "id": "vx82HJ1RxLuR"
   },
   "outputs": [],
   "source": [
    "df_test_subclass.drop(['sub-class_sweets'],axis = 1,inplace = True)"
   ]
  },
  {
   "cell_type": "code",
   "execution_count": 146,
   "metadata": {
    "id": "VZyQp_fPxLzx"
   },
   "outputs": [],
   "source": [
    "df_test = pd.concat([df_test,df_test_subclass],axis = 1)"
   ]
  },
  {
   "cell_type": "code",
   "execution_count": 147,
   "metadata": {
    "id": "YiX-olt-xL5t"
   },
   "outputs": [],
   "source": [
    "df_test = df_test.drop(['sub-class'], axis = 1)"
   ]
  },
  {
   "cell_type": "code",
   "execution_count": 148,
   "metadata": {
    "id": "GKQ7Z2fCxL_F"
   },
   "outputs": [],
   "source": [
    "df_test_dtype = pd.get_dummies(df_test['delivery type'],prefix = 'dtype')"
   ]
  },
  {
   "cell_type": "code",
   "execution_count": 149,
   "metadata": {
    "id": "qywt0EZwxMES"
   },
   "outputs": [],
   "source": [
    "df_test_dtype = df_test_dtype.drop(['dtype_Same Day'],axis = 1)"
   ]
  },
  {
   "cell_type": "code",
   "execution_count": 150,
   "metadata": {
    "id": "KVo8oJU4xMJZ"
   },
   "outputs": [],
   "source": [
    "df_test = pd.concat([df_test, df_test_dtype], axis = 1)\n",
    "df_test = df_test.drop(['delivery type'], axis = 1)"
   ]
  },
  {
   "cell_type": "code",
   "execution_count": 151,
   "metadata": {
    "id": "Y8thWp1TxMOt"
   },
   "outputs": [],
   "source": [
    "df_test = df_test.drop(['index', 'index', 'index'], axis = 1)"
   ]
  },
  {
   "cell_type": "code",
   "execution_count": 152,
   "metadata": {
    "colab": {
     "base_uri": "https://localhost:8080/"
    },
    "id": "Y15FqwEgxMT4",
    "outputId": "983cfe53-525b-42bc-9dee-fc8beedbb195"
   },
   "outputs": [
    {
     "data": {
      "text/plain": [
       "Index(['discount', 'price', 'no of items', 'month', 'quarter',\n",
       "       'departure city_0', 'departure city_1', 'departure city_2',\n",
       "       'departure city_3', 'departure city_4', 'departure city_5',\n",
       "       'departure city_6', 'departure city_7', 'departure city_8',\n",
       "       'departure city_9', 'departure city_10', 'departure state_0',\n",
       "       'departure state_1', 'departure state_2', 'departure state_3',\n",
       "       'departure state_4', 'departure state_5', 'departure state_6',\n",
       "       'add_col_0', 'add_col_1', 'add_col_2', 'add_col_3', 'add_col_4',\n",
       "       'add_col_5', 'add_col_6', 'add_col_7', 'Location_East',\n",
       "       'Location_South', 'Location_West', 'Segment_Consumer',\n",
       "       'Segment_Home Office', 'Class_fynota', 'Class_kariox',\n",
       "       'sub-class_battery', 'sub-class_charger', 'sub-class_chocolates',\n",
       "       'sub-class_colddrinks', 'sub-class_fastfood', 'sub-class_headset',\n",
       "       'sub-class_hoodies', 'sub-class_laptop', 'sub-class_lighting',\n",
       "       'sub-class_pants', 'sub-class_phone', 'sub-class_shorts',\n",
       "       'sub-class_tablet', 'sub-class_television', 'sub-class_tshirts',\n",
       "       'sub-class_watch', 'dtype_First Class', 'dtype_Second Class',\n",
       "       'dtype_Standard Class'],\n",
       "      dtype='object')"
      ]
     },
     "execution_count": 152,
     "metadata": {},
     "output_type": "execute_result"
    }
   ],
   "source": [
    "df_test.columns"
   ]
  },
  {
   "cell_type": "code",
   "execution_count": 153,
   "metadata": {
    "colab": {
     "base_uri": "https://localhost:8080/"
    },
    "id": "AdgSmm9G0nW_",
    "outputId": "c0940cc4-601c-44c8-c3b8-7dbac44c6f4c"
   },
   "outputs": [
    {
     "data": {
      "text/plain": [
       "0        24.200\n",
       "1       359.976\n",
       "2         3.520\n",
       "3        11.520\n",
       "4       242.940\n",
       "         ...   \n",
       "3289     31.920\n",
       "3290     19.440\n",
       "3291    272.940\n",
       "3292    113.568\n",
       "3293      3.024\n",
       "Name: price, Length: 3294, dtype: float64"
      ]
     },
     "execution_count": 153,
     "metadata": {},
     "output_type": "execute_result"
    }
   ],
   "source": [
    "df_test_copy['price']"
   ]
  },
  {
   "cell_type": "code",
   "execution_count": 154,
   "metadata": {
    "colab": {
     "base_uri": "https://localhost:8080/",
     "height": 334
    },
    "id": "pGl_emL_yRsJ",
    "outputId": "1899a898-a7e5-413b-98c8-d7e5b0a927ca"
   },
   "outputs": [
    {
     "name": "stderr",
     "output_type": "stream",
     "text": [
      "C:\\ProgramData\\Anaconda3\\lib\\site-packages\\seaborn\\distributions.py:2551: FutureWarning: `distplot` is a deprecated function and will be removed in a future version. Please adapt your code to use either `displot` (a figure-level function with similar flexibility) or `histplot` (an axes-level function for histograms).\n",
      "  warnings.warn(msg, FutureWarning)\n"
     ]
    },
    {
     "data": {
      "image/png": "[encoded data removed]",
      "text/plain": [
       "<Figure size 432x288 with 1 Axes>"
      ]
     },
     "metadata": {
      "needs_background": "light"
     },
     "output_type": "display_data"
    }
   ],
   "source": [
    "sns.distplot(df_test_copy['price'])\n",
    "plt.show()"
   ]
  },
  {
   "cell_type": "code",
   "execution_count": 155,
   "metadata": {
    "colab": {
     "base_uri": "https://localhost:8080/"
    },
    "id": "8SkGrAVsIR31",
    "outputId": "2e022a05-392c-4f10-fe3a-0c1f52b20e82"
   },
   "outputs": [
    {
     "data": {
      "text/plain": [
       "array([1, 2, 3, 4], dtype=int64)"
      ]
     },
     "execution_count": 155,
     "metadata": {},
     "output_type": "execute_result"
    }
   ],
   "source": [
    "df['quarter'].unique()"
   ]
  },
  {
   "cell_type": "markdown",
   "metadata": {
    "id": "-cCseazwQV5h"
   },
   "source": [
    "# MOnth_Quarter"
   ]
  },
  {
   "cell_type": "code",
   "execution_count": 156,
   "metadata": {
    "id": "B3MToaS6Qfeq"
   },
   "outputs": [],
   "source": [
    "m = pd.get_dummies(df.month, prefix='Month')\n",
    "m_t = pd.get_dummies(df_test.month, prefix='Month')\n",
    "\n",
    "df = pd.concat([df, m], axis = 1)\n",
    "df_test = pd.concat([df_test, m_t], axis = 1)\n",
    "\n",
    "#q = pd.get_dummies(df.quarter, prefix='Quarter')\n",
    "#q_t = pd.get_dummies(df_test.quarter, prefix='Quarter')\n",
    "\n",
    "#df = pd.concat([df, q], axis = 1)\n",
    "df = df.drop(['quarter','month'],axis = 1)\n",
    "#df_test = pd.concat([df_test, q_t], axis = 1)\n",
    "df_test = df_test.drop(['quarter','month'],axis = 1)\n",
    "\n",
    "df=df.drop(['Month_1'],axis=1)\n",
    "df_test=df_test.drop(['Month_1'],axis=1)"
   ]
  },
  {
   "cell_type": "code",
   "execution_count": 157,
   "metadata": {
    "colab": {
     "base_uri": "https://localhost:8080/"
    },
    "id": "IZxC6b0zRmOe",
    "outputId": "a2db466a-a8ef-42fc-af82-3d840d0cbce8"
   },
   "outputs": [
    {
     "data": {
      "text/plain": [
       "66"
      ]
     },
     "execution_count": 157,
     "metadata": {},
     "output_type": "execute_result"
    }
   ],
   "source": [
    "len(df_test.columns)"
   ]
  },
  {
   "cell_type": "code",
   "execution_count": 158,
   "metadata": {
    "colab": {
     "base_uri": "https://localhost:8080/"
    },
    "id": "zcQvg1jlRtG-",
    "outputId": "9c411004-85d0-4991-d799-b0a54a19773d"
   },
   "outputs": [
    {
     "data": {
      "text/plain": [
       "67"
      ]
     },
     "execution_count": 158,
     "metadata": {},
     "output_type": "execute_result"
    }
   ],
   "source": [
    "len(df.columns)"
   ]
  },
  {
   "cell_type": "code",
   "execution_count": 159,
   "metadata": {
    "colab": {
     "base_uri": "https://localhost:8080/"
    },
    "id": "sstYj4VMSDyW",
    "outputId": "dab8496b-dddd-4c08-c7e9-930261745416"
   },
   "outputs": [
    {
     "data": {
      "text/plain": [
       "Index(['discount', 'price', 'no of items', 'profit', 'departure city_0',\n",
       "       'departure city_1', 'departure city_2', 'departure city_3',\n",
       "       'departure city_4', 'departure city_5', 'departure city_6',\n",
       "       'departure city_7', 'departure city_8', 'departure city_9',\n",
       "       'departure city_10', 'departure state_0', 'departure state_1',\n",
       "       'departure state_2', 'departure state_3', 'departure state_4',\n",
       "       'departure state_5', 'departure state_6', 'add_col_0', 'add_col_1',\n",
       "       'add_col_2', 'add_col_3', 'add_col_4', 'add_col_5', 'add_col_6',\n",
       "       'add_col_7', 'Location_East', 'Location_South', 'Location_West',\n",
       "       'Segment_Consumer', 'Segment_Home Office', 'Class_fynota',\n",
       "       'Class_kariox', 'sub-class_battery', 'sub-class_charger',\n",
       "       'sub-class_chocolates', 'sub-class_colddrinks', 'sub-class_fastfood',\n",
       "       'sub-class_headset', 'sub-class_hoodies', 'sub-class_laptop',\n",
       "       'sub-class_lighting', 'sub-class_pants', 'sub-class_phone',\n",
       "       'sub-class_shorts', 'sub-class_tablet', 'sub-class_television',\n",
       "       'sub-class_tshirts', 'sub-class_watch', 'dtype_First Class',\n",
       "       'dtype_Second Class', 'dtype_Standard Class', 'Month_2', 'Month_3',\n",
       "       'Month_4', 'Month_5', 'Month_6', 'Month_7', 'Month_8', 'Month_9',\n",
       "       'Month_10', 'Month_11', 'Month_12'],\n",
       "      dtype='object')"
      ]
     },
     "execution_count": 159,
     "metadata": {},
     "output_type": "execute_result"
    }
   ],
   "source": [
    "df.columns"
   ]
  },
  {
   "cell_type": "code",
   "execution_count": 160,
   "metadata": {
    "colab": {
     "base_uri": "https://localhost:8080/"
    },
    "id": "y6RsPJekSJxF",
    "outputId": "9111c8e9-9100-499a-8c56-dbeacc9c83f4"
   },
   "outputs": [
    {
     "data": {
      "text/plain": [
       "Index(['discount', 'price', 'no of items', 'departure city_0',\n",
       "       'departure city_1', 'departure city_2', 'departure city_3',\n",
       "       'departure city_4', 'departure city_5', 'departure city_6',\n",
       "       'departure city_7', 'departure city_8', 'departure city_9',\n",
       "       'departure city_10', 'departure state_0', 'departure state_1',\n",
       "       'departure state_2', 'departure state_3', 'departure state_4',\n",
       "       'departure state_5', 'departure state_6', 'add_col_0', 'add_col_1',\n",
       "       'add_col_2', 'add_col_3', 'add_col_4', 'add_col_5', 'add_col_6',\n",
       "       'add_col_7', 'Location_East', 'Location_South', 'Location_West',\n",
       "       'Segment_Consumer', 'Segment_Home Office', 'Class_fynota',\n",
       "       'Class_kariox', 'sub-class_battery', 'sub-class_charger',\n",
       "       'sub-class_chocolates', 'sub-class_colddrinks', 'sub-class_fastfood',\n",
       "       'sub-class_headset', 'sub-class_hoodies', 'sub-class_laptop',\n",
       "       'sub-class_lighting', 'sub-class_pants', 'sub-class_phone',\n",
       "       'sub-class_shorts', 'sub-class_tablet', 'sub-class_television',\n",
       "       'sub-class_tshirts', 'sub-class_watch', 'dtype_First Class',\n",
       "       'dtype_Second Class', 'dtype_Standard Class', 'Month_2', 'Month_3',\n",
       "       'Month_4', 'Month_5', 'Month_6', 'Month_7', 'Month_8', 'Month_9',\n",
       "       'Month_10', 'Month_11', 'Month_12'],\n",
       "      dtype='object')"
      ]
     },
     "execution_count": 160,
     "metadata": {},
     "output_type": "execute_result"
    }
   ],
   "source": [
    "df_test.columns"
   ]
  },
  {
   "cell_type": "markdown",
   "metadata": {
    "id": "1IlnnaBdyVAv"
   },
   "source": [
    "# **Model Preparation**"
   ]
  },
  {
   "cell_type": "code",
   "execution_count": 161,
   "metadata": {
    "id": "7e7jBnkEyX9x"
   },
   "outputs": [],
   "source": [
    "y_train = df['profit']"
   ]
  },
  {
   "cell_type": "code",
   "execution_count": 162,
   "metadata": {
    "id": "ICRv1pAYygIp"
   },
   "outputs": [],
   "source": [
    "x_train = df.drop(['profit'], axis = 1)"
   ]
  },
  {
   "cell_type": "code",
   "execution_count": 163,
   "metadata": {
    "colab": {
     "base_uri": "https://localhost:8080/"
    },
    "id": "KihShyAxykbf",
    "outputId": "2d1ea122-19cf-484a-ac08-9d7d81c8e758"
   },
   "outputs": [
    {
     "data": {
      "text/plain": [
       "XGBRegressor(base_score=0.5, booster='gbtree', colsample_bylevel=1,\n",
       "             colsample_bynode=1, colsample_bytree=1, gamma=0, gpu_id=-1,\n",
       "             importance_type='gain', interaction_constraints='',\n",
       "             learning_rate=0.300000012, max_delta_step=0, max_depth=6,\n",
       "             min_child_weight=1, missing=nan, monotone_constraints='()',\n",
       "             n_estimators=100, n_jobs=4, num_parallel_tree=1, random_state=0,\n",
       "             reg_alpha=0, reg_lambda=1, scale_pos_weight=1, subsample=1,\n",
       "             tree_method='exact', validate_parameters=1, verbosity=None)"
      ]
     },
     "execution_count": 163,
     "metadata": {},
     "output_type": "execute_result"
    }
   ],
   "source": [
    "import xgboost\n",
    "classifier = xgboost.XGBRegressor()\n",
    "classifier.fit(x_train, y_train)"
   ]
  },
  {
   "cell_type": "code",
   "execution_count": 164,
   "metadata": {
    "id": "BdNIFV6NynUv"
   },
   "outputs": [],
   "source": [
    "import pickle\n",
    "filename = 'finalized_model.pkl'\n",
    "pickle.dump(classifier, open(filename, 'wb'))"
   ]
  },
  {
   "cell_type": "code",
   "execution_count": 165,
   "metadata": {
    "id": "JtbTA87ayteQ"
   },
   "outputs": [],
   "source": [
    "y_pred = classifier.predict(df_test)"
   ]
  },
  {
   "cell_type": "code",
   "execution_count": 166,
   "metadata": {
    "colab": {
     "base_uri": "https://localhost:8080/"
    },
    "id": "IRSQRdB7yyYv",
    "outputId": "2665a9b2-e254-4524-fce5-b3b4537e123f"
   },
   "outputs": [
    {
     "data": {
      "text/plain": [
       "array([ 7.4565887, 36.455437 ,  1.9124272, ..., 20.393919 , -3.510076 ,\n",
       "        0.3506096], dtype=float32)"
      ]
     },
     "execution_count": 166,
     "metadata": {},
     "output_type": "execute_result"
    }
   ],
   "source": [
    "y_pred"
   ]
  },
  {
   "cell_type": "code",
   "execution_count": 167,
   "metadata": {
    "id": "n9kErKLsy4HC"
   },
   "outputs": [],
   "source": [
    "pred = pd.DataFrame(y_pred)\n",
    "sub_df = pd.read_csv('https://raw.githubusercontent.com/imswatantra/KDAG/main/sampleSolution.csv')\n",
    "datasets = pd.concat([sub_df['id'], pred], axis = 1)\n",
    "datasets.columns = ['id', 'profit']\n",
    "datasets.to_csv('sample_submission_without_Quarter.csv', index = False)"
   ]
  },
  {
   "cell_type": "code",
   "execution_count": 168,
   "metadata": {
    "scrolled": false
   },
   "outputs": [
    {
     "data": {
      "text/plain": [
       "<AxesSubplot:>"
      ]
     },
     "execution_count": 168,
     "metadata": {},
     "output_type": "execute_result"
    },
    {
     "data": {
      "image/png": "[encoded data removed]",
      "text/plain": [
       "<Figure size 1080x1080 with 1 Axes>"
      ]
     },
     "metadata": {
      "needs_background": "light"
     },
     "output_type": "display_data"
    }
   ],
   "source": [
    "feature_important = classifier.get_booster().get_score(importance_type='gain')\n",
    "keys = list(feature_important.keys())\n",
    "values = list(feature_important.values())\n",
    "\n",
    "data = pd.DataFrame(data=values, index=keys, columns=[\"score\"]).sort_values(by = \"score\", ascending=False)\n",
    "data.plot(kind='barh',fontsize = 10,figsize = (15,15))"
   ]
  },
  {
   "cell_type": "code",
   "execution_count": 169,
   "metadata": {
    "id": "mHBgP0R90Hhh"
   },
   "outputs": [
    {
     "data": {
      "text/plain": [
       "67"
      ]
     },
     "execution_count": 169,
     "metadata": {},
     "output_type": "execute_result"
    }
   ],
   "source": [
    "len(df.columns)"
   ]
  },
  {
   "cell_type": "code",
   "execution_count": 170,
   "metadata": {
    "id": "Sr737v6pzeyA"
   },
   "outputs": [
    {
     "data": {
      "text/plain": [
       "66"
      ]
     },
     "execution_count": 170,
     "metadata": {},
     "output_type": "execute_result"
    }
   ],
   "source": [
    "len(df_test.columns)"
   ]
  },
  {
   "cell_type": "code",
   "execution_count": 171,
   "metadata": {
    "colab": {
     "base_uri": "https://localhost:8080/",
     "height": 402
    },
    "id": "n_MVRgKgzlHi",
    "outputId": "8cb1801e-0db7-4dc4-c4bf-3c16eaeca820"
   },
   "outputs": [
    {
     "data": {
      "text/plain": [
       "Index(['discount', 'price', 'no of items', 'profit', 'departure city_0',\n",
       "       'departure city_1', 'departure city_2', 'departure city_3',\n",
       "       'departure city_4', 'departure city_5', 'departure city_6',\n",
       "       'departure city_7', 'departure city_8', 'departure city_9',\n",
       "       'departure city_10', 'departure state_0', 'departure state_1',\n",
       "       'departure state_2', 'departure state_3', 'departure state_4',\n",
       "       'departure state_5', 'departure state_6', 'add_col_0', 'add_col_1',\n",
       "       'add_col_2', 'add_col_3', 'add_col_4', 'add_col_5', 'add_col_6',\n",
       "       'add_col_7', 'Location_East', 'Location_South', 'Location_West',\n",
       "       'Segment_Consumer', 'Segment_Home Office', 'Class_fynota',\n",
       "       'Class_kariox', 'sub-class_battery', 'sub-class_charger',\n",
       "       'sub-class_chocolates', 'sub-class_colddrinks', 'sub-class_fastfood',\n",
       "       'sub-class_headset', 'sub-class_hoodies', 'sub-class_laptop',\n",
       "       'sub-class_lighting', 'sub-class_pants', 'sub-class_phone',\n",
       "       'sub-class_shorts', 'sub-class_tablet', 'sub-class_television',\n",
       "       'sub-class_tshirts', 'sub-class_watch', 'dtype_First Class',\n",
       "       'dtype_Second Class', 'dtype_Standard Class', 'Month_2', 'Month_3',\n",
       "       'Month_4', 'Month_5', 'Month_6', 'Month_7', 'Month_8', 'Month_9',\n",
       "       'Month_10', 'Month_11', 'Month_12'],\n",
       "      dtype='object')"
      ]
     },
     "execution_count": 171,
     "metadata": {},
     "output_type": "execute_result"
    }
   ],
   "source": [
    "df.columns"
   ]
  },
  {
   "cell_type": "code",
   "execution_count": 172,
   "metadata": {},
   "outputs": [
    {
     "data": {
      "text/plain": [
       "Index(['discount', 'price', 'no of items', 'departure city_0',\n",
       "       'departure city_1', 'departure city_2', 'departure city_3',\n",
       "       'departure city_4', 'departure city_5', 'departure city_6',\n",
       "       'departure city_7', 'departure city_8', 'departure city_9',\n",
       "       'departure city_10', 'departure state_0', 'departure state_1',\n",
       "       'departure state_2', 'departure state_3', 'departure state_4',\n",
       "       'departure state_5', 'departure state_6', 'add_col_0', 'add_col_1',\n",
       "       'add_col_2', 'add_col_3', 'add_col_4', 'add_col_5', 'add_col_6',\n",
       "       'add_col_7', 'Location_East', 'Location_South', 'Location_West',\n",
       "       'Segment_Consumer', 'Segment_Home Office', 'Class_fynota',\n",
       "       'Class_kariox', 'sub-class_battery', 'sub-class_charger',\n",
       "       'sub-class_chocolates', 'sub-class_colddrinks', 'sub-class_fastfood',\n",
       "       'sub-class_headset', 'sub-class_hoodies', 'sub-class_laptop',\n",
       "       'sub-class_lighting', 'sub-class_pants', 'sub-class_phone',\n",
       "       'sub-class_shorts', 'sub-class_tablet', 'sub-class_television',\n",
       "       'sub-class_tshirts', 'sub-class_watch', 'dtype_First Class',\n",
       "       'dtype_Second Class', 'dtype_Standard Class', 'Month_2', 'Month_3',\n",
       "       'Month_4', 'Month_5', 'Month_6', 'Month_7', 'Month_8', 'Month_9',\n",
       "       'Month_10', 'Month_11', 'Month_12'],\n",
       "      dtype='object')"
      ]
     },
     "execution_count": 172,
     "metadata": {},
     "output_type": "execute_result"
    }
   ],
   "source": [
    "df_test.columns"
   ]
  },
  {
   "cell_type": "code",
   "execution_count": null,
   "metadata": {},
   "outputs": [],
   "source": []
  },
  {
   "cell_type": "code",
   "execution_count": 173,
   "metadata": {},
   "outputs": [
    {
     "data": {
      "image/png": "[encoded data removed]",
      "text/plain": [
       "<Figure size 432x288 with 1 Axes>"
      ]
     },
     "metadata": {
      "needs_background": "light"
     },
     "output_type": "display_data"
    }
   ],
   "source": [
    "sns.boxplot(y= df_test_copy['price'])\n",
    "plt.show()"
   ]
  },
  {
   "cell_type": "code",
   "execution_count": null,
   "metadata": {},
   "outputs": [],
   "source": []
  },
  {
   "cell_type": "code",
   "execution_count": null,
   "metadata": {},
   "outputs": [],
   "source": []
  }
 ],
 "metadata": {
  "accelerator": "GPU",
  "colab": {
   "collapsed_sections": [],
   "name": "KDAG Competition Team DataX.ipynb",
   "provenance": []
  },
  "kernelspec": {
   "display_name": "Python 3",
   "language": "python",
   "name": "python3"
  },
  "language_info": {
   "codemirror_mode": {
    "name": "ipython",
    "version": 3
   },
   "file_extension": ".py",
   "mimetype": "text/x-python",
   "name": "python",
   "nbconvert_exporter": "python",
   "pygments_lexer": "ipython3",
   "version": "3.8.5"
  }
 },
 "nbformat": 4,
 "nbformat_minor": 1
}
